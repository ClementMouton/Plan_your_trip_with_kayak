{
 "cells": [
  {
   "cell_type": "code",
   "execution_count": 1,
   "metadata": {},
   "outputs": [],
   "source": [
    "from datetime import datetime, date, timedelta\n",
    "import calendar\n",
    "import os\n",
    "import logging\n",
    "import scrapy\n",
    "from scrapy.crawler import CrawlerProcess\n",
    "\n",
    "from bs4 import BeautifulSoup\n",
    "\n",
    "import requests\n",
    "import pandas as pd\n",
    "import numpy as np\n",
    "from statistics import mode\n",
    "import plotly.express as px\n",
    "import plotly.graph_objects as go\n",
    "import time\n",
    "\n",
    "import requests\n",
    "import pandas as pd\n",
    "from bs4 import BeautifulSoup\n",
    "import os\n",
    "import plotly.express as px\n",
    "import plotly.io as pio\n",
    "\n",
    "import boto3\n",
    "from sqlalchemy import create_engine, text"
   ]
  },
  {
   "cell_type": "code",
   "execution_count": 2,
   "metadata": {},
   "outputs": [],
   "source": [
    "cities = ['Mont Saint Michel', 'St Malo', \"Bayeux\", \"Le Havre\", \"Rouen\", \"Paris\", \"Amiens\", \"Lille\", \"Strasbourg\", \"Chateau du Haut Koenigsbourg\", \"Colmar\", \"Eguisheim\", \"Besancon\", \"Dijon\", \"Annecy\", \"Grenoble\", \"Lyon\", \"Gorges du Verdon\", \"Bormes les Mimosas\", \"Cassis\", \"Marseille\", \"Aix en Provence\", \"Avignon\", \"Uzes\", \"Nimes\", \"Aigues Mortes\", \"Saintes Maries de la mer\", \"Collioure\", \"Carcassonne\", \"Ariege\", \"Toulouse\", \"Montauban\", \"Biarritz\", \"Bayonne\", \"La Rochelle\"]"
   ]
  },
  {
   "cell_type": "code",
   "execution_count": 3,
   "metadata": {},
   "outputs": [],
   "source": [
    "url = \"https://nominatim.openstreetmap.org/search?\"\n",
    "user_agent = \"project_kayak/1.0 (mouton.cl@gmail.com)\"\n",
    "\n",
    "def find_gps(address, format='json'):\n",
    "    params = {\"q\": address, \"format\": format}\n",
    "    headers = {\"User-Agent\": user_agent}\n",
    "    response = requests.get(url, params=params, headers=headers)\n",
    "    \n",
    "    if response.status_code != 200:\n",
    "        print(f\"Erreur: Réponse avec le code de statut {response.status_code} pour l'adresse '{address}'\")\n",
    "        return None\n",
    "    \n",
    "    try:\n",
    "        return response.json()\n",
    "    except ValueError:\n",
    "        print(f\"Erreur: Impossible de parser la réponse JSON pour l'adresse '{address}'\")\n",
    "        print(f\"Contenu de la réponse: {response.text}\")\n",
    "        return None\n",
    "\n",
    "columns = ['id', 'name', 'latitude', 'longitude']\n",
    "data = []\n",
    "\n",
    "for count, city in enumerate(cities):\n",
    "    response = find_gps(address = city)\n",
    "    row =[count, city, response[0]['lat'], response[0]['lon']]\n",
    "    data.append(row)\n",
    "    time.sleep(1)\n",
    "    \n",
    "df_cities = pd.DataFrame(data=data, columns=columns)"
   ]
  },
  {
   "cell_type": "code",
   "execution_count": 6,
   "metadata": {},
   "outputs": [
    {
     "data": {
      "text/html": [
       "<div>\n",
       "<style scoped>\n",
       "    .dataframe tbody tr th:only-of-type {\n",
       "        vertical-align: middle;\n",
       "    }\n",
       "\n",
       "    .dataframe tbody tr th {\n",
       "        vertical-align: top;\n",
       "    }\n",
       "\n",
       "    .dataframe thead th {\n",
       "        text-align: right;\n",
       "    }\n",
       "</style>\n",
       "<table border=\"1\" class=\"dataframe\">\n",
       "  <thead>\n",
       "    <tr style=\"text-align: right;\">\n",
       "      <th></th>\n",
       "      <th>id</th>\n",
       "      <th>name</th>\n",
       "      <th>latitude</th>\n",
       "      <th>longitude</th>\n",
       "    </tr>\n",
       "  </thead>\n",
       "  <tbody>\n",
       "    <tr>\n",
       "      <th>0</th>\n",
       "      <td>0</td>\n",
       "      <td>Mont Saint Michel</td>\n",
       "      <td>48.6359541</td>\n",
       "      <td>-1.511459954959514</td>\n",
       "    </tr>\n",
       "    <tr>\n",
       "      <th>1</th>\n",
       "      <td>1</td>\n",
       "      <td>St Malo</td>\n",
       "      <td>49.314695</td>\n",
       "      <td>-96.9538228</td>\n",
       "    </tr>\n",
       "    <tr>\n",
       "      <th>2</th>\n",
       "      <td>2</td>\n",
       "      <td>Bayeux</td>\n",
       "      <td>49.2764624</td>\n",
       "      <td>-0.7024738</td>\n",
       "    </tr>\n",
       "    <tr>\n",
       "      <th>3</th>\n",
       "      <td>3</td>\n",
       "      <td>Le Havre</td>\n",
       "      <td>49.4938975</td>\n",
       "      <td>0.1079732</td>\n",
       "    </tr>\n",
       "    <tr>\n",
       "      <th>4</th>\n",
       "      <td>4</td>\n",
       "      <td>Rouen</td>\n",
       "      <td>49.4404591</td>\n",
       "      <td>1.0939658</td>\n",
       "    </tr>\n",
       "  </tbody>\n",
       "</table>\n",
       "</div>"
      ],
      "text/plain": [
       "   id               name    latitude           longitude\n",
       "0   0  Mont Saint Michel  48.6359541  -1.511459954959514\n",
       "1   1            St Malo   49.314695         -96.9538228\n",
       "2   2             Bayeux  49.2764624          -0.7024738\n",
       "3   3           Le Havre  49.4938975           0.1079732\n",
       "4   4              Rouen  49.4404591           1.0939658"
      ]
     },
     "metadata": {},
     "output_type": "display_data"
    }
   ],
   "source": [
    "display(df_cities.head())\n",
    "df_cities.to_csv('files/cities_infos.csv', index=False)"
   ]
  },
  {
   "cell_type": "markdown",
   "metadata": {},
   "source": [
    "# Weather"
   ]
  },
  {
   "cell_type": "code",
   "execution_count": 8,
   "metadata": {},
   "outputs": [],
   "source": [
    "api_key = \"01c1f72fc7a91c71b390a1cd59948cd0\""
   ]
  },
  {
   "cell_type": "code",
   "execution_count": 9,
   "metadata": {},
   "outputs": [
    {
     "name": "stdout",
     "output_type": "stream",
     "text": [
      "{'lat': 48.636, 'lon': -1.5115, 'timezone': 'Europe/Paris', 'timezone_offset': 7200, 'current': {'dt': 1721227982, 'sunrise': 1721190113, 'sunset': 1721246529, 'temp': 24.58, 'feels_like': 24.71, 'pressure': 1020, 'humidity': 62, 'dew_point': 16.82, 'uvi': 3.78, 'clouds': 74, 'visibility': 10000, 'wind_speed': 1.22, 'wind_deg': 151, 'wind_gust': 3.05, 'weather': [{'id': 803, 'main': 'Clouds', 'description': 'broken clouds', 'icon': '04d'}]}, 'minutely': [{'dt': 1721228040, 'precipitation': 0}, {'dt': 1721228100, 'precipitation': 0}, {'dt': 1721228160, 'precipitation': 0}, {'dt': 1721228220, 'precipitation': 0}, {'dt': 1721228280, 'precipitation': 0}, {'dt': 1721228340, 'precipitation': 0}, {'dt': 1721228400, 'precipitation': 0}, {'dt': 1721228460, 'precipitation': 0}, {'dt': 1721228520, 'precipitation': 0}, {'dt': 1721228580, 'precipitation': 0}, {'dt': 1721228640, 'precipitation': 0}, {'dt': 1721228700, 'precipitation': 0}, {'dt': 1721228760, 'precipitation': 0}, {'dt': 1721228820, 'precipitation': 0}, {'dt': 1721228880, 'precipitation': 0}, {'dt': 1721228940, 'precipitation': 0}, {'dt': 1721229000, 'precipitation': 0}, {'dt': 1721229060, 'precipitation': 0}, {'dt': 1721229120, 'precipitation': 0}, {'dt': 1721229180, 'precipitation': 0}, {'dt': 1721229240, 'precipitation': 0}, {'dt': 1721229300, 'precipitation': 0}, {'dt': 1721229360, 'precipitation': 0}, {'dt': 1721229420, 'precipitation': 0}, {'dt': 1721229480, 'precipitation': 0}, {'dt': 1721229540, 'precipitation': 0}, {'dt': 1721229600, 'precipitation': 0}, {'dt': 1721229660, 'precipitation': 0}, {'dt': 1721229720, 'precipitation': 0}, {'dt': 1721229780, 'precipitation': 0}, {'dt': 1721229840, 'precipitation': 0}, {'dt': 1721229900, 'precipitation': 0}, {'dt': 1721229960, 'precipitation': 0}, {'dt': 1721230020, 'precipitation': 0}, {'dt': 1721230080, 'precipitation': 0}, {'dt': 1721230140, 'precipitation': 0}, {'dt': 1721230200, 'precipitation': 0}, {'dt': 1721230260, 'precipitation': 0}, {'dt': 1721230320, 'precipitation': 0}, {'dt': 1721230380, 'precipitation': 0}, {'dt': 1721230440, 'precipitation': 0}, {'dt': 1721230500, 'precipitation': 0}, {'dt': 1721230560, 'precipitation': 0}, {'dt': 1721230620, 'precipitation': 0}, {'dt': 1721230680, 'precipitation': 0}, {'dt': 1721230740, 'precipitation': 0}, {'dt': 1721230800, 'precipitation': 0}, {'dt': 1721230860, 'precipitation': 0}, {'dt': 1721230920, 'precipitation': 0}, {'dt': 1721230980, 'precipitation': 0}, {'dt': 1721231040, 'precipitation': 0}, {'dt': 1721231100, 'precipitation': 0}, {'dt': 1721231160, 'precipitation': 0}, {'dt': 1721231220, 'precipitation': 0}, {'dt': 1721231280, 'precipitation': 0}, {'dt': 1721231340, 'precipitation': 0}, {'dt': 1721231400, 'precipitation': 0}, {'dt': 1721231460, 'precipitation': 0}, {'dt': 1721231520, 'precipitation': 0}, {'dt': 1721231580, 'precipitation': 0}], 'hourly': [{'dt': 1721224800, 'temp': 24.16, 'feels_like': 24.22, 'pressure': 1020, 'humidity': 61, 'dew_point': 16.17, 'uvi': 5.19, 'clouds': 72, 'visibility': 10000, 'wind_speed': 0.5, 'wind_deg': 223, 'wind_gust': 2.65, 'weather': [{'id': 803, 'main': 'Clouds', 'description': 'broken clouds', 'icon': '04d'}], 'pop': 0}, {'dt': 1721228400, 'temp': 24.58, 'feels_like': 24.71, 'pressure': 1020, 'humidity': 62, 'dew_point': 16.82, 'uvi': 3.78, 'clouds': 74, 'visibility': 10000, 'wind_speed': 1.22, 'wind_deg': 151, 'wind_gust': 3.05, 'weather': [{'id': 803, 'main': 'Clouds', 'description': 'broken clouds', 'icon': '04d'}], 'pop': 0}, {'dt': 1721232000, 'temp': 23.99, 'feels_like': 24.09, 'pressure': 1020, 'humidity': 63, 'dew_point': 16.52, 'uvi': 2.26, 'clouds': 76, 'visibility': 10000, 'wind_speed': 1.99, 'wind_deg': 159, 'wind_gust': 3.06, 'weather': [{'id': 803, 'main': 'Clouds', 'description': 'broken clouds', 'icon': '04d'}], 'pop': 0}, {'dt': 1721235600, 'temp': 23.37, 'feels_like': 23.43, 'pressure': 1020, 'humidity': 64, 'dew_point': 16.18, 'uvi': 1.13, 'clouds': 78, 'visibility': 10000, 'wind_speed': 1.65, 'wind_deg': 138, 'wind_gust': 2.76, 'weather': [{'id': 803, 'main': 'Clouds', 'description': 'broken clouds', 'icon': '04d'}], 'pop': 0}, {'dt': 1721239200, 'temp': 22.69, 'feels_like': 22.79, 'pressure': 1020, 'humidity': 68, 'dew_point': 16.48, 'uvi': 0.46, 'clouds': 82, 'visibility': 10000, 'wind_speed': 1.52, 'wind_deg': 114, 'wind_gust': 3.03, 'weather': [{'id': 803, 'main': 'Clouds', 'description': 'broken clouds', 'icon': '04d'}], 'pop': 0}, {'dt': 1721242800, 'temp': 20.96, 'feels_like': 21.07, 'pressure': 1020, 'humidity': 75, 'dew_point': 16.36, 'uvi': 0.13, 'clouds': 95, 'visibility': 10000, 'wind_speed': 1.2, 'wind_deg': 60, 'wind_gust': 1.24, 'weather': [{'id': 804, 'main': 'Clouds', 'description': 'overcast clouds', 'icon': '04d'}], 'pop': 0}, {'dt': 1721246400, 'temp': 18.2, 'feels_like': 18.22, 'pressure': 1020, 'humidity': 82, 'dew_point': 14.9, 'uvi': 0, 'clouds': 100, 'visibility': 10000, 'wind_speed': 1.8, 'wind_deg': 54, 'wind_gust': 1.74, 'weather': [{'id': 804, 'main': 'Clouds', 'description': 'overcast clouds', 'icon': '04d'}], 'pop': 0}, {'dt': 1721250000, 'temp': 17.39, 'feels_like': 17.4, 'pressure': 1020, 'humidity': 85, 'dew_point': 14.57, 'uvi': 0, 'clouds': 100, 'visibility': 10000, 'wind_speed': 2.3, 'wind_deg': 61, 'wind_gust': 2.13, 'weather': [{'id': 804, 'main': 'Clouds', 'description': 'overcast clouds', 'icon': '04n'}], 'pop': 0}, {'dt': 1721253600, 'temp': 17.09, 'feels_like': 17.05, 'pressure': 1020, 'humidity': 84, 'dew_point': 14.12, 'uvi': 0, 'clouds': 100, 'visibility': 10000, 'wind_speed': 2.78, 'wind_deg': 78, 'wind_gust': 2.41, 'weather': [{'id': 804, 'main': 'Clouds', 'description': 'overcast clouds', 'icon': '04n'}], 'pop': 0}, {'dt': 1721257200, 'temp': 17.38, 'feels_like': 17.26, 'pressure': 1020, 'humidity': 80, 'dew_point': 13.68, 'uvi': 0, 'clouds': 100, 'visibility': 10000, 'wind_speed': 3.03, 'wind_deg': 93, 'wind_gust': 4.1, 'weather': [{'id': 804, 'main': 'Clouds', 'description': 'overcast clouds', 'icon': '04n'}], 'pop': 0}, {'dt': 1721260800, 'temp': 17.28, 'feels_like': 17.13, 'pressure': 1020, 'humidity': 79, 'dew_point': 13.51, 'uvi': 0, 'clouds': 100, 'visibility': 10000, 'wind_speed': 2.99, 'wind_deg': 92, 'wind_gust': 4.53, 'weather': [{'id': 804, 'main': 'Clouds', 'description': 'overcast clouds', 'icon': '04n'}], 'pop': 0}, {'dt': 1721264400, 'temp': 16.9, 'feels_like': 16.79, 'pressure': 1020, 'humidity': 82, 'dew_point': 13.52, 'uvi': 0, 'clouds': 96, 'visibility': 10000, 'wind_speed': 3.25, 'wind_deg': 100, 'wind_gust': 5.38, 'weather': [{'id': 804, 'main': 'Clouds', 'description': 'overcast clouds', 'icon': '04n'}], 'pop': 0}, {'dt': 1721268000, 'temp': 16.23, 'feels_like': 16.1, 'pressure': 1019, 'humidity': 84, 'dew_point': 13.27, 'uvi': 0, 'clouds': 78, 'visibility': 10000, 'wind_speed': 3.03, 'wind_deg': 111, 'wind_gust': 3.98, 'weather': [{'id': 803, 'main': 'Clouds', 'description': 'broken clouds', 'icon': '04n'}], 'pop': 0}, {'dt': 1721271600, 'temp': 15.93, 'feels_like': 15.77, 'pressure': 1019, 'humidity': 84, 'dew_point': 13.01, 'uvi': 0, 'clouds': 83, 'visibility': 10000, 'wind_speed': 3.34, 'wind_deg': 125, 'wind_gust': 5.17, 'weather': [{'id': 803, 'main': 'Clouds', 'description': 'broken clouds', 'icon': '04n'}], 'pop': 0}, {'dt': 1721275200, 'temp': 15.71, 'feels_like': 15.53, 'pressure': 1019, 'humidity': 84, 'dew_point': 12.87, 'uvi': 0, 'clouds': 87, 'visibility': 10000, 'wind_speed': 3.02, 'wind_deg': 134, 'wind_gust': 4.17, 'weather': [{'id': 804, 'main': 'Clouds', 'description': 'overcast clouds', 'icon': '04n'}], 'pop': 0}, {'dt': 1721278800, 'temp': 15.78, 'feels_like': 15.61, 'pressure': 1020, 'humidity': 84, 'dew_point': 13.02, 'uvi': 0.09, 'clouds': 89, 'visibility': 10000, 'wind_speed': 2.82, 'wind_deg': 138, 'wind_gust': 3.67, 'weather': [{'id': 804, 'main': 'Clouds', 'description': 'overcast clouds', 'icon': '04d'}], 'pop': 0}, {'dt': 1721282400, 'temp': 17.11, 'feels_like': 17.02, 'pressure': 1020, 'humidity': 82, 'dew_point': 13.84, 'uvi': 0.35, 'clouds': 91, 'visibility': 10000, 'wind_speed': 2.62, 'wind_deg': 138, 'wind_gust': 4.86, 'weather': [{'id': 804, 'main': 'Clouds', 'description': 'overcast clouds', 'icon': '04d'}], 'pop': 0}, {'dt': 1721286000, 'temp': 18.57, 'feels_like': 18.52, 'pressure': 1020, 'humidity': 78, 'dew_point': 14.48, 'uvi': 0.68, 'clouds': 100, 'visibility': 10000, 'wind_speed': 2.48, 'wind_deg': 143, 'wind_gust': 3.76, 'weather': [{'id': 804, 'main': 'Clouds', 'description': 'overcast clouds', 'icon': '04d'}], 'pop': 0}, {'dt': 1721289600, 'temp': 20.34, 'feels_like': 20.34, 'pressure': 1020, 'humidity': 73, 'dew_point': 15.18, 'uvi': 1.75, 'clouds': 100, 'visibility': 10000, 'wind_speed': 2.39, 'wind_deg': 148, 'wind_gust': 3.12, 'weather': [{'id': 804, 'main': 'Clouds', 'description': 'overcast clouds', 'icon': '04d'}], 'pop': 0}, {'dt': 1721293200, 'temp': 21.69, 'feels_like': 21.72, 'pressure': 1020, 'humidity': 69, 'dew_point': 15.66, 'uvi': 3.35, 'clouds': 100, 'visibility': 10000, 'wind_speed': 2.26, 'wind_deg': 151, 'wind_gust': 2.9, 'weather': [{'id': 804, 'main': 'Clouds', 'description': 'overcast clouds', 'icon': '04d'}], 'pop': 0}, {'dt': 1721296800, 'temp': 23.08, 'feels_like': 23.14, 'pressure': 1020, 'humidity': 65, 'dew_point': 16.03, 'uvi': 4.31, 'clouds': 98, 'visibility': 10000, 'wind_speed': 2.23, 'wind_deg': 150, 'wind_gust': 2.72, 'weather': [{'id': 804, 'main': 'Clouds', 'description': 'overcast clouds', 'icon': '04d'}], 'pop': 0}, {'dt': 1721300400, 'temp': 24.24, 'feels_like': 24.31, 'pressure': 1020, 'humidity': 61, 'dew_point': 16.03, 'uvi': 5.47, 'clouds': 93, 'visibility': 10000, 'wind_speed': 1.92, 'wind_deg': 152, 'wind_gust': 2.42, 'weather': [{'id': 804, 'main': 'Clouds', 'description': 'overcast clouds', 'icon': '04d'}], 'pop': 0}, {'dt': 1721304000, 'temp': 25.17, 'feels_like': 25.23, 'pressure': 1020, 'humidity': 57, 'dew_point': 15.95, 'uvi': 6.23, 'clouds': 94, 'visibility': 10000, 'wind_speed': 1.22, 'wind_deg': 162, 'wind_gust': 1.97, 'weather': [{'id': 804, 'main': 'Clouds', 'description': 'overcast clouds', 'icon': '04d'}], 'pop': 0}, {'dt': 1721307600, 'temp': 25.73, 'feels_like': 25.79, 'pressure': 1019, 'humidity': 55, 'dew_point': 15.7, 'uvi': 6.4, 'clouds': 100, 'visibility': 10000, 'wind_speed': 0.98, 'wind_deg': 162, 'wind_gust': 2.05, 'weather': [{'id': 804, 'main': 'Clouds', 'description': 'overcast clouds', 'icon': '04d'}], 'pop': 0}, {'dt': 1721311200, 'temp': 26.04, 'feels_like': 26.04, 'pressure': 1019, 'humidity': 53, 'dew_point': 15.62, 'uvi': 5.33, 'clouds': 100, 'visibility': 10000, 'wind_speed': 0.94, 'wind_deg': 181, 'wind_gust': 2.17, 'weather': [{'id': 804, 'main': 'Clouds', 'description': 'overcast clouds', 'icon': '04d'}], 'pop': 0}, {'dt': 1721314800, 'temp': 26.25, 'feels_like': 26.25, 'pressure': 1019, 'humidity': 53, 'dew_point': 15.79, 'uvi': 3.69, 'clouds': 99, 'visibility': 10000, 'wind_speed': 0.82, 'wind_deg': 193, 'wind_gust': 2.3, 'weather': [{'id': 804, 'main': 'Clouds', 'description': 'overcast clouds', 'icon': '04d'}], 'pop': 0}, {'dt': 1721318400, 'temp': 26.2, 'feels_like': 26.2, 'pressure': 1019, 'humidity': 54, 'dew_point': 15.97, 'uvi': 2.26, 'clouds': 88, 'visibility': 10000, 'wind_speed': 0.38, 'wind_deg': 238, 'wind_gust': 2.06, 'weather': [{'id': 804, 'main': 'Clouds', 'description': 'overcast clouds', 'icon': '04d'}], 'pop': 0}, {'dt': 1721322000, 'temp': 25.71, 'feels_like': 25.85, 'pressure': 1019, 'humidity': 58, 'dew_point': 16.45, 'uvi': 1.21, 'clouds': 84, 'visibility': 10000, 'wind_speed': 1.21, 'wind_deg': 323, 'wind_gust': 1.69, 'weather': [{'id': 803, 'main': 'Clouds', 'description': 'broken clouds', 'icon': '04d'}], 'pop': 0}, {'dt': 1721325600, 'temp': 23.93, 'feels_like': 24.23, 'pressure': 1019, 'humidity': 71, 'dew_point': 18.26, 'uvi': 0.49, 'clouds': 86, 'visibility': 10000, 'wind_speed': 2.93, 'wind_deg': 337, 'wind_gust': 2.94, 'weather': [{'id': 804, 'main': 'Clouds', 'description': 'overcast clouds', 'icon': '04d'}], 'pop': 0}, {'dt': 1721329200, 'temp': 21.54, 'feels_like': 21.86, 'pressure': 1019, 'humidity': 81, 'dew_point': 17.84, 'uvi': 0.13, 'clouds': 100, 'visibility': 10000, 'wind_speed': 3.13, 'wind_deg': 347, 'wind_gust': 3.83, 'weather': [{'id': 804, 'main': 'Clouds', 'description': 'overcast clouds', 'icon': '04d'}], 'pop': 0}, {'dt': 1721332800, 'temp': 19.86, 'feels_like': 20.15, 'pressure': 1019, 'humidity': 86, 'dew_point': 17.21, 'uvi': 0, 'clouds': 100, 'visibility': 10000, 'wind_speed': 2.61, 'wind_deg': 10, 'wind_gust': 3.63, 'weather': [{'id': 804, 'main': 'Clouds', 'description': 'overcast clouds', 'icon': '04d'}], 'pop': 0}, {'dt': 1721336400, 'temp': 19.5, 'feels_like': 19.73, 'pressure': 1019, 'humidity': 85, 'dew_point': 16.7, 'uvi': 0, 'clouds': 100, 'visibility': 10000, 'wind_speed': 2.27, 'wind_deg': 39, 'wind_gust': 2.7, 'weather': [{'id': 804, 'main': 'Clouds', 'description': 'overcast clouds', 'icon': '04n'}], 'pop': 0}, {'dt': 1721340000, 'temp': 19.22, 'feels_like': 19.39, 'pressure': 1019, 'humidity': 84, 'dew_point': 16.18, 'uvi': 0, 'clouds': 100, 'visibility': 10000, 'wind_speed': 1.99, 'wind_deg': 53, 'wind_gust': 2.16, 'weather': [{'id': 804, 'main': 'Clouds', 'description': 'overcast clouds', 'icon': '04n'}], 'pop': 0}, {'dt': 1721343600, 'temp': 19.03, 'feels_like': 19.16, 'pressure': 1019, 'humidity': 83, 'dew_point': 15.96, 'uvi': 0, 'clouds': 100, 'visibility': 10000, 'wind_speed': 1.61, 'wind_deg': 67, 'wind_gust': 1.53, 'weather': [{'id': 804, 'main': 'Clouds', 'description': 'overcast clouds', 'icon': '04n'}], 'pop': 0}, {'dt': 1721347200, 'temp': 18.79, 'feels_like': 18.92, 'pressure': 1019, 'humidity': 84, 'dew_point': 15.85, 'uvi': 0, 'clouds': 100, 'visibility': 10000, 'wind_speed': 1.45, 'wind_deg': 88, 'wind_gust': 1.48, 'weather': [{'id': 804, 'main': 'Clouds', 'description': 'overcast clouds', 'icon': '04n'}], 'pop': 0}, {'dt': 1721350800, 'temp': 18.47, 'feels_like': 18.62, 'pressure': 1019, 'humidity': 86, 'dew_point': 15.84, 'uvi': 0, 'clouds': 99, 'visibility': 10000, 'wind_speed': 1.26, 'wind_deg': 115, 'wind_gust': 1.21, 'weather': [{'id': 804, 'main': 'Clouds', 'description': 'overcast clouds', 'icon': '04n'}], 'pop': 0}, {'dt': 1721354400, 'temp': 18.12, 'feels_like': 18.23, 'pressure': 1018, 'humidity': 86, 'dew_point': 15.63, 'uvi': 0, 'clouds': 96, 'visibility': 10000, 'wind_speed': 1.3, 'wind_deg': 123, 'wind_gust': 1.28, 'weather': [{'id': 804, 'main': 'Clouds', 'description': 'overcast clouds', 'icon': '04n'}], 'pop': 0}, {'dt': 1721358000, 'temp': 17.8, 'feels_like': 17.91, 'pressure': 1018, 'humidity': 87, 'dew_point': 15.5, 'uvi': 0, 'clouds': 75, 'visibility': 10000, 'wind_speed': 1.26, 'wind_deg': 123, 'wind_gust': 1.27, 'weather': [{'id': 803, 'main': 'Clouds', 'description': 'broken clouds', 'icon': '04n'}], 'pop': 0}, {'dt': 1721361600, 'temp': 17.66, 'feels_like': 17.78, 'pressure': 1018, 'humidity': 88, 'dew_point': 15.37, 'uvi': 0, 'clouds': 58, 'visibility': 10000, 'wind_speed': 1.35, 'wind_deg': 139, 'wind_gust': 1.38, 'weather': [{'id': 803, 'main': 'Clouds', 'description': 'broken clouds', 'icon': '04n'}], 'pop': 0}, {'dt': 1721365200, 'temp': 17.66, 'feels_like': 17.78, 'pressure': 1018, 'humidity': 88, 'dew_point': 15.39, 'uvi': 0.09, 'clouds': 48, 'visibility': 10000, 'wind_speed': 1.2, 'wind_deg': 148, 'wind_gust': 1.26, 'weather': [{'id': 802, 'main': 'Clouds', 'description': 'scattered clouds', 'icon': '03d'}], 'pop': 0}, {'dt': 1721368800, 'temp': 19.33, 'feels_like': 19.51, 'pressure': 1018, 'humidity': 84, 'dew_point': 16.27, 'uvi': 0.4, 'clouds': 40, 'visibility': 10000, 'wind_speed': 1.01, 'wind_deg': 182, 'wind_gust': 1.11, 'weather': [{'id': 802, 'main': 'Clouds', 'description': 'scattered clouds', 'icon': '03d'}], 'pop': 0}, {'dt': 1721372400, 'temp': 20.65, 'feels_like': 20.83, 'pressure': 1019, 'humidity': 79, 'dew_point': 16.62, 'uvi': 1.08, 'clouds': 5, 'visibility': 10000, 'wind_speed': 0.84, 'wind_deg': 223, 'wind_gust': 0.93, 'weather': [{'id': 800, 'main': 'Clear', 'description': 'clear sky', 'icon': '01d'}], 'pop': 0}, {'dt': 1721376000, 'temp': 22, 'feels_like': 22.21, 'pressure': 1018, 'humidity': 75, 'dew_point': 17.14, 'uvi': 2.21, 'clouds': 6, 'visibility': 10000, 'wind_speed': 0.77, 'wind_deg': 213, 'wind_gust': 1.04, 'weather': [{'id': 800, 'main': 'Clear', 'description': 'clear sky', 'icon': '01d'}], 'pop': 0}, {'dt': 1721379600, 'temp': 23.28, 'feels_like': 23.52, 'pressure': 1018, 'humidity': 71, 'dew_point': 17.55, 'uvi': 3.51, 'clouds': 7, 'visibility': 10000, 'wind_speed': 0.76, 'wind_deg': 179, 'wind_gust': 1.43, 'weather': [{'id': 800, 'main': 'Clear', 'description': 'clear sky', 'icon': '01d'}], 'pop': 0}, {'dt': 1721383200, 'temp': 24.56, 'feels_like': 24.82, 'pressure': 1018, 'humidity': 67, 'dew_point': 17.83, 'uvi': 4.93, 'clouds': 10, 'visibility': 10000, 'wind_speed': 0.91, 'wind_deg': 175, 'wind_gust': 1.79, 'weather': [{'id': 800, 'main': 'Clear', 'description': 'clear sky', 'icon': '01d'}], 'pop': 0}, {'dt': 1721386800, 'temp': 25.55, 'feels_like': 25.83, 'pressure': 1018, 'humidity': 64, 'dew_point': 17.84, 'uvi': 6.16, 'clouds': 10, 'visibility': 10000, 'wind_speed': 1.11, 'wind_deg': 243, 'wind_gust': 2.01, 'weather': [{'id': 800, 'main': 'Clear', 'description': 'clear sky', 'icon': '01d'}], 'pop': 0}, {'dt': 1721390400, 'temp': 26.07, 'feels_like': 26.07, 'pressure': 1017, 'humidity': 62, 'dew_point': 17.95, 'uvi': 6.24, 'clouds': 18, 'visibility': 10000, 'wind_speed': 1.94, 'wind_deg': 288, 'wind_gust': 2.29, 'weather': [{'id': 801, 'main': 'Clouds', 'description': 'few clouds', 'icon': '02d'}], 'pop': 0}, {'dt': 1721394000, 'temp': 26.03, 'feels_like': 26.03, 'pressure': 1017, 'humidity': 64, 'dew_point': 18.37, 'uvi': 5.92, 'clouds': 86, 'visibility': 10000, 'wind_speed': 3, 'wind_deg': 313, 'wind_gust': 2.39, 'weather': [{'id': 804, 'main': 'Clouds', 'description': 'overcast clouds', 'icon': '04d'}], 'pop': 0}], 'daily': [{'dt': 1721217600, 'sunrise': 1721190113, 'sunset': 1721246529, 'moonrise': 1721235660, 'moonset': 1721174880, 'moon_phase': 0.36, 'summary': 'There will be partly cloudy today', 'temp': {'day': 22.64, 'min': 13.17, 'max': 24.58, 'night': 17.39, 'eve': 22.69, 'morn': 14.73}, 'feels_like': {'day': 22.6, 'night': 17.4, 'eve': 22.79, 'morn': 14.66}, 'pressure': 1021, 'humidity': 63, 'dew_point': 15.24, 'wind_speed': 2.83, 'wind_deg': 283, 'wind_gust': 3.83, 'weather': [{'id': 803, 'main': 'Clouds', 'description': 'broken clouds', 'icon': '04d'}], 'clouds': 57, 'pop': 0, 'uvi': 6.96}, {'dt': 1721304000, 'sunrise': 1721276580, 'sunset': 1721332871, 'moonrise': 1721326320, 'moonset': 1721263260, 'moon_phase': 0.39, 'summary': 'There will be partly cloudy today', 'temp': {'day': 25.17, 'min': 15.71, 'max': 26.25, 'night': 19.5, 'eve': 23.93, 'morn': 17.11}, 'feels_like': {'day': 25.23, 'night': 19.73, 'eve': 24.23, 'morn': 17.02}, 'pressure': 1020, 'humidity': 57, 'dew_point': 15.95, 'wind_speed': 3.34, 'wind_deg': 125, 'wind_gust': 5.38, 'weather': [{'id': 804, 'main': 'Clouds', 'description': 'overcast clouds', 'icon': '04d'}], 'clouds': 94, 'pop': 0, 'uvi': 6.4}, {'dt': 1721390400, 'sunrise': 1721363049, 'sunset': 1721419211, 'moonrise': 1721416440, 'moonset': 1721352480, 'moon_phase': 0.43, 'summary': 'Expect a day of partly cloudy with clear spells', 'temp': {'day': 26.07, 'min': 17.66, 'max': 26.07, 'night': 18.74, 'eve': 21.95, 'morn': 19.33}, 'feels_like': {'day': 26.07, 'night': 18.94, 'eve': 22.26, 'morn': 19.51}, 'pressure': 1017, 'humidity': 62, 'dew_point': 17.95, 'wind_speed': 4.69, 'wind_deg': 325, 'wind_gust': 6.52, 'weather': [{'id': 801, 'main': 'Clouds', 'description': 'few clouds', 'icon': '02d'}], 'clouds': 18, 'pop': 0, 'uvi': 6.24}, {'dt': 1721476800, 'sunrise': 1721449518, 'sunset': 1721505550, 'moonrise': 1721505780, 'moonset': 1721442540, 'moon_phase': 0.46, 'summary': 'Expect a day of partly cloudy with rain', 'temp': {'day': 24.61, 'min': 16.73, 'max': 25.39, 'night': 17.95, 'eve': 20.97, 'morn': 17.76}, 'feels_like': {'day': 24.69, 'night': 18.31, 'eve': 21.37, 'morn': 17.84}, 'pressure': 1009, 'humidity': 60, 'dew_point': 16.22, 'wind_speed': 5.82, 'wind_deg': 233, 'wind_gust': 8.86, 'weather': [{'id': 501, 'main': 'Rain', 'description': 'moderate rain', 'icon': '10d'}], 'clouds': 4, 'pop': 1, 'rain': 10.57, 'uvi': 6.09}, {'dt': 1721563200, 'sunrise': 1721535989, 'sunset': 1721591885, 'moonrise': 1721594340, 'moonset': 1721533620, 'moon_phase': 0.5, 'summary': 'The day will start with rain through the late morning hours, transitioning to partly cloudy', 'temp': {'day': 20, 'min': 14.9, 'max': 20, 'night': 14.9, 'eve': 16.78, 'morn': 17.62}, 'feels_like': {'day': 20.07, 'night': 14.53, 'eve': 16.58, 'morn': 17.89}, 'pressure': 1013, 'humidity': 77, 'dew_point': 15.6, 'wind_speed': 7.55, 'wind_deg': 303, 'wind_gust': 9.76, 'weather': [{'id': 500, 'main': 'Rain', 'description': 'light rain', 'icon': '10d'}], 'clouds': 91, 'pop': 1, 'rain': 2.35, 'uvi': 7.37}, {'dt': 1721649600, 'sunrise': 1721622461, 'sunset': 1721678219, 'moonrise': 1721682360, 'moonset': 1721625120, 'moon_phase': 0.54, 'summary': 'Expect a day of partly cloudy with rain', 'temp': {'day': 18.85, 'min': 12.6, 'max': 19.39, 'night': 16.33, 'eve': 17.73, 'morn': 13.24}, 'feels_like': {'day': 18.83, 'night': 16.21, 'eve': 17.8, 'morn': 12.92}, 'pressure': 1017, 'humidity': 78, 'dew_point': 14.77, 'wind_speed': 7.19, 'wind_deg': 220, 'wind_gust': 9.71, 'weather': [{'id': 500, 'main': 'Rain', 'description': 'light rain', 'icon': '10d'}], 'clouds': 98, 'pop': 0.9, 'rain': 0.93, 'uvi': 8}, {'dt': 1721736000, 'sunrise': 1721708934, 'sunset': 1721764551, 'moonrise': 1721770020, 'moonset': 1721716740, 'moon_phase': 0.57, 'summary': 'Expect a day of partly cloudy with rain', 'temp': {'day': 18.8, 'min': 14.89, 'max': 18.8, 'night': 14.89, 'eve': 18.4, 'morn': 16.05}, 'feels_like': {'day': 18.88, 'night': 14.71, 'eve': 18.28, 'morn': 16.14}, 'pressure': 1020, 'humidity': 82, 'dew_point': 15.4, 'wind_speed': 6.06, 'wind_deg': 302, 'wind_gust': 9.65, 'weather': [{'id': 500, 'main': 'Rain', 'description': 'light rain', 'icon': '10d'}], 'clouds': 93, 'pop': 0.93, 'rain': 1.35, 'uvi': 8}, {'dt': 1721822400, 'sunrise': 1721795408, 'sunset': 1721850880, 'moonrise': 1721857500, 'moonset': 1721808360, 'moon_phase': 0.61, 'summary': 'Expect a day of partly cloudy with clear spells', 'temp': {'day': 19.27, 'min': 13.59, 'max': 20.19, 'night': 15.53, 'eve': 19.29, 'morn': 14.81}, 'feels_like': {'day': 19.05, 'night': 15.07, 'eve': 19.02, 'morn': 14.67}, 'pressure': 1022, 'humidity': 69, 'dew_point': 13.23, 'wind_speed': 3.13, 'wind_deg': 340, 'wind_gust': 3.35, 'weather': [{'id': 803, 'main': 'Clouds', 'description': 'broken clouds', 'icon': '04d'}], 'clouds': 59, 'pop': 0, 'uvi': 8}]}\n"
     ]
    }
   ],
   "source": [
    "# Extraire les coordonnées de la première ville\n",
    "lat = df_cities.iloc[0]['latitude']\n",
    "lon = df_cities.iloc[0]['longitude']\n",
    "\n",
    "# Requête API pour la première ville\n",
    "response = requests.get(f\"https://api.openweathermap.org/data/3.0/onecall?lat={lat}&lon={lon}&units=metric&appid={api_key}\")\n",
    "\n",
    "# Vérifier si la requête a réussi\n",
    "if response.status_code == 200:\n",
    "    data = response.json()  # Convertir la réponse en format JSON\n",
    "    # Maintenant, vous pouvez traiter les données comme vous le souhaitez\n",
    "    print(data)\n",
    "else:\n",
    "    print(\"La requête a échoué, code d'erreur :\", response.status_code)\n"
   ]
  },
  {
   "cell_type": "code",
   "execution_count": 10,
   "metadata": {},
   "outputs": [],
   "source": [
    "def get_weather(latitude, longitude):\n",
    "    # We set units = metric to have Celsius temperature instead of Kelvin\n",
    "    # We only keep information about daily forecast for 8 days \n",
    "    url = f\"https://api.openweathermap.org/data/3.0/onecall?lat={latitude}&lon={longitude}&units=metric&exclude=current,minutely,hourly,alerts&appid={api_key}\"\n",
    "    response = requests.get(url)\n",
    "    data = response.json()\n",
    "\n",
    "    if data :\n",
    "        humidity = data[\"daily\"][0][\"humidity\"]                     # % of humidity\n",
    "        temp_avg = data[\"daily\"][0][\"temp\"][\"day\"]                  # average temperature\n",
    "        temp_min = data[\"daily\"][0][\"temp\"][\"min\"]                  # minimum temperature\n",
    "        temp_max = data[\"daily\"][0][\"temp\"][\"max\"]                  # maximum temperature\n",
    "        temp_perceived = data[\"daily\"][0][\"feels_like\"][\"day\"]      # perceived temperature\n",
    "        wind_speed = data[\"daily\"][0][\"wind_speed\"]                 # wind speed in meter/seconde\n",
    "        clouds = data[\"daily\"][0][\"clouds\"]                         # % of cloudiness\n",
    "        pop = data[\"daily\"][0][\"pop\"]                               # probability of precipitation, between 0 and 1\n",
    "        \n",
    "        return humidity, temp_avg, temp_min, temp_max, temp_perceived, wind_speed, clouds, pop\n",
    "    else:\n",
    "        return None"
   ]
  },
  {
   "cell_type": "code",
   "execution_count": 13,
   "metadata": {},
   "outputs": [
    {
     "data": {
      "text/html": [
       "<div>\n",
       "<style scoped>\n",
       "    .dataframe tbody tr th:only-of-type {\n",
       "        vertical-align: middle;\n",
       "    }\n",
       "\n",
       "    .dataframe tbody tr th {\n",
       "        vertical-align: top;\n",
       "    }\n",
       "\n",
       "    .dataframe thead th {\n",
       "        text-align: right;\n",
       "    }\n",
       "</style>\n",
       "<table border=\"1\" class=\"dataframe\">\n",
       "  <thead>\n",
       "    <tr style=\"text-align: right;\">\n",
       "      <th></th>\n",
       "      <th>name</th>\n",
       "      <th>latitude</th>\n",
       "      <th>longitude</th>\n",
       "      <th>Humidity</th>\n",
       "      <th>Temperature_avg</th>\n",
       "      <th>Temperature_min</th>\n",
       "      <th>Temperature_max</th>\n",
       "      <th>Temperature_perceived</th>\n",
       "      <th>Wind_speed</th>\n",
       "      <th>Cloudiness</th>\n",
       "      <th>Precipitation_prob</th>\n",
       "    </tr>\n",
       "  </thead>\n",
       "  <tbody>\n",
       "    <tr>\n",
       "      <th>0</th>\n",
       "      <td>Mont Saint Michel</td>\n",
       "      <td>48.6359541</td>\n",
       "      <td>-1.511459954959514</td>\n",
       "      <td>63</td>\n",
       "      <td>22.64</td>\n",
       "      <td>13.17</td>\n",
       "      <td>24.58</td>\n",
       "      <td>22.60</td>\n",
       "      <td>2.83</td>\n",
       "      <td>57</td>\n",
       "      <td>0</td>\n",
       "    </tr>\n",
       "    <tr>\n",
       "      <th>1</th>\n",
       "      <td>St Malo</td>\n",
       "      <td>49.314695</td>\n",
       "      <td>-96.9538228</td>\n",
       "      <td>66</td>\n",
       "      <td>18.05</td>\n",
       "      <td>8.97</td>\n",
       "      <td>20.33</td>\n",
       "      <td>17.63</td>\n",
       "      <td>3.19</td>\n",
       "      <td>7</td>\n",
       "      <td>0</td>\n",
       "    </tr>\n",
       "    <tr>\n",
       "      <th>2</th>\n",
       "      <td>Bayeux</td>\n",
       "      <td>49.2764624</td>\n",
       "      <td>-0.7024738</td>\n",
       "      <td>66</td>\n",
       "      <td>21.01</td>\n",
       "      <td>12.61</td>\n",
       "      <td>22.14</td>\n",
       "      <td>20.89</td>\n",
       "      <td>3.98</td>\n",
       "      <td>71</td>\n",
       "      <td>0</td>\n",
       "    </tr>\n",
       "    <tr>\n",
       "      <th>3</th>\n",
       "      <td>Le Havre</td>\n",
       "      <td>49.4938975</td>\n",
       "      <td>0.1079732</td>\n",
       "      <td>73</td>\n",
       "      <td>19.09</td>\n",
       "      <td>16.27</td>\n",
       "      <td>20.51</td>\n",
       "      <td>18.96</td>\n",
       "      <td>6.36</td>\n",
       "      <td>19</td>\n",
       "      <td>0</td>\n",
       "    </tr>\n",
       "    <tr>\n",
       "      <th>4</th>\n",
       "      <td>Rouen</td>\n",
       "      <td>49.4404591</td>\n",
       "      <td>1.0939658</td>\n",
       "      <td>50</td>\n",
       "      <td>23.75</td>\n",
       "      <td>12.66</td>\n",
       "      <td>24.48</td>\n",
       "      <td>23.49</td>\n",
       "      <td>3.32</td>\n",
       "      <td>19</td>\n",
       "      <td>0</td>\n",
       "    </tr>\n",
       "  </tbody>\n",
       "</table>\n",
       "</div>"
      ],
      "text/plain": [
       "                name    latitude           longitude  Humidity  \\\n",
       "0  Mont Saint Michel  48.6359541  -1.511459954959514        63   \n",
       "1            St Malo   49.314695         -96.9538228        66   \n",
       "2             Bayeux  49.2764624          -0.7024738        66   \n",
       "3           Le Havre  49.4938975           0.1079732        73   \n",
       "4              Rouen  49.4404591           1.0939658        50   \n",
       "\n",
       "   Temperature_avg  Temperature_min  Temperature_max  Temperature_perceived  \\\n",
       "0            22.64            13.17            24.58                  22.60   \n",
       "1            18.05             8.97            20.33                  17.63   \n",
       "2            21.01            12.61            22.14                  20.89   \n",
       "3            19.09            16.27            20.51                  18.96   \n",
       "4            23.75            12.66            24.48                  23.49   \n",
       "\n",
       "   Wind_speed  Cloudiness  Precipitation_prob  \n",
       "0        2.83          57                   0  \n",
       "1        3.19           7                   0  \n",
       "2        3.98          71                   0  \n",
       "3        6.36          19                   0  \n",
       "4        3.32          19                   0  "
      ]
     },
     "execution_count": 13,
     "metadata": {},
     "output_type": "execute_result"
    }
   ],
   "source": [
    "weather_results = []\n",
    "\n",
    "for index, row in df_cities.iterrows():\n",
    "    name = row[\"name\"]\n",
    "    latitude = row[\"latitude\"]\n",
    "    longitude = row[\"longitude\"]\n",
    "\n",
    "    humidity, temp_avg, temp_min, temp_max, temp_perceived, wind_speed, clouds, pop = get_weather(latitude, longitude)\n",
    "\n",
    "    weather_results.append({\"name\": name, \n",
    "                            \"latitude\": latitude, \n",
    "                            \"longitude\": longitude, \n",
    "                            \"Humidity\": humidity, \n",
    "                            \"Temperature_avg\": temp_avg,\n",
    "                            \"Temperature_min\": temp_min,\n",
    "                            \"Temperature_max\": temp_max,\n",
    "                            \"Temperature_perceived\": temp_perceived,\n",
    "                            \"Wind_speed\": wind_speed,\n",
    "                            \"Cloudiness\": clouds,\n",
    "                            \"Precipitation_prob\" : round(pop*100) # to have the probability of precipitation in %\n",
    "                            })\n",
    "\n",
    "df = pd.DataFrame(weather_results)\n",
    "df.head()"
   ]
  },
  {
   "cell_type": "code",
   "execution_count": 14,
   "metadata": {},
   "outputs": [
    {
     "data": {
      "text/html": [
       "<div>\n",
       "<style scoped>\n",
       "    .dataframe tbody tr th:only-of-type {\n",
       "        vertical-align: middle;\n",
       "    }\n",
       "\n",
       "    .dataframe tbody tr th {\n",
       "        vertical-align: top;\n",
       "    }\n",
       "\n",
       "    .dataframe thead th {\n",
       "        text-align: right;\n",
       "    }\n",
       "</style>\n",
       "<table border=\"1\" class=\"dataframe\">\n",
       "  <thead>\n",
       "    <tr style=\"text-align: right;\">\n",
       "      <th></th>\n",
       "      <th>index</th>\n",
       "      <th>name</th>\n",
       "      <th>latitude</th>\n",
       "      <th>longitude</th>\n",
       "      <th>Humidity</th>\n",
       "      <th>Temperature_avg</th>\n",
       "      <th>Temperature_min</th>\n",
       "      <th>Temperature_max</th>\n",
       "      <th>Temperature_perceived</th>\n",
       "      <th>Wind_speed</th>\n",
       "      <th>Cloudiness</th>\n",
       "      <th>Precipitation_prob</th>\n",
       "    </tr>\n",
       "  </thead>\n",
       "  <tbody>\n",
       "    <tr>\n",
       "      <th>0</th>\n",
       "      <td>0</td>\n",
       "      <td>Mont Saint Michel</td>\n",
       "      <td>48.6359541</td>\n",
       "      <td>-1.511459954959514</td>\n",
       "      <td>63</td>\n",
       "      <td>22.64</td>\n",
       "      <td>13.17</td>\n",
       "      <td>24.58</td>\n",
       "      <td>22.60</td>\n",
       "      <td>2.83</td>\n",
       "      <td>57</td>\n",
       "      <td>0</td>\n",
       "    </tr>\n",
       "    <tr>\n",
       "      <th>1</th>\n",
       "      <td>1</td>\n",
       "      <td>St Malo</td>\n",
       "      <td>49.314695</td>\n",
       "      <td>-96.9538228</td>\n",
       "      <td>66</td>\n",
       "      <td>18.05</td>\n",
       "      <td>8.97</td>\n",
       "      <td>20.33</td>\n",
       "      <td>17.63</td>\n",
       "      <td>3.19</td>\n",
       "      <td>7</td>\n",
       "      <td>0</td>\n",
       "    </tr>\n",
       "    <tr>\n",
       "      <th>2</th>\n",
       "      <td>2</td>\n",
       "      <td>Bayeux</td>\n",
       "      <td>49.2764624</td>\n",
       "      <td>-0.7024738</td>\n",
       "      <td>66</td>\n",
       "      <td>21.01</td>\n",
       "      <td>12.61</td>\n",
       "      <td>22.14</td>\n",
       "      <td>20.89</td>\n",
       "      <td>3.98</td>\n",
       "      <td>71</td>\n",
       "      <td>0</td>\n",
       "    </tr>\n",
       "    <tr>\n",
       "      <th>3</th>\n",
       "      <td>3</td>\n",
       "      <td>Le Havre</td>\n",
       "      <td>49.4938975</td>\n",
       "      <td>0.1079732</td>\n",
       "      <td>73</td>\n",
       "      <td>19.09</td>\n",
       "      <td>16.27</td>\n",
       "      <td>20.51</td>\n",
       "      <td>18.96</td>\n",
       "      <td>6.36</td>\n",
       "      <td>19</td>\n",
       "      <td>0</td>\n",
       "    </tr>\n",
       "    <tr>\n",
       "      <th>4</th>\n",
       "      <td>4</td>\n",
       "      <td>Rouen</td>\n",
       "      <td>49.4404591</td>\n",
       "      <td>1.0939658</td>\n",
       "      <td>50</td>\n",
       "      <td>23.75</td>\n",
       "      <td>12.66</td>\n",
       "      <td>24.48</td>\n",
       "      <td>23.49</td>\n",
       "      <td>3.32</td>\n",
       "      <td>19</td>\n",
       "      <td>0</td>\n",
       "    </tr>\n",
       "  </tbody>\n",
       "</table>\n",
       "</div>"
      ],
      "text/plain": [
       "   index               name    latitude           longitude  Humidity  \\\n",
       "0      0  Mont Saint Michel  48.6359541  -1.511459954959514        63   \n",
       "1      1            St Malo   49.314695         -96.9538228        66   \n",
       "2      2             Bayeux  49.2764624          -0.7024738        66   \n",
       "3      3           Le Havre  49.4938975           0.1079732        73   \n",
       "4      4              Rouen  49.4404591           1.0939658        50   \n",
       "\n",
       "   Temperature_avg  Temperature_min  Temperature_max  Temperature_perceived  \\\n",
       "0            22.64            13.17            24.58                  22.60   \n",
       "1            18.05             8.97            20.33                  17.63   \n",
       "2            21.01            12.61            22.14                  20.89   \n",
       "3            19.09            16.27            20.51                  18.96   \n",
       "4            23.75            12.66            24.48                  23.49   \n",
       "\n",
       "   Wind_speed  Cloudiness  Precipitation_prob  \n",
       "0        2.83          57                   0  \n",
       "1        3.19           7                   0  \n",
       "2        3.98          71                   0  \n",
       "3        6.36          19                   0  \n",
       "4        3.32          19                   0  "
      ]
     },
     "execution_count": 14,
     "metadata": {},
     "output_type": "execute_result"
    }
   ],
   "source": [
    "# Add index column to the dataframe\n",
    "df = df.reset_index()\n",
    "df.head()"
   ]
  },
  {
   "cell_type": "code",
   "execution_count": 15,
   "metadata": {},
   "outputs": [],
   "source": [
    "# Save the dataframe in a csv file\n",
    "df.to_csv(\"files/cities_forecast_weather.csv\", index=False)"
   ]
  },
  {
   "cell_type": "code",
   "execution_count": 16,
   "metadata": {},
   "outputs": [
    {
     "data": {
      "application/vnd.plotly.v1+json": {
       "config": {
        "plotlyServerURL": "https://plot.ly"
       },
       "data": [
        {
         "domain": {
          "x": [
           0,
           0.2888888888888889
          ],
          "y": [
           0,
           0.375
          ]
         },
         "labels": [
          "Gorges du Verdon",
          "Aix en Provence",
          "Nimes",
          "Uzes",
          "Carcassonne"
         ],
         "textinfo": "label+value",
         "type": "pie",
         "values": [
          18,
          23,
          27,
          32,
          34
         ]
        },
        {
         "domain": {
          "x": [
           0.35555555555555557,
           0.6444444444444445
          ],
          "y": [
           0,
           0.375
          ]
         },
         "labels": [
          "Aix en Provence",
          "Nimes",
          "Collioure",
          "Uzes",
          "Carcassonne"
         ],
         "textinfo": "label+value",
         "type": "pie",
         "values": [
          30.7,
          30.42,
          29.71,
          29.3,
          29.24
         ]
        },
        {
         "domain": {
          "x": [
           0.7111111111111111,
           1
          ],
          "y": [
           0,
           0.375
          ]
         },
         "labels": [
          "Paris",
          "Strasbourg",
          "Chateau du Haut Koenigsbourg",
          "Eguisheim",
          "Colmar"
         ],
         "textinfo": "label+value",
         "type": "pie",
         "values": [
          1.9,
          2.02,
          2.28,
          2.47,
          2.49
         ]
        },
        {
         "domain": {
          "x": [
           0,
           0.2888888888888889
          ],
          "y": [
           0.625,
           1
          ]
         },
         "labels": [
          "Lyon",
          "Annecy",
          "La Rochelle",
          "Avignon",
          "Paris"
         ],
         "textinfo": "label+value",
         "type": "pie",
         "values": [
          2.1,
          4.1,
          5.1,
          5.1,
          6.1
         ]
        },
        {
         "domain": {
          "x": [
           0.35555555555555557,
           0.6444444444444445
          ],
          "y": [
           0.625,
           1
          ]
         },
         "labels": [
          "Mont Saint Michel",
          "Cassis",
          "Marseille",
          "Aix en Provence",
          "Avignon"
         ],
         "textinfo": "label+value",
         "type": "pie",
         "values": [
          0.1,
          0.1,
          0.1,
          0.1,
          0.1
         ]
        }
       ],
       "layout": {
        "annotations": [
         {
          "font": {
           "size": 16
          },
          "showarrow": false,
          "text": "Top 5 cities with the least humidity (%)",
          "x": 0.14444444444444446,
          "xanchor": "center",
          "xref": "paper",
          "y": 0.375,
          "yanchor": "bottom",
          "yref": "paper"
         },
         {
          "font": {
           "size": 16
          },
          "showarrow": false,
          "text": "Top 5 cities with the best day temperature(°C)",
          "x": 0.5,
          "xanchor": "center",
          "xref": "paper",
          "y": 0.375,
          "yanchor": "bottom",
          "yref": "paper"
         },
         {
          "font": {
           "size": 16
          },
          "showarrow": false,
          "text": "Top 5 cities with the least speed wind (m/s)",
          "x": 0.8555555555555556,
          "xanchor": "center",
          "xref": "paper",
          "y": 0.375,
          "yanchor": "bottom",
          "yref": "paper"
         },
         {
          "font": {
           "size": 16
          },
          "showarrow": false,
          "text": "Top 5 cities with the least cloudiness (%)",
          "x": 0.14444444444444446,
          "xanchor": "center",
          "xref": "paper",
          "y": 1,
          "yanchor": "bottom",
          "yref": "paper"
         },
         {
          "font": {
           "size": 16
          },
          "showarrow": false,
          "text": "Top 5 cities with the least probability of rain (%)",
          "x": 0.5,
          "xanchor": "center",
          "xref": "paper",
          "y": 1,
          "yanchor": "bottom",
          "yref": "paper"
         }
        ],
        "height": 700,
        "showlegend": false,
        "template": {
         "data": {
          "bar": [
           {
            "error_x": {
             "color": "#2a3f5f"
            },
            "error_y": {
             "color": "#2a3f5f"
            },
            "marker": {
             "line": {
              "color": "#E5ECF6",
              "width": 0.5
             },
             "pattern": {
              "fillmode": "overlay",
              "size": 10,
              "solidity": 0.2
             }
            },
            "type": "bar"
           }
          ],
          "barpolar": [
           {
            "marker": {
             "line": {
              "color": "#E5ECF6",
              "width": 0.5
             },
             "pattern": {
              "fillmode": "overlay",
              "size": 10,
              "solidity": 0.2
             }
            },
            "type": "barpolar"
           }
          ],
          "carpet": [
           {
            "aaxis": {
             "endlinecolor": "#2a3f5f",
             "gridcolor": "white",
             "linecolor": "white",
             "minorgridcolor": "white",
             "startlinecolor": "#2a3f5f"
            },
            "baxis": {
             "endlinecolor": "#2a3f5f",
             "gridcolor": "white",
             "linecolor": "white",
             "minorgridcolor": "white",
             "startlinecolor": "#2a3f5f"
            },
            "type": "carpet"
           }
          ],
          "choropleth": [
           {
            "colorbar": {
             "outlinewidth": 0,
             "ticks": ""
            },
            "type": "choropleth"
           }
          ],
          "contour": [
           {
            "colorbar": {
             "outlinewidth": 0,
             "ticks": ""
            },
            "colorscale": [
             [
              0,
              "#0d0887"
             ],
             [
              0.1111111111111111,
              "#46039f"
             ],
             [
              0.2222222222222222,
              "#7201a8"
             ],
             [
              0.3333333333333333,
              "#9c179e"
             ],
             [
              0.4444444444444444,
              "#bd3786"
             ],
             [
              0.5555555555555556,
              "#d8576b"
             ],
             [
              0.6666666666666666,
              "#ed7953"
             ],
             [
              0.7777777777777778,
              "#fb9f3a"
             ],
             [
              0.8888888888888888,
              "#fdca26"
             ],
             [
              1,
              "#f0f921"
             ]
            ],
            "type": "contour"
           }
          ],
          "contourcarpet": [
           {
            "colorbar": {
             "outlinewidth": 0,
             "ticks": ""
            },
            "type": "contourcarpet"
           }
          ],
          "heatmap": [
           {
            "colorbar": {
             "outlinewidth": 0,
             "ticks": ""
            },
            "colorscale": [
             [
              0,
              "#0d0887"
             ],
             [
              0.1111111111111111,
              "#46039f"
             ],
             [
              0.2222222222222222,
              "#7201a8"
             ],
             [
              0.3333333333333333,
              "#9c179e"
             ],
             [
              0.4444444444444444,
              "#bd3786"
             ],
             [
              0.5555555555555556,
              "#d8576b"
             ],
             [
              0.6666666666666666,
              "#ed7953"
             ],
             [
              0.7777777777777778,
              "#fb9f3a"
             ],
             [
              0.8888888888888888,
              "#fdca26"
             ],
             [
              1,
              "#f0f921"
             ]
            ],
            "type": "heatmap"
           }
          ],
          "heatmapgl": [
           {
            "colorbar": {
             "outlinewidth": 0,
             "ticks": ""
            },
            "colorscale": [
             [
              0,
              "#0d0887"
             ],
             [
              0.1111111111111111,
              "#46039f"
             ],
             [
              0.2222222222222222,
              "#7201a8"
             ],
             [
              0.3333333333333333,
              "#9c179e"
             ],
             [
              0.4444444444444444,
              "#bd3786"
             ],
             [
              0.5555555555555556,
              "#d8576b"
             ],
             [
              0.6666666666666666,
              "#ed7953"
             ],
             [
              0.7777777777777778,
              "#fb9f3a"
             ],
             [
              0.8888888888888888,
              "#fdca26"
             ],
             [
              1,
              "#f0f921"
             ]
            ],
            "type": "heatmapgl"
           }
          ],
          "histogram": [
           {
            "marker": {
             "pattern": {
              "fillmode": "overlay",
              "size": 10,
              "solidity": 0.2
             }
            },
            "type": "histogram"
           }
          ],
          "histogram2d": [
           {
            "colorbar": {
             "outlinewidth": 0,
             "ticks": ""
            },
            "colorscale": [
             [
              0,
              "#0d0887"
             ],
             [
              0.1111111111111111,
              "#46039f"
             ],
             [
              0.2222222222222222,
              "#7201a8"
             ],
             [
              0.3333333333333333,
              "#9c179e"
             ],
             [
              0.4444444444444444,
              "#bd3786"
             ],
             [
              0.5555555555555556,
              "#d8576b"
             ],
             [
              0.6666666666666666,
              "#ed7953"
             ],
             [
              0.7777777777777778,
              "#fb9f3a"
             ],
             [
              0.8888888888888888,
              "#fdca26"
             ],
             [
              1,
              "#f0f921"
             ]
            ],
            "type": "histogram2d"
           }
          ],
          "histogram2dcontour": [
           {
            "colorbar": {
             "outlinewidth": 0,
             "ticks": ""
            },
            "colorscale": [
             [
              0,
              "#0d0887"
             ],
             [
              0.1111111111111111,
              "#46039f"
             ],
             [
              0.2222222222222222,
              "#7201a8"
             ],
             [
              0.3333333333333333,
              "#9c179e"
             ],
             [
              0.4444444444444444,
              "#bd3786"
             ],
             [
              0.5555555555555556,
              "#d8576b"
             ],
             [
              0.6666666666666666,
              "#ed7953"
             ],
             [
              0.7777777777777778,
              "#fb9f3a"
             ],
             [
              0.8888888888888888,
              "#fdca26"
             ],
             [
              1,
              "#f0f921"
             ]
            ],
            "type": "histogram2dcontour"
           }
          ],
          "mesh3d": [
           {
            "colorbar": {
             "outlinewidth": 0,
             "ticks": ""
            },
            "type": "mesh3d"
           }
          ],
          "parcoords": [
           {
            "line": {
             "colorbar": {
              "outlinewidth": 0,
              "ticks": ""
             }
            },
            "type": "parcoords"
           }
          ],
          "pie": [
           {
            "automargin": true,
            "type": "pie"
           }
          ],
          "scatter": [
           {
            "fillpattern": {
             "fillmode": "overlay",
             "size": 10,
             "solidity": 0.2
            },
            "type": "scatter"
           }
          ],
          "scatter3d": [
           {
            "line": {
             "colorbar": {
              "outlinewidth": 0,
              "ticks": ""
             }
            },
            "marker": {
             "colorbar": {
              "outlinewidth": 0,
              "ticks": ""
             }
            },
            "type": "scatter3d"
           }
          ],
          "scattercarpet": [
           {
            "marker": {
             "colorbar": {
              "outlinewidth": 0,
              "ticks": ""
             }
            },
            "type": "scattercarpet"
           }
          ],
          "scattergeo": [
           {
            "marker": {
             "colorbar": {
              "outlinewidth": 0,
              "ticks": ""
             }
            },
            "type": "scattergeo"
           }
          ],
          "scattergl": [
           {
            "marker": {
             "colorbar": {
              "outlinewidth": 0,
              "ticks": ""
             }
            },
            "type": "scattergl"
           }
          ],
          "scattermapbox": [
           {
            "marker": {
             "colorbar": {
              "outlinewidth": 0,
              "ticks": ""
             }
            },
            "type": "scattermapbox"
           }
          ],
          "scatterpolar": [
           {
            "marker": {
             "colorbar": {
              "outlinewidth": 0,
              "ticks": ""
             }
            },
            "type": "scatterpolar"
           }
          ],
          "scatterpolargl": [
           {
            "marker": {
             "colorbar": {
              "outlinewidth": 0,
              "ticks": ""
             }
            },
            "type": "scatterpolargl"
           }
          ],
          "scatterternary": [
           {
            "marker": {
             "colorbar": {
              "outlinewidth": 0,
              "ticks": ""
             }
            },
            "type": "scatterternary"
           }
          ],
          "surface": [
           {
            "colorbar": {
             "outlinewidth": 0,
             "ticks": ""
            },
            "colorscale": [
             [
              0,
              "#0d0887"
             ],
             [
              0.1111111111111111,
              "#46039f"
             ],
             [
              0.2222222222222222,
              "#7201a8"
             ],
             [
              0.3333333333333333,
              "#9c179e"
             ],
             [
              0.4444444444444444,
              "#bd3786"
             ],
             [
              0.5555555555555556,
              "#d8576b"
             ],
             [
              0.6666666666666666,
              "#ed7953"
             ],
             [
              0.7777777777777778,
              "#fb9f3a"
             ],
             [
              0.8888888888888888,
              "#fdca26"
             ],
             [
              1,
              "#f0f921"
             ]
            ],
            "type": "surface"
           }
          ],
          "table": [
           {
            "cells": {
             "fill": {
              "color": "#EBF0F8"
             },
             "line": {
              "color": "white"
             }
            },
            "header": {
             "fill": {
              "color": "#C8D4E3"
             },
             "line": {
              "color": "white"
             }
            },
            "type": "table"
           }
          ]
         },
         "layout": {
          "annotationdefaults": {
           "arrowcolor": "#2a3f5f",
           "arrowhead": 0,
           "arrowwidth": 1
          },
          "autotypenumbers": "strict",
          "coloraxis": {
           "colorbar": {
            "outlinewidth": 0,
            "ticks": ""
           }
          },
          "colorscale": {
           "diverging": [
            [
             0,
             "#8e0152"
            ],
            [
             0.1,
             "#c51b7d"
            ],
            [
             0.2,
             "#de77ae"
            ],
            [
             0.3,
             "#f1b6da"
            ],
            [
             0.4,
             "#fde0ef"
            ],
            [
             0.5,
             "#f7f7f7"
            ],
            [
             0.6,
             "#e6f5d0"
            ],
            [
             0.7,
             "#b8e186"
            ],
            [
             0.8,
             "#7fbc41"
            ],
            [
             0.9,
             "#4d9221"
            ],
            [
             1,
             "#276419"
            ]
           ],
           "sequential": [
            [
             0,
             "#0d0887"
            ],
            [
             0.1111111111111111,
             "#46039f"
            ],
            [
             0.2222222222222222,
             "#7201a8"
            ],
            [
             0.3333333333333333,
             "#9c179e"
            ],
            [
             0.4444444444444444,
             "#bd3786"
            ],
            [
             0.5555555555555556,
             "#d8576b"
            ],
            [
             0.6666666666666666,
             "#ed7953"
            ],
            [
             0.7777777777777778,
             "#fb9f3a"
            ],
            [
             0.8888888888888888,
             "#fdca26"
            ],
            [
             1,
             "#f0f921"
            ]
           ],
           "sequentialminus": [
            [
             0,
             "#0d0887"
            ],
            [
             0.1111111111111111,
             "#46039f"
            ],
            [
             0.2222222222222222,
             "#7201a8"
            ],
            [
             0.3333333333333333,
             "#9c179e"
            ],
            [
             0.4444444444444444,
             "#bd3786"
            ],
            [
             0.5555555555555556,
             "#d8576b"
            ],
            [
             0.6666666666666666,
             "#ed7953"
            ],
            [
             0.7777777777777778,
             "#fb9f3a"
            ],
            [
             0.8888888888888888,
             "#fdca26"
            ],
            [
             1,
             "#f0f921"
            ]
           ]
          },
          "colorway": [
           "#636efa",
           "#EF553B",
           "#00cc96",
           "#ab63fa",
           "#FFA15A",
           "#19d3f3",
           "#FF6692",
           "#B6E880",
           "#FF97FF",
           "#FECB52"
          ],
          "font": {
           "color": "#2a3f5f"
          },
          "geo": {
           "bgcolor": "white",
           "lakecolor": "white",
           "landcolor": "#E5ECF6",
           "showlakes": true,
           "showland": true,
           "subunitcolor": "white"
          },
          "hoverlabel": {
           "align": "left"
          },
          "hovermode": "closest",
          "mapbox": {
           "style": "light"
          },
          "paper_bgcolor": "white",
          "plot_bgcolor": "#E5ECF6",
          "polar": {
           "angularaxis": {
            "gridcolor": "white",
            "linecolor": "white",
            "ticks": ""
           },
           "bgcolor": "#E5ECF6",
           "radialaxis": {
            "gridcolor": "white",
            "linecolor": "white",
            "ticks": ""
           }
          },
          "scene": {
           "xaxis": {
            "backgroundcolor": "#E5ECF6",
            "gridcolor": "white",
            "gridwidth": 2,
            "linecolor": "white",
            "showbackground": true,
            "ticks": "",
            "zerolinecolor": "white"
           },
           "yaxis": {
            "backgroundcolor": "#E5ECF6",
            "gridcolor": "white",
            "gridwidth": 2,
            "linecolor": "white",
            "showbackground": true,
            "ticks": "",
            "zerolinecolor": "white"
           },
           "zaxis": {
            "backgroundcolor": "#E5ECF6",
            "gridcolor": "white",
            "gridwidth": 2,
            "linecolor": "white",
            "showbackground": true,
            "ticks": "",
            "zerolinecolor": "white"
           }
          },
          "shapedefaults": {
           "line": {
            "color": "#2a3f5f"
           }
          },
          "ternary": {
           "aaxis": {
            "gridcolor": "white",
            "linecolor": "white",
            "ticks": ""
           },
           "baxis": {
            "gridcolor": "white",
            "linecolor": "white",
            "ticks": ""
           },
           "bgcolor": "#E5ECF6",
           "caxis": {
            "gridcolor": "white",
            "linecolor": "white",
            "ticks": ""
           }
          },
          "title": {
           "x": 0.05
          },
          "xaxis": {
           "automargin": true,
           "gridcolor": "white",
           "linecolor": "white",
           "ticks": "",
           "title": {
            "standoff": 15
           },
           "zerolinecolor": "white",
           "zerolinewidth": 2
          },
          "yaxis": {
           "automargin": true,
           "gridcolor": "white",
           "linecolor": "white",
           "ticks": "",
           "title": {
            "standoff": 15
           },
           "zerolinecolor": "white",
           "zerolinewidth": 2
          }
         }
        },
        "width": 1400
       }
      }
     },
     "metadata": {},
     "output_type": "display_data"
    }
   ],
   "source": [
    "# Determine what are the best 5 cities destination\n",
    "import plotly.graph_objects as go\n",
    "from plotly.subplots import make_subplots\n",
    "\n",
    "fig = make_subplots(rows=2, \n",
    "                    cols=3, \n",
    "                    start_cell=\"bottom-left\",\n",
    "                    specs=[[{\"type\": \"domain\"}, {\"type\": \"domain\"},{\"type\": \"domain\"}], \n",
    "                    [{\"type\": \"domain\"},{\"type\": \"domain\"},{\"type\": \"domain\"}]],\n",
    "                    subplot_titles=(\"Top 5 cities with the least humidity (%)\", \n",
    "                                    \"Top 5 cities with the best day temperature(°C)\", \n",
    "                                    \"Top 5 cities with the least speed wind (m/s)\",\n",
    "                                    \"Top 5 cities with the least cloudiness (%)\",\n",
    "                                    \"Top 5 cities with the least probability of rain (%)\"))\n",
    "\n",
    "fig.add_trace(go.Pie(\n",
    "    labels=df.sort_values(by=['Humidity']).head(5)[\"name\"],\n",
    "    values=df.sort_values(by=['Humidity']).head(5)[\"Humidity\"],\n",
    "    textinfo=\"label+value\"),\n",
    "    row=1, col=1\n",
    ")\n",
    "\n",
    "fig.add_trace(go.Pie(\n",
    "    labels=df.sort_values(by=['Temperature_avg'], ascending=False).head(5)[\"name\"],\n",
    "    values=df.sort_values(by=['Temperature_avg'], ascending=False).head(5)[\"Temperature_avg\"],\n",
    "    textinfo=\"label+value\"),\n",
    "    row=1, col=2\n",
    ")\n",
    "\n",
    "fig.add_trace(go.Pie(\n",
    "    labels=df.sort_values(by=['Wind_speed']).head(5)[\"name\"],\n",
    "    values=df.sort_values(by=['Wind_speed']).head(5)[\"Wind_speed\"],\n",
    "    textinfo=\"label+value\"),\n",
    "    row=1, col=3\n",
    ")\n",
    "\n",
    "# Ajouter une petite valeur à toutes les valeurs de la catégorie \"Cloudiness\"\n",
    "df['Cloudiness_adjusted'] = df['Cloudiness'] + 0.1\n",
    "\n",
    "fig.add_trace(go.Pie(\n",
    "    labels=df.sort_values(by=['Cloudiness_adjusted']).head(5)[\"name\"],\n",
    "    values=df.sort_values(by=['Cloudiness_adjusted']).head(5)[\"Cloudiness_adjusted\"],\n",
    "    textinfo=\"label+value\"),\n",
    "    row=2, col=1\n",
    ")\n",
    "\n",
    "# Ajouter une petite valeur à toutes les valeurs de la catégorie \"Precipitation_prob\"\n",
    "df['Precipitation_prob_adjusted'] = df['Precipitation_prob'] + 0.1\n",
    "\n",
    "fig.add_trace(go.Pie(\n",
    "    labels=df.sort_values(by=['Precipitation_prob_adjusted']).head(5)[\"name\"],\n",
    "    values=df.sort_values(by=['Precipitation_prob_adjusted']).head(5)[\"Precipitation_prob_adjusted\"],\n",
    "    textinfo=\"label+value\"),\n",
    "    row=2, col=2\n",
    ")\n",
    "\n",
    "fig.update_layout(\n",
    "    # title='Top 5 cities with the least humidity',\n",
    "    height=700, \n",
    "    width=1400,\n",
    "    showlegend=False\n",
    ")\n",
    "\n",
    "fig.show()"
   ]
  },
  {
   "cell_type": "code",
   "execution_count": 17,
   "metadata": {},
   "outputs": [
    {
     "data": {
      "text/html": [
       "<div>\n",
       "<style scoped>\n",
       "    .dataframe tbody tr th:only-of-type {\n",
       "        vertical-align: middle;\n",
       "    }\n",
       "\n",
       "    .dataframe tbody tr th {\n",
       "        vertical-align: top;\n",
       "    }\n",
       "\n",
       "    .dataframe thead th {\n",
       "        text-align: right;\n",
       "    }\n",
       "</style>\n",
       "<table border=\"1\" class=\"dataframe\">\n",
       "  <thead>\n",
       "    <tr style=\"text-align: right;\">\n",
       "      <th></th>\n",
       "      <th>index</th>\n",
       "      <th>name</th>\n",
       "      <th>latitude</th>\n",
       "      <th>longitude</th>\n",
       "      <th>Humidity</th>\n",
       "      <th>Temperature_avg</th>\n",
       "      <th>Temperature_min</th>\n",
       "      <th>Temperature_max</th>\n",
       "      <th>Temperature_perceived</th>\n",
       "      <th>Wind_speed</th>\n",
       "      <th>Cloudiness</th>\n",
       "      <th>Precipitation_prob</th>\n",
       "      <th>Cloudiness_adjusted</th>\n",
       "      <th>Precipitation_prob_adjusted</th>\n",
       "    </tr>\n",
       "  </thead>\n",
       "  <tbody>\n",
       "    <tr>\n",
       "      <th>1</th>\n",
       "      <td>1</td>\n",
       "      <td>St Malo</td>\n",
       "      <td>49.314695</td>\n",
       "      <td>-96.9538228</td>\n",
       "      <td>66</td>\n",
       "      <td>18.05</td>\n",
       "      <td>8.97</td>\n",
       "      <td>20.33</td>\n",
       "      <td>17.63</td>\n",
       "      <td>3.19</td>\n",
       "      <td>7</td>\n",
       "      <td>0</td>\n",
       "      <td>7.1</td>\n",
       "      <td>0.1</td>\n",
       "    </tr>\n",
       "    <tr>\n",
       "      <th>3</th>\n",
       "      <td>3</td>\n",
       "      <td>Le Havre</td>\n",
       "      <td>49.4938975</td>\n",
       "      <td>0.1079732</td>\n",
       "      <td>73</td>\n",
       "      <td>19.09</td>\n",
       "      <td>16.27</td>\n",
       "      <td>20.51</td>\n",
       "      <td>18.96</td>\n",
       "      <td>6.36</td>\n",
       "      <td>19</td>\n",
       "      <td>0</td>\n",
       "      <td>19.1</td>\n",
       "      <td>0.1</td>\n",
       "    </tr>\n",
       "    <tr>\n",
       "      <th>2</th>\n",
       "      <td>2</td>\n",
       "      <td>Bayeux</td>\n",
       "      <td>49.2764624</td>\n",
       "      <td>-0.7024738</td>\n",
       "      <td>66</td>\n",
       "      <td>21.01</td>\n",
       "      <td>12.61</td>\n",
       "      <td>22.14</td>\n",
       "      <td>20.89</td>\n",
       "      <td>3.98</td>\n",
       "      <td>71</td>\n",
       "      <td>0</td>\n",
       "      <td>71.1</td>\n",
       "      <td>0.1</td>\n",
       "    </tr>\n",
       "    <tr>\n",
       "      <th>9</th>\n",
       "      <td>9</td>\n",
       "      <td>Chateau du Haut Koenigsbourg</td>\n",
       "      <td>48.249410749999996</td>\n",
       "      <td>7.344320233724503</td>\n",
       "      <td>58</td>\n",
       "      <td>21.02</td>\n",
       "      <td>11.63</td>\n",
       "      <td>22.14</td>\n",
       "      <td>20.69</td>\n",
       "      <td>2.28</td>\n",
       "      <td>37</td>\n",
       "      <td>39</td>\n",
       "      <td>37.1</td>\n",
       "      <td>39.1</td>\n",
       "    </tr>\n",
       "    <tr>\n",
       "      <th>34</th>\n",
       "      <td>34</td>\n",
       "      <td>La Rochelle</td>\n",
       "      <td>46.1591126</td>\n",
       "      <td>-1.1520434</td>\n",
       "      <td>64</td>\n",
       "      <td>21.34</td>\n",
       "      <td>14.96</td>\n",
       "      <td>23.07</td>\n",
       "      <td>21.20</td>\n",
       "      <td>3.46</td>\n",
       "      <td>5</td>\n",
       "      <td>0</td>\n",
       "      <td>5.1</td>\n",
       "      <td>0.1</td>\n",
       "    </tr>\n",
       "    <tr>\n",
       "      <th>6</th>\n",
       "      <td>6</td>\n",
       "      <td>Amiens</td>\n",
       "      <td>49.8941708</td>\n",
       "      <td>2.2956951</td>\n",
       "      <td>62</td>\n",
       "      <td>22.40</td>\n",
       "      <td>13.04</td>\n",
       "      <td>23.44</td>\n",
       "      <td>22.31</td>\n",
       "      <td>4.81</td>\n",
       "      <td>39</td>\n",
       "      <td>63</td>\n",
       "      <td>39.1</td>\n",
       "      <td>63.1</td>\n",
       "    </tr>\n",
       "    <tr>\n",
       "      <th>13</th>\n",
       "      <td>13</td>\n",
       "      <td>Dijon</td>\n",
       "      <td>47.3215806</td>\n",
       "      <td>5.0414701</td>\n",
       "      <td>61</td>\n",
       "      <td>22.52</td>\n",
       "      <td>13.91</td>\n",
       "      <td>25.80</td>\n",
       "      <td>22.42</td>\n",
       "      <td>3.05</td>\n",
       "      <td>23</td>\n",
       "      <td>21</td>\n",
       "      <td>23.1</td>\n",
       "      <td>21.1</td>\n",
       "    </tr>\n",
       "    <tr>\n",
       "      <th>0</th>\n",
       "      <td>0</td>\n",
       "      <td>Mont Saint Michel</td>\n",
       "      <td>48.6359541</td>\n",
       "      <td>-1.511459954959514</td>\n",
       "      <td>63</td>\n",
       "      <td>22.64</td>\n",
       "      <td>13.17</td>\n",
       "      <td>24.58</td>\n",
       "      <td>22.60</td>\n",
       "      <td>2.83</td>\n",
       "      <td>57</td>\n",
       "      <td>0</td>\n",
       "      <td>57.1</td>\n",
       "      <td>0.1</td>\n",
       "    </tr>\n",
       "    <tr>\n",
       "      <th>11</th>\n",
       "      <td>11</td>\n",
       "      <td>Eguisheim</td>\n",
       "      <td>48.0447968</td>\n",
       "      <td>7.3079618</td>\n",
       "      <td>60</td>\n",
       "      <td>22.86</td>\n",
       "      <td>13.98</td>\n",
       "      <td>25.00</td>\n",
       "      <td>22.77</td>\n",
       "      <td>2.47</td>\n",
       "      <td>36</td>\n",
       "      <td>5</td>\n",
       "      <td>36.1</td>\n",
       "      <td>5.1</td>\n",
       "    </tr>\n",
       "    <tr>\n",
       "      <th>7</th>\n",
       "      <td>7</td>\n",
       "      <td>Lille</td>\n",
       "      <td>50.6365654</td>\n",
       "      <td>3.0635282</td>\n",
       "      <td>56</td>\n",
       "      <td>23.02</td>\n",
       "      <td>14.08</td>\n",
       "      <td>24.22</td>\n",
       "      <td>22.84</td>\n",
       "      <td>3.79</td>\n",
       "      <td>39</td>\n",
       "      <td>100</td>\n",
       "      <td>39.1</td>\n",
       "      <td>100.1</td>\n",
       "    </tr>\n",
       "  </tbody>\n",
       "</table>\n",
       "</div>"
      ],
      "text/plain": [
       "    index                          name            latitude  \\\n",
       "1       1                       St Malo           49.314695   \n",
       "3       3                      Le Havre          49.4938975   \n",
       "2       2                        Bayeux          49.2764624   \n",
       "9       9  Chateau du Haut Koenigsbourg  48.249410749999996   \n",
       "34     34                   La Rochelle          46.1591126   \n",
       "6       6                        Amiens          49.8941708   \n",
       "13     13                         Dijon          47.3215806   \n",
       "0       0             Mont Saint Michel          48.6359541   \n",
       "11     11                     Eguisheim          48.0447968   \n",
       "7       7                         Lille          50.6365654   \n",
       "\n",
       "             longitude  Humidity  Temperature_avg  Temperature_min  \\\n",
       "1          -96.9538228        66            18.05             8.97   \n",
       "3            0.1079732        73            19.09            16.27   \n",
       "2           -0.7024738        66            21.01            12.61   \n",
       "9    7.344320233724503        58            21.02            11.63   \n",
       "34          -1.1520434        64            21.34            14.96   \n",
       "6            2.2956951        62            22.40            13.04   \n",
       "13           5.0414701        61            22.52            13.91   \n",
       "0   -1.511459954959514        63            22.64            13.17   \n",
       "11           7.3079618        60            22.86            13.98   \n",
       "7            3.0635282        56            23.02            14.08   \n",
       "\n",
       "    Temperature_max  Temperature_perceived  Wind_speed  Cloudiness  \\\n",
       "1             20.33                  17.63        3.19           7   \n",
       "3             20.51                  18.96        6.36          19   \n",
       "2             22.14                  20.89        3.98          71   \n",
       "9             22.14                  20.69        2.28          37   \n",
       "34            23.07                  21.20        3.46           5   \n",
       "6             23.44                  22.31        4.81          39   \n",
       "13            25.80                  22.42        3.05          23   \n",
       "0             24.58                  22.60        2.83          57   \n",
       "11            25.00                  22.77        2.47          36   \n",
       "7             24.22                  22.84        3.79          39   \n",
       "\n",
       "    Precipitation_prob  Cloudiness_adjusted  Precipitation_prob_adjusted  \n",
       "1                    0                  7.1                          0.1  \n",
       "3                    0                 19.1                          0.1  \n",
       "2                    0                 71.1                          0.1  \n",
       "9                   39                 37.1                         39.1  \n",
       "34                   0                  5.1                          0.1  \n",
       "6                   63                 39.1                         63.1  \n",
       "13                  21                 23.1                         21.1  \n",
       "0                    0                 57.1                          0.1  \n",
       "11                   5                 36.1                          5.1  \n",
       "7                  100                 39.1                        100.1  "
      ]
     },
     "execution_count": 17,
     "metadata": {},
     "output_type": "execute_result"
    }
   ],
   "source": [
    "# Tri par ordre croissant de la catégorie \"Cloudiness\"\n",
    "df_cities_sorted = df.sort_values(by='Temperature_avg', ascending=True)\n",
    "\n",
    "# Affichage des premières lignes du DataFrame trié\n",
    "df_cities_sorted.head(10)\n"
   ]
  },
  {
   "cell_type": "code",
   "execution_count": 18,
   "metadata": {},
   "outputs": [],
   "source": [
    "top5_city=df_cities_sorted[0:5]"
   ]
  },
  {
   "cell_type": "code",
   "execution_count": 19,
   "metadata": {},
   "outputs": [
    {
     "data": {
      "text/html": [
       "<div>\n",
       "<style scoped>\n",
       "    .dataframe tbody tr th:only-of-type {\n",
       "        vertical-align: middle;\n",
       "    }\n",
       "\n",
       "    .dataframe tbody tr th {\n",
       "        vertical-align: top;\n",
       "    }\n",
       "\n",
       "    .dataframe thead th {\n",
       "        text-align: right;\n",
       "    }\n",
       "</style>\n",
       "<table border=\"1\" class=\"dataframe\">\n",
       "  <thead>\n",
       "    <tr style=\"text-align: right;\">\n",
       "      <th></th>\n",
       "      <th>index</th>\n",
       "      <th>name</th>\n",
       "      <th>latitude</th>\n",
       "      <th>longitude</th>\n",
       "      <th>Humidity</th>\n",
       "      <th>Temperature_avg</th>\n",
       "      <th>Temperature_min</th>\n",
       "      <th>Temperature_max</th>\n",
       "      <th>Temperature_perceived</th>\n",
       "      <th>Wind_speed</th>\n",
       "      <th>Cloudiness</th>\n",
       "      <th>Precipitation_prob</th>\n",
       "      <th>Cloudiness_adjusted</th>\n",
       "      <th>Precipitation_prob_adjusted</th>\n",
       "    </tr>\n",
       "  </thead>\n",
       "  <tbody>\n",
       "    <tr>\n",
       "      <th>1</th>\n",
       "      <td>1</td>\n",
       "      <td>St Malo</td>\n",
       "      <td>49.314695</td>\n",
       "      <td>-96.9538228</td>\n",
       "      <td>66</td>\n",
       "      <td>18.05</td>\n",
       "      <td>8.97</td>\n",
       "      <td>20.33</td>\n",
       "      <td>17.63</td>\n",
       "      <td>3.19</td>\n",
       "      <td>7</td>\n",
       "      <td>0</td>\n",
       "      <td>7.1</td>\n",
       "      <td>0.1</td>\n",
       "    </tr>\n",
       "    <tr>\n",
       "      <th>3</th>\n",
       "      <td>3</td>\n",
       "      <td>Le Havre</td>\n",
       "      <td>49.4938975</td>\n",
       "      <td>0.1079732</td>\n",
       "      <td>73</td>\n",
       "      <td>19.09</td>\n",
       "      <td>16.27</td>\n",
       "      <td>20.51</td>\n",
       "      <td>18.96</td>\n",
       "      <td>6.36</td>\n",
       "      <td>19</td>\n",
       "      <td>0</td>\n",
       "      <td>19.1</td>\n",
       "      <td>0.1</td>\n",
       "    </tr>\n",
       "    <tr>\n",
       "      <th>2</th>\n",
       "      <td>2</td>\n",
       "      <td>Bayeux</td>\n",
       "      <td>49.2764624</td>\n",
       "      <td>-0.7024738</td>\n",
       "      <td>66</td>\n",
       "      <td>21.01</td>\n",
       "      <td>12.61</td>\n",
       "      <td>22.14</td>\n",
       "      <td>20.89</td>\n",
       "      <td>3.98</td>\n",
       "      <td>71</td>\n",
       "      <td>0</td>\n",
       "      <td>71.1</td>\n",
       "      <td>0.1</td>\n",
       "    </tr>\n",
       "    <tr>\n",
       "      <th>9</th>\n",
       "      <td>9</td>\n",
       "      <td>Chateau du Haut Koenigsbourg</td>\n",
       "      <td>48.249410749999996</td>\n",
       "      <td>7.344320233724503</td>\n",
       "      <td>58</td>\n",
       "      <td>21.02</td>\n",
       "      <td>11.63</td>\n",
       "      <td>22.14</td>\n",
       "      <td>20.69</td>\n",
       "      <td>2.28</td>\n",
       "      <td>37</td>\n",
       "      <td>39</td>\n",
       "      <td>37.1</td>\n",
       "      <td>39.1</td>\n",
       "    </tr>\n",
       "    <tr>\n",
       "      <th>34</th>\n",
       "      <td>34</td>\n",
       "      <td>La Rochelle</td>\n",
       "      <td>46.1591126</td>\n",
       "      <td>-1.1520434</td>\n",
       "      <td>64</td>\n",
       "      <td>21.34</td>\n",
       "      <td>14.96</td>\n",
       "      <td>23.07</td>\n",
       "      <td>21.20</td>\n",
       "      <td>3.46</td>\n",
       "      <td>5</td>\n",
       "      <td>0</td>\n",
       "      <td>5.1</td>\n",
       "      <td>0.1</td>\n",
       "    </tr>\n",
       "  </tbody>\n",
       "</table>\n",
       "</div>"
      ],
      "text/plain": [
       "    index                          name            latitude  \\\n",
       "1       1                       St Malo           49.314695   \n",
       "3       3                      Le Havre          49.4938975   \n",
       "2       2                        Bayeux          49.2764624   \n",
       "9       9  Chateau du Haut Koenigsbourg  48.249410749999996   \n",
       "34     34                   La Rochelle          46.1591126   \n",
       "\n",
       "            longitude  Humidity  Temperature_avg  Temperature_min  \\\n",
       "1         -96.9538228        66            18.05             8.97   \n",
       "3           0.1079732        73            19.09            16.27   \n",
       "2          -0.7024738        66            21.01            12.61   \n",
       "9   7.344320233724503        58            21.02            11.63   \n",
       "34         -1.1520434        64            21.34            14.96   \n",
       "\n",
       "    Temperature_max  Temperature_perceived  Wind_speed  Cloudiness  \\\n",
       "1             20.33                  17.63        3.19           7   \n",
       "3             20.51                  18.96        6.36          19   \n",
       "2             22.14                  20.89        3.98          71   \n",
       "9             22.14                  20.69        2.28          37   \n",
       "34            23.07                  21.20        3.46           5   \n",
       "\n",
       "    Precipitation_prob  Cloudiness_adjusted  Precipitation_prob_adjusted  \n",
       "1                    0                  7.1                          0.1  \n",
       "3                    0                 19.1                          0.1  \n",
       "2                    0                 71.1                          0.1  \n",
       "9                   39                 37.1                         39.1  \n",
       "34                   0                  5.1                          0.1  "
      ]
     },
     "execution_count": 19,
     "metadata": {},
     "output_type": "execute_result"
    }
   ],
   "source": [
    "top5_city"
   ]
  },
  {
   "cell_type": "code",
   "execution_count": 20,
   "metadata": {},
   "outputs": [],
   "source": [
    "# Save the dataframe in a csv file\n",
    "top5_city.to_csv(\"files/top_5city.csv\")"
   ]
  },
  {
   "cell_type": "code",
   "execution_count": null,
   "metadata": {},
   "outputs": [],
   "source": [
    "import requests\n",
    "from bs4 import BeautifulSoup\n",
    "import pandas as pd\n",
    "\n",
    "# Lire les données météo\n",
    "weather_data = pd.read_csv('files/cities_forecast_weather.csv')\n",
    "\n",
    "# Vérifier les données de weather_data\n",
    "print(\"Données météo lues depuis le fichier :\")\n",
    "print(weather_data.head())\n",
    "\n",
    "# Initialiser l'agent utilisateur pour les requêtes\n",
    "agent = {'User-Agent': 'Mozilla/5.0 (Windows NT 10.0; Win64; x64) AppleWebKit/537.36 (KHTML, like Gecko) Chrome/105.0.0.0 Safari/537.36'}\n",
    "\n",
    "# Construire les URL de recherche pour chaque ville du dataset météo\n",
    "search_urls = ['https://www.booking.com/searchresults.fr.html?ss='+city+'&nflt=review_score%3D60' for city in weather_data['name']]\n",
    "\n",
    "# Récupérer les URL des hôtels (25 premiers sur la page de recherche de Booking) pour chaque URL de recherche\n",
    "hotels_data = []\n",
    "\n",
    "for url in search_urls:\n",
    "    page = requests.get(url, headers=agent)\n",
    "    soup = BeautifulSoup(page.content, \"html.parser\")\n",
    "    \n",
    "    hotel_cards = soup.find_all('div', class_='sr_item')\n",
    "    \n",
    "    for card in hotel_cards:\n",
    "        hotel_data = {}\n",
    "        \n",
    "        # Nom de l'hôtel\n",
    "        hotel_data['name'] = card.find('span', class_='sr-hotel__name').text.strip()\n",
    "        \n",
    "        # Adresse de l'hôtel\n",
    "        address_element = card.find('div', class_='address')\n",
    "        hotel_data['address'] = address_element.text.strip() if address_element else 'N/A'\n",
    "        \n",
    "        # Description de l'hôtel\n",
    "        description_element = card.find('div', class_='hotel_desc')\n",
    "        hotel_data['description'] = description_element.text.strip() if description_element else 'N/A'\n",
    "        \n",
    "        # Score de l'hôtel\n",
    "        score_element = card.find('div', class_='bui-review-score__badge')\n",
    "        hotel_data['score'] = score_element.text.strip() if score_element else 'N/A'\n",
    "        \n",
    "        # Bonus ou équipements importants\n",
    "        bonus_element = card.find('div', class_='facility-badge')\n",
    "        hotel_data['bonus'] = bonus_element.text.strip() if bonus_element else 'N/A'\n",
    "        \n",
    "        # URL de l'hôtel\n",
    "        url_element = card.find('a', class_='hotel_name_link url')\n",
    "        hotel_data['url'] = url_element['href'] if url_element else 'N/A'\n",
    "        \n",
    "        hotels_data.append(hotel_data)\n",
    "\n",
    "# Vérifier les données des hôtels extraites\n",
    "print(\"\\nExemples de données d'hôtels extraites :\")\n",
    "print(hotels_data[:5])\n",
    "\n",
    "# Créer un DataFrame à partir des données des hôtels\n",
    "if hotels_data:\n",
    "    booking_data = pd.DataFrame(hotels_data)\n",
    "    \n",
    "    # Ajouter les colonnes supplémentaires de weather_data à booking_data\n",
    "    booking_data = pd.concat([weather_data] * (len(booking_data) // len(weather_data)), ignore_index=True)\n",
    "    booking_data = booking_data.drop(['latitude', 'longitude', 'Humidity', 'Temperature_avg', 'Temperature_min', 'Temperature_max', 'Temperature_perceived', 'Wind_speed', 'Cloudiness', 'Precipitation_prob'], axis=1)\n",
    "    \n",
    "    # Nettoyer les données textuelles\n",
    "    for col in ['description', 'score', 'bonus']:\n",
    "        booking_data[col] = booking_data[col].str.replace(r'\\n', ' ').str.replace(r'\\xa0', ' ')\n",
    "    \n",
    "    # Extraire la latitude et la longitude à partir des coordonnées et supprimer la colonne 'latlon'\n",
    "    booking_data[['latitude', 'longitude']] = booking_data['latlon'].str.split(',', expand=True)\n",
    "    booking_data = booking_data.drop('latlon', axis=1)\n",
    "    \n",
    "    # Convertir les types de données\n",
    "    booking_data[['latitude', 'longitude']] = booking_data[['latitude', 'longitude']].astype(float)\n",
    "    \n",
    "    # Utiliser une expression régulière pour extraire le score\n",
    "    booking_data['score'] = booking_data['score'].str.extract(r'(\\d+[\\.,]?\\d*)', expand=False).str.replace(',', '.').astype(float)\n",
    "    \n",
    "    print(\"\\nExemple de données finales après traitement :\")\n",
    "    print(booking_data.head())\n",
    "else:\n",
    "    print(\"Erreur : Aucune donnée d'hôtel n'a été extraite.\")\n",
    "\n"
   ]
  },
  {
   "cell_type": "code",
   "execution_count": 30,
   "metadata": {},
   "outputs": [],
   "source": [
    "# On sauvegarde les données sur les differents hotels\n",
    "\n",
    "booking_data.to_csv('files/booking_data.csv', index=False)"
   ]
  },
  {
   "cell_type": "code",
   "execution_count": null,
   "metadata": {},
   "outputs": [],
   "source": [
    "booking_data.sample(5)"
   ]
  },
  {
   "cell_type": "markdown",
   "metadata": {},
   "source": [
    "# STOCKAGE AWS S3"
   ]
  },
  {
   "cell_type": "code",
   "execution_count": 46,
   "metadata": {},
   "outputs": [],
   "source": [
    "# On cree un bucket s3 Amazon\n",
    "\n",
    "ACCESS_KEY_ID = os.environ.get('aws_access_key_id')\n",
    "SECRET_ACCESS_KEY = os.environ.get('aws_secret_access_key')\n",
    "\n",
    "bucketname = 'booking-mouton-files'"
   ]
  },
  {
   "cell_type": "code",
   "execution_count": null,
   "metadata": {},
   "outputs": [],
   "source": [
    "session = boto3.Session(\n",
    "    aws_access_key_id= ACCESS_KEY_ID,\n",
    "    aws_secret_access_key= SECRET_ACCESS_KEY\n",
    ")\n",
    "\n",
    "s3 = session.client(\"s3\")\n",
    "\n",
    "bucket = s3.create_bucket(Bucket=bucketname, ACL='public-read-write', CreateBucketConfiguration={'LocationConstraint': 'eu-west-3'})"
   ]
  },
  {
   "cell_type": "code",
   "execution_count": null,
   "metadata": {},
   "outputs": [],
   "source": [
    "\n",
    "# Chargement des fichiers\n",
    "\n",
    "s3.Bucket(bucketname).upload_file('files/booking_data.csv','booking_data.csv')\n",
    "s3.Bucket(bucketname).upload_file('files/cities_forecast_weather.csv','cities_forecast_weather.csv')"
   ]
  },
  {
   "cell_type": "code",
   "execution_count": null,
   "metadata": {},
   "outputs": [],
   "source": [
    "# Telechargement d'un dataset pour tester le upload\n",
    "\n",
    "booking_data = pd.read_csv(f\"https://{bucketname}.s3.eu-west-3.amazonaws.com/booking_data.csv\")\n",
    "booking_data.head()"
   ]
  },
  {
   "cell_type": "code",
   "execution_count": null,
   "metadata": {},
   "outputs": [],
   "source": [
    "login = open(\"login.txt\", \"r\").readlines()"
   ]
  },
  {
   "cell_type": "code",
   "execution_count": null,
   "metadata": {},
   "outputs": [],
   "source": [
    "# Configuration de RDS\n",
    "\n",
    "filename = \"booking_data.csv\"\n",
    "\n",
    "s3.download_file(bucketname, filename, filename)\n",
    "\n",
    "data = pd.read_csv(filename)\n",
    "\n",
    "# Connexion à la base de données MySQL\n",
    "\n",
    "# engine = create_engine(f\"mysql+pymysql://{DBUSER}:{DBPASS}@{DBHOST}:{PORT}/{DBNAME}\")\n",
    "engine = create_engine(f\"mysql+pymysql://{login[0].strip()}:{login[1].strip()}@{login[2].strip()}:{login[3].strip()}/{login[4].strip()}\")\n",
    "\n",
    "# Stocker les données dans la base de données\n",
    "data.to_sql('booking_data', con=engine, index=False, if_exists='replace')\n",
    "\n",
    "os.remove(filename)"
   ]
  },
  {
   "cell_type": "code",
   "execution_count": null,
   "metadata": {},
   "outputs": [],
   "source": [
    "engine"
   ]
  },
  {
   "cell_type": "code",
   "execution_count": null,
   "metadata": {},
   "outputs": [],
   "source": [
    "weather_data = pd.read_csv('files/cities_weather_data.csv')"
   ]
  },
  {
   "cell_type": "code",
   "execution_count": null,
   "metadata": {},
   "outputs": [],
   "source": [
    "# stocker les données météo et de réservation sous forme de tables SQL\n",
    "\n",
    "weather_data.to_sql('weather', con=engine, if_exists='replace', index=False)\n",
    "booking_data.to_sql('booking', con=engine, if_exists='replace', index=False)"
   ]
  },
  {
   "cell_type": "code",
   "execution_count": null,
   "metadata": {},
   "outputs": [],
   "source": [
    "# Obtenir des données météorologiques à partir d'une table SQL\n",
    "\n",
    "weather_query = text(\"SELECT * FROM weather WHERE quality > 10 ORDER BY quality DESC LIMIT 5\")\n",
    "weather_selection = pd.read_sql(weather_query, engine)\n",
    "weather_selection.head()"
   ]
  },
  {
   "cell_type": "code",
   "execution_count": null,
   "metadata": {},
   "outputs": [],
   "source": [
    "# choisir les hôtels dont nous avons besoin en fonction de la météo\n",
    "\n",
    "hotel_query = text(\"SELECT * FROM booking WHERE cities in ('Lyon','Paris','Annecy','La Rochelle','Avignon')\")\n",
    "hotel_selection = pd.read_sql(hotel_query, engine)\n",
    "hotel_selection.head()"
   ]
  }
 ],
 "metadata": {
  "kernelspec": {
   "display_name": "base",
   "language": "python",
   "name": "python3"
  },
  "language_info": {
   "codemirror_mode": {
    "name": "ipython",
    "version": 3
   },
   "file_extension": ".py",
   "mimetype": "text/x-python",
   "name": "python",
   "nbconvert_exporter": "python",
   "pygments_lexer": "ipython3",
   "version": "3.12.2"
  }
 },
 "nbformat": 4,
 "nbformat_minor": 2
}
