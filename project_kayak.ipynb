{
 "cells": [
  {
   "cell_type": "code",
   "execution_count": 8,
   "metadata": {},
   "outputs": [],
   "source": [
    "from datetime import datetime, date, timedelta\n",
    "import calendar\n",
    "import os\n",
    "import logging\n",
    "import scrapy\n",
    "from scrapy.crawler import CrawlerProcess\n",
    "\n",
    "from bs4 import BeautifulSoup\n",
    "\n",
    "import requests\n",
    "import pandas as pd\n",
    "import numpy as np\n",
    "from statistics import mode\n",
    "import plotly.express as px\n",
    "import plotly.graph_objects as go\n",
    "import time\n",
    "\n",
    "import requests\n",
    "import pandas as pd\n",
    "from bs4 import BeautifulSoup\n",
    "import os\n",
    "import plotly.express as px\n",
    "import plotly.io as pio\n",
    "\n",
    "import boto3\n",
    "from sqlalchemy import create_engine, text"
   ]
  },
  {
   "cell_type": "code",
   "execution_count": 9,
   "metadata": {},
   "outputs": [],
   "source": [
    "cities = ['Mont Saint Michel', 'St Malo', \"Bayeux\", \"Le Havre\", \"Rouen\", \"Paris\", \"Amiens\", \"Lille\", \"Strasbourg\", \"Chateau du Haut Koenigsbourg\", \"Colmar\", \"Eguisheim\", \"Besancon\", \"Dijon\", \"Annecy\", \"Grenoble\", \"Lyon\", \"Gorges du Verdon\", \"Bormes les Mimosas\", \"Cassis\", \"Marseille\", \"Aix en Provence\", \"Avignon\", \"Uzes\", \"Nimes\", \"Aigues Mortes\", \"Saintes Maries de la mer\", \"Collioure\", \"Carcassonne\", \"Ariege\", \"Toulouse\", \"Montauban\", \"Biarritz\", \"Bayonne\", \"La Rochelle\"]"
   ]
  },
  {
   "cell_type": "code",
   "execution_count": 10,
   "metadata": {},
   "outputs": [],
   "source": [
    "url = \"https://nominatim.openstreetmap.org/search?\"\n",
    "user_agent = \"project_kayak/1.0 (mouton.cl@gmail.com)\"\n",
    "\n",
    "def find_gps(address, format='json'):\n",
    "    params = {\"q\": address, \"format\": format}\n",
    "    headers = {\"User-Agent\": user_agent}\n",
    "    response = requests.get(url, params=params, headers=headers)\n",
    "    \n",
    "    if response.status_code != 200:\n",
    "        print(f\"Erreur: Réponse avec le code de statut {response.status_code} pour l'adresse '{address}'\")\n",
    "        return None\n",
    "    \n",
    "    try:\n",
    "        return response.json()\n",
    "    except ValueError:\n",
    "        print(f\"Erreur: Impossible de parser la réponse JSON pour l'adresse '{address}'\")\n",
    "        print(f\"Contenu de la réponse: {response.text}\")\n",
    "        return None\n",
    "\n",
    "columns = ['id', 'name', 'latitude', 'longitude']\n",
    "data = []\n",
    "\n",
    "for count, city in enumerate(cities):\n",
    "    response = find_gps(address = city)\n",
    "    row =[count, city, response[0]['lat'], response[0]['lon']]\n",
    "    data.append(row)\n",
    "    time.sleep(1)\n",
    "    \n",
    "df_cities = pd.DataFrame(data=data, columns=columns)"
   ]
  },
  {
   "cell_type": "code",
   "execution_count": 11,
   "metadata": {},
   "outputs": [
    {
     "data": {
      "text/html": [
       "<div>\n",
       "<style scoped>\n",
       "    .dataframe tbody tr th:only-of-type {\n",
       "        vertical-align: middle;\n",
       "    }\n",
       "\n",
       "    .dataframe tbody tr th {\n",
       "        vertical-align: top;\n",
       "    }\n",
       "\n",
       "    .dataframe thead th {\n",
       "        text-align: right;\n",
       "    }\n",
       "</style>\n",
       "<table border=\"1\" class=\"dataframe\">\n",
       "  <thead>\n",
       "    <tr style=\"text-align: right;\">\n",
       "      <th></th>\n",
       "      <th>id</th>\n",
       "      <th>name</th>\n",
       "      <th>latitude</th>\n",
       "      <th>longitude</th>\n",
       "    </tr>\n",
       "  </thead>\n",
       "  <tbody>\n",
       "    <tr>\n",
       "      <th>0</th>\n",
       "      <td>0</td>\n",
       "      <td>Mont Saint Michel</td>\n",
       "      <td>48.6359541</td>\n",
       "      <td>-1.511459954959514</td>\n",
       "    </tr>\n",
       "    <tr>\n",
       "      <th>1</th>\n",
       "      <td>1</td>\n",
       "      <td>St Malo</td>\n",
       "      <td>49.314695</td>\n",
       "      <td>-96.9538228</td>\n",
       "    </tr>\n",
       "    <tr>\n",
       "      <th>2</th>\n",
       "      <td>2</td>\n",
       "      <td>Bayeux</td>\n",
       "      <td>49.2764624</td>\n",
       "      <td>-0.7024738</td>\n",
       "    </tr>\n",
       "    <tr>\n",
       "      <th>3</th>\n",
       "      <td>3</td>\n",
       "      <td>Le Havre</td>\n",
       "      <td>49.4938975</td>\n",
       "      <td>0.1079732</td>\n",
       "    </tr>\n",
       "    <tr>\n",
       "      <th>4</th>\n",
       "      <td>4</td>\n",
       "      <td>Rouen</td>\n",
       "      <td>49.4404591</td>\n",
       "      <td>1.0939658</td>\n",
       "    </tr>\n",
       "  </tbody>\n",
       "</table>\n",
       "</div>"
      ],
      "text/plain": [
       "   id               name    latitude           longitude\n",
       "0   0  Mont Saint Michel  48.6359541  -1.511459954959514\n",
       "1   1            St Malo   49.314695         -96.9538228\n",
       "2   2             Bayeux  49.2764624          -0.7024738\n",
       "3   3           Le Havre  49.4938975           0.1079732\n",
       "4   4              Rouen  49.4404591           1.0939658"
      ]
     },
     "metadata": {},
     "output_type": "display_data"
    }
   ],
   "source": [
    "display(df_cities.head())\n",
    "df_cities.to_csv('files/cities_infos.csv', index=False)"
   ]
  },
  {
   "cell_type": "markdown",
   "metadata": {},
   "source": [
    "# Weather"
   ]
  },
  {
   "cell_type": "code",
   "execution_count": 12,
   "metadata": {},
   "outputs": [],
   "source": [
    "api_key = \"01c1f72fc7a91c71b390a1cd59948cd0\""
   ]
  },
  {
   "cell_type": "code",
   "execution_count": 13,
   "metadata": {},
   "outputs": [
    {
     "name": "stdout",
     "output_type": "stream",
     "text": [
      "{'lat': 48.636, 'lon': -1.5115, 'timezone': 'Europe/Paris', 'timezone_offset': 7200, 'current': {'dt': 1721298977, 'sunrise': 1721276580, 'sunset': 1721332871, 'temp': 26.27, 'feels_like': 26.27, 'pressure': 1020, 'humidity': 63, 'dew_point': 18.67, 'uvi': 5.67, 'clouds': 93, 'visibility': 10000, 'wind_speed': 0.89, 'wind_deg': 190, 'wind_gust': 2.24, 'weather': [{'id': 804, 'main': 'Clouds', 'description': 'overcast clouds', 'icon': '04d'}]}, 'minutely': [{'dt': 1721299020, 'precipitation': 0}, {'dt': 1721299080, 'precipitation': 0}, {'dt': 1721299140, 'precipitation': 0}, {'dt': 1721299200, 'precipitation': 0}, {'dt': 1721299260, 'precipitation': 0}, {'dt': 1721299320, 'precipitation': 0}, {'dt': 1721299380, 'precipitation': 0}, {'dt': 1721299440, 'precipitation': 0}, {'dt': 1721299500, 'precipitation': 0}, {'dt': 1721299560, 'precipitation': 0}, {'dt': 1721299620, 'precipitation': 0}, {'dt': 1721299680, 'precipitation': 0}, {'dt': 1721299740, 'precipitation': 0}, {'dt': 1721299800, 'precipitation': 0}, {'dt': 1721299860, 'precipitation': 0}, {'dt': 1721299920, 'precipitation': 0}, {'dt': 1721299980, 'precipitation': 0}, {'dt': 1721300040, 'precipitation': 0}, {'dt': 1721300100, 'precipitation': 0}, {'dt': 1721300160, 'precipitation': 0}, {'dt': 1721300220, 'precipitation': 0}, {'dt': 1721300280, 'precipitation': 0}, {'dt': 1721300340, 'precipitation': 0}, {'dt': 1721300400, 'precipitation': 0}, {'dt': 1721300460, 'precipitation': 0}, {'dt': 1721300520, 'precipitation': 0}, {'dt': 1721300580, 'precipitation': 0}, {'dt': 1721300640, 'precipitation': 0}, {'dt': 1721300700, 'precipitation': 0}, {'dt': 1721300760, 'precipitation': 0}, {'dt': 1721300820, 'precipitation': 0}, {'dt': 1721300880, 'precipitation': 0}, {'dt': 1721300940, 'precipitation': 0}, {'dt': 1721301000, 'precipitation': 0}, {'dt': 1721301060, 'precipitation': 0}, {'dt': 1721301120, 'precipitation': 0}, {'dt': 1721301180, 'precipitation': 0}, {'dt': 1721301240, 'precipitation': 0}, {'dt': 1721301300, 'precipitation': 0}, {'dt': 1721301360, 'precipitation': 0}, {'dt': 1721301420, 'precipitation': 0}, {'dt': 1721301480, 'precipitation': 0}, {'dt': 1721301540, 'precipitation': 0}, {'dt': 1721301600, 'precipitation': 0}, {'dt': 1721301660, 'precipitation': 0}, {'dt': 1721301720, 'precipitation': 0}, {'dt': 1721301780, 'precipitation': 0}, {'dt': 1721301840, 'precipitation': 0}, {'dt': 1721301900, 'precipitation': 0}, {'dt': 1721301960, 'precipitation': 0}, {'dt': 1721302020, 'precipitation': 0}, {'dt': 1721302080, 'precipitation': 0}, {'dt': 1721302140, 'precipitation': 0}, {'dt': 1721302200, 'precipitation': 0}, {'dt': 1721302260, 'precipitation': 0}, {'dt': 1721302320, 'precipitation': 0}, {'dt': 1721302380, 'precipitation': 0}, {'dt': 1721302440, 'precipitation': 0}, {'dt': 1721302500, 'precipitation': 0}, {'dt': 1721302560, 'precipitation': 0}], 'hourly': [{'dt': 1721296800, 'temp': 25.71, 'feels_like': 26.01, 'pressure': 1020, 'humidity': 64, 'dew_point': 18.39, 'uvi': 4.62, 'clouds': 93, 'visibility': 10000, 'wind_speed': 2.77, 'wind_deg': 156, 'wind_gust': 3.68, 'weather': [{'id': 804, 'main': 'Clouds', 'description': 'overcast clouds', 'icon': '04d'}], 'pop': 0}, {'dt': 1721300400, 'temp': 26.27, 'feels_like': 26.27, 'pressure': 1020, 'humidity': 63, 'dew_point': 18.67, 'uvi': 5.67, 'clouds': 93, 'visibility': 10000, 'wind_speed': 2.83, 'wind_deg': 156, 'wind_gust': 3.84, 'weather': [{'id': 804, 'main': 'Clouds', 'description': 'overcast clouds', 'icon': '04d'}], 'pop': 0}, {'dt': 1721304000, 'temp': 26.07, 'feels_like': 26.07, 'pressure': 1020, 'humidity': 62, 'dew_point': 18.23, 'uvi': 6.68, 'clouds': 93, 'visibility': 10000, 'wind_speed': 2.72, 'wind_deg': 157, 'wind_gust': 3.73, 'weather': [{'id': 804, 'main': 'Clouds', 'description': 'overcast clouds', 'icon': '04d'}], 'pop': 0}, {'dt': 1721307600, 'temp': 26.09, 'feels_like': 26.09, 'pressure': 1020, 'humidity': 59, 'dew_point': 17.46, 'uvi': 6.08, 'clouds': 96, 'visibility': 10000, 'wind_speed': 2.28, 'wind_deg': 159, 'wind_gust': 3.34, 'weather': [{'id': 804, 'main': 'Clouds', 'description': 'overcast clouds', 'icon': '04d'}], 'pop': 0}, {'dt': 1721311200, 'temp': 26.32, 'feels_like': 26.32, 'pressure': 1019, 'humidity': 57, 'dew_point': 17.13, 'uvi': 5.04, 'clouds': 95, 'visibility': 10000, 'wind_speed': 2.28, 'wind_deg': 159, 'wind_gust': 3.36, 'weather': [{'id': 804, 'main': 'Clouds', 'description': 'overcast clouds', 'icon': '04d'}], 'pop': 0}, {'dt': 1721314800, 'temp': 26.58, 'feels_like': 26.58, 'pressure': 1018, 'humidity': 54, 'dew_point': 16.52, 'uvi': 3.73, 'clouds': 97, 'visibility': 10000, 'wind_speed': 2.35, 'wind_deg': 159, 'wind_gust': 3.26, 'weather': [{'id': 804, 'main': 'Clouds', 'description': 'overcast clouds', 'icon': '04d'}], 'pop': 0}, {'dt': 1721318400, 'temp': 26.87, 'feels_like': 27.41, 'pressure': 1018, 'humidity': 52, 'dew_point': 16.14, 'uvi': 2.23, 'clouds': 90, 'visibility': 10000, 'wind_speed': 2.62, 'wind_deg': 159, 'wind_gust': 3.46, 'weather': [{'id': 804, 'main': 'Clouds', 'description': 'overcast clouds', 'icon': '04d'}], 'pop': 0}, {'dt': 1721322000, 'temp': 26.86, 'feels_like': 27.58, 'pressure': 1018, 'humidity': 55, 'dew_point': 16.96, 'uvi': 1.16, 'clouds': 78, 'visibility': 10000, 'wind_speed': 2.34, 'wind_deg': 158, 'wind_gust': 3.02, 'weather': [{'id': 803, 'main': 'Clouds', 'description': 'broken clouds', 'icon': '04d'}], 'pop': 0}, {'dt': 1721325600, 'temp': 26.23, 'feels_like': 26.23, 'pressure': 1018, 'humidity': 64, 'dew_point': 18.73, 'uvi': 0.43, 'clouds': 74, 'visibility': 10000, 'wind_speed': 1.78, 'wind_deg': 139, 'wind_gust': 2.22, 'weather': [{'id': 803, 'main': 'Clouds', 'description': 'broken clouds', 'icon': '04d'}], 'pop': 0}, {'dt': 1721329200, 'temp': 24.08, 'feels_like': 24.37, 'pressure': 1018, 'humidity': 70, 'dew_point': 17.99, 'uvi': 0.14, 'clouds': 45, 'visibility': 10000, 'wind_speed': 0.52, 'wind_deg': 122, 'wind_gust': 0.85, 'weather': [{'id': 802, 'main': 'Clouds', 'description': 'scattered clouds', 'icon': '03d'}], 'pop': 0}, {'dt': 1721332800, 'temp': 21.24, 'feels_like': 21.43, 'pressure': 1019, 'humidity': 77, 'dew_point': 16.95, 'uvi': 0, 'clouds': 58, 'visibility': 10000, 'wind_speed': 0.94, 'wind_deg': 343, 'wind_gust': 1.46, 'weather': [{'id': 803, 'main': 'Clouds', 'description': 'broken clouds', 'icon': '04d'}], 'pop': 0}, {'dt': 1721336400, 'temp': 19.56, 'feels_like': 19.76, 'pressure': 1019, 'humidity': 84, 'dew_point': 16.62, 'uvi': 0, 'clouds': 72, 'visibility': 10000, 'wind_speed': 1.03, 'wind_deg': 7, 'wind_gust': 2.23, 'weather': [{'id': 803, 'main': 'Clouds', 'description': 'broken clouds', 'icon': '04n'}], 'pop': 0}, {'dt': 1721340000, 'temp': 18.84, 'feels_like': 19.03, 'pressure': 1019, 'humidity': 86, 'dew_point': 16.28, 'uvi': 0, 'clouds': 82, 'visibility': 10000, 'wind_speed': 0.75, 'wind_deg': 70, 'wind_gust': 1.8, 'weather': [{'id': 803, 'main': 'Clouds', 'description': 'broken clouds', 'icon': '04n'}], 'pop': 0}, {'dt': 1721343600, 'temp': 18.48, 'feels_like': 18.66, 'pressure': 1019, 'humidity': 87, 'dew_point': 16.08, 'uvi': 0, 'clouds': 86, 'visibility': 10000, 'wind_speed': 0.7, 'wind_deg': 140, 'wind_gust': 1.43, 'weather': [{'id': 804, 'main': 'Clouds', 'description': 'overcast clouds', 'icon': '04n'}], 'pop': 0}, {'dt': 1721347200, 'temp': 17.96, 'feels_like': 18.14, 'pressure': 1019, 'humidity': 89, 'dew_point': 15.94, 'uvi': 0, 'clouds': 89, 'visibility': 10000, 'wind_speed': 1.04, 'wind_deg': 175, 'wind_gust': 1.37, 'weather': [{'id': 804, 'main': 'Clouds', 'description': 'overcast clouds', 'icon': '04n'}], 'pop': 0}, {'dt': 1721350800, 'temp': 17.58, 'feels_like': 17.77, 'pressure': 1018, 'humidity': 91, 'dew_point': 15.82, 'uvi': 0, 'clouds': 87, 'visibility': 10000, 'wind_speed': 0.96, 'wind_deg': 178, 'wind_gust': 1.33, 'weather': [{'id': 804, 'main': 'Clouds', 'description': 'overcast clouds', 'icon': '04n'}], 'pop': 0}, {'dt': 1721354400, 'temp': 17.3, 'feels_like': 17.49, 'pressure': 1018, 'humidity': 92, 'dew_point': 15.71, 'uvi': 0, 'clouds': 73, 'visibility': 10000, 'wind_speed': 1.18, 'wind_deg': 184, 'wind_gust': 1.47, 'weather': [{'id': 803, 'main': 'Clouds', 'description': 'broken clouds', 'icon': '04n'}], 'pop': 0}, {'dt': 1721358000, 'temp': 17, 'feels_like': 17.18, 'pressure': 1018, 'humidity': 93, 'dew_point': 15.61, 'uvi': 0, 'clouds': 59, 'visibility': 10000, 'wind_speed': 1.46, 'wind_deg': 207, 'wind_gust': 1.68, 'weather': [{'id': 803, 'main': 'Clouds', 'description': 'broken clouds', 'icon': '04n'}], 'pop': 0}, {'dt': 1721361600, 'temp': 16.72, 'feels_like': 16.88, 'pressure': 1018, 'humidity': 93, 'dew_point': 15.43, 'uvi': 0, 'clouds': 46, 'visibility': 10000, 'wind_speed': 1.38, 'wind_deg': 230, 'wind_gust': 1.67, 'weather': [{'id': 802, 'main': 'Clouds', 'description': 'scattered clouds', 'icon': '03n'}], 'pop': 0}, {'dt': 1721365200, 'temp': 16.66, 'feels_like': 16.84, 'pressure': 1018, 'humidity': 94, 'dew_point': 15.57, 'uvi': 0.09, 'clouds': 38, 'visibility': 10000, 'wind_speed': 1.31, 'wind_deg': 249, 'wind_gust': 1.71, 'weather': [{'id': 802, 'main': 'Clouds', 'description': 'scattered clouds', 'icon': '03d'}], 'pop': 0}, {'dt': 1721368800, 'temp': 18.02, 'feels_like': 18.25, 'pressure': 1018, 'humidity': 91, 'dew_point': 16.33, 'uvi': 0.4, 'clouds': 36, 'visibility': 10000, 'wind_speed': 1.61, 'wind_deg': 264, 'wind_gust': 2.48, 'weather': [{'id': 802, 'main': 'Clouds', 'description': 'scattered clouds', 'icon': '03d'}], 'pop': 0}, {'dt': 1721372400, 'temp': 19.29, 'feels_like': 19.52, 'pressure': 1018, 'humidity': 86, 'dew_point': 16.6, 'uvi': 1.08, 'clouds': 59, 'visibility': 10000, 'wind_speed': 1.6, 'wind_deg': 260, 'wind_gust': 1.89, 'weather': [{'id': 803, 'main': 'Clouds', 'description': 'broken clouds', 'icon': '04d'}], 'pop': 0}, {'dt': 1721376000, 'temp': 20.49, 'feels_like': 20.71, 'pressure': 1018, 'humidity': 81, 'dew_point': 16.77, 'uvi': 2.23, 'clouds': 80, 'visibility': 10000, 'wind_speed': 1.55, 'wind_deg': 261, 'wind_gust': 1.41, 'weather': [{'id': 803, 'main': 'Clouds', 'description': 'broken clouds', 'icon': '04d'}], 'pop': 0}, {'dt': 1721379600, 'temp': 21.34, 'feels_like': 21.54, 'pressure': 1018, 'humidity': 77, 'dew_point': 16.99, 'uvi': 3.65, 'clouds': 69, 'visibility': 10000, 'wind_speed': 2.63, 'wind_deg': 291, 'wind_gust': 2.37, 'weather': [{'id': 803, 'main': 'Clouds', 'description': 'broken clouds', 'icon': '04d'}], 'pop': 0}, {'dt': 1721383200, 'temp': 22.09, 'feels_like': 22.29, 'pressure': 1018, 'humidity': 74, 'dew_point': 17.01, 'uvi': 5.22, 'clouds': 54, 'visibility': 10000, 'wind_speed': 2.78, 'wind_deg': 300, 'wind_gust': 2.55, 'weather': [{'id': 803, 'main': 'Clouds', 'description': 'broken clouds', 'icon': '04d'}], 'pop': 0}, {'dt': 1721386800, 'temp': 22.8, 'feels_like': 22.99, 'pressure': 1018, 'humidity': 71, 'dew_point': 16.85, 'uvi': 6.49, 'clouds': 43, 'visibility': 10000, 'wind_speed': 2.95, 'wind_deg': 303, 'wind_gust': 2.85, 'weather': [{'id': 802, 'main': 'Clouds', 'description': 'scattered clouds', 'icon': '03d'}], 'pop': 0}, {'dt': 1721390400, 'temp': 22.98, 'feels_like': 23.14, 'pressure': 1018, 'humidity': 69, 'dew_point': 16.68, 'uvi': 7.12, 'clouds': 36, 'visibility': 10000, 'wind_speed': 3.77, 'wind_deg': 312, 'wind_gust': 3.54, 'weather': [{'id': 802, 'main': 'Clouds', 'description': 'scattered clouds', 'icon': '03d'}], 'pop': 0}, {'dt': 1721394000, 'temp': 22.61, 'feels_like': 22.75, 'pressure': 1018, 'humidity': 70, 'dew_point': 16.64, 'uvi': 6.82, 'clouds': 0, 'visibility': 10000, 'wind_speed': 4.5, 'wind_deg': 333, 'wind_gust': 3.9, 'weather': [{'id': 800, 'main': 'Clear', 'description': 'clear sky', 'icon': '01d'}], 'pop': 0}, {'dt': 1721397600, 'temp': 22.43, 'feels_like': 22.56, 'pressure': 1018, 'humidity': 70, 'dew_point': 16.78, 'uvi': 5.77, 'clouds': 0, 'visibility': 10000, 'wind_speed': 3.97, 'wind_deg': 342, 'wind_gust': 2.96, 'weather': [{'id': 800, 'main': 'Clear', 'description': 'clear sky', 'icon': '01d'}], 'pop': 0}, {'dt': 1721401200, 'temp': 22.92, 'feels_like': 23.04, 'pressure': 1017, 'humidity': 68, 'dew_point': 16.5, 'uvi': 4.24, 'clouds': 0, 'visibility': 10000, 'wind_speed': 3.26, 'wind_deg': 340, 'wind_gust': 2.57, 'weather': [{'id': 800, 'main': 'Clear', 'description': 'clear sky', 'icon': '01d'}], 'pop': 0}, {'dt': 1721404800, 'temp': 23.25, 'feels_like': 23.33, 'pressure': 1016, 'humidity': 65, 'dew_point': 16.14, 'uvi': 2.63, 'clouds': 0, 'visibility': 10000, 'wind_speed': 2.97, 'wind_deg': 336, 'wind_gust': 2.62, 'weather': [{'id': 800, 'main': 'Clear', 'description': 'clear sky', 'icon': '01d'}], 'pop': 0}, {'dt': 1721408400, 'temp': 22.76, 'feels_like': 22.81, 'pressure': 1016, 'humidity': 66, 'dew_point': 16.02, 'uvi': 1.26, 'clouds': 2, 'visibility': 10000, 'wind_speed': 3.03, 'wind_deg': 332, 'wind_gust': 2.89, 'weather': [{'id': 800, 'main': 'Clear', 'description': 'clear sky', 'icon': '01d'}], 'pop': 0}, {'dt': 1721412000, 'temp': 21.39, 'feels_like': 21.44, 'pressure': 1016, 'humidity': 71, 'dew_point': 15.74, 'uvi': 0.54, 'clouds': 18, 'visibility': 10000, 'wind_speed': 3.1, 'wind_deg': 326, 'wind_gust': 3.69, 'weather': [{'id': 801, 'main': 'Clouds', 'description': 'few clouds', 'icon': '02d'}], 'pop': 0}, {'dt': 1721415600, 'temp': 19.52, 'feels_like': 19.56, 'pressure': 1016, 'humidity': 78, 'dew_point': 15.43, 'uvi': 0.15, 'clouds': 100, 'visibility': 10000, 'wind_speed': 2.83, 'wind_deg': 334, 'wind_gust': 4, 'weather': [{'id': 804, 'main': 'Clouds', 'description': 'overcast clouds', 'icon': '04d'}], 'pop': 0}, {'dt': 1721419200, 'temp': 18.08, 'feels_like': 18.03, 'pressure': 1016, 'humidity': 80, 'dew_point': 14.38, 'uvi': 0, 'clouds': 100, 'visibility': 10000, 'wind_speed': 2.44, 'wind_deg': 345, 'wind_gust': 2.66, 'weather': [{'id': 804, 'main': 'Clouds', 'description': 'overcast clouds', 'icon': '04d'}], 'pop': 0}, {'dt': 1721422800, 'temp': 17.4, 'feels_like': 17.31, 'pressure': 1016, 'humidity': 81, 'dew_point': 13.97, 'uvi': 0, 'clouds': 100, 'visibility': 10000, 'wind_speed': 2.27, 'wind_deg': 333, 'wind_gust': 2.45, 'weather': [{'id': 804, 'main': 'Clouds', 'description': 'overcast clouds', 'icon': '04n'}], 'pop': 0}, {'dt': 1721426400, 'temp': 17.14, 'feels_like': 17.02, 'pressure': 1016, 'humidity': 81, 'dew_point': 13.72, 'uvi': 0, 'clouds': 100, 'visibility': 10000, 'wind_speed': 1.98, 'wind_deg': 331, 'wind_gust': 2.18, 'weather': [{'id': 804, 'main': 'Clouds', 'description': 'overcast clouds', 'icon': '04n'}], 'pop': 0}, {'dt': 1721430000, 'temp': 16.89, 'feels_like': 16.75, 'pressure': 1015, 'humidity': 81, 'dew_point': 13.4, 'uvi': 0, 'clouds': 100, 'visibility': 10000, 'wind_speed': 1.7, 'wind_deg': 343, 'wind_gust': 1.89, 'weather': [{'id': 804, 'main': 'Clouds', 'description': 'overcast clouds', 'icon': '04n'}], 'pop': 0}, {'dt': 1721433600, 'temp': 16.63, 'feels_like': 16.44, 'pressure': 1014, 'humidity': 80, 'dew_point': 13.06, 'uvi': 0, 'clouds': 100, 'visibility': 10000, 'wind_speed': 1.41, 'wind_deg': 2, 'wind_gust': 1.59, 'weather': [{'id': 804, 'main': 'Clouds', 'description': 'overcast clouds', 'icon': '04n'}], 'pop': 0}, {'dt': 1721437200, 'temp': 16.35, 'feels_like': 16.13, 'pressure': 1014, 'humidity': 80, 'dew_point': 12.78, 'uvi': 0, 'clouds': 97, 'visibility': 10000, 'wind_speed': 0.67, 'wind_deg': 25, 'wind_gust': 0.85, 'weather': [{'id': 804, 'main': 'Clouds', 'description': 'overcast clouds', 'icon': '04n'}], 'pop': 0}, {'dt': 1721440800, 'temp': 16.01, 'feels_like': 15.81, 'pressure': 1013, 'humidity': 82, 'dew_point': 12.64, 'uvi': 0, 'clouds': 99, 'visibility': 10000, 'wind_speed': 0.42, 'wind_deg': 220, 'wind_gust': 0.72, 'weather': [{'id': 804, 'main': 'Clouds', 'description': 'overcast clouds', 'icon': '04n'}], 'pop': 0}, {'dt': 1721444400, 'temp': 15.74, 'feels_like': 15.51, 'pressure': 1013, 'humidity': 82, 'dew_point': 12.56, 'uvi': 0, 'clouds': 95, 'visibility': 10000, 'wind_speed': 1.3, 'wind_deg': 214, 'wind_gust': 1.29, 'weather': [{'id': 804, 'main': 'Clouds', 'description': 'overcast clouds', 'icon': '04n'}], 'pop': 0}, {'dt': 1721448000, 'temp': 15.66, 'feels_like': 15.42, 'pressure': 1012, 'humidity': 82, 'dew_point': 12.44, 'uvi': 0, 'clouds': 97, 'visibility': 10000, 'wind_speed': 1.77, 'wind_deg': 216, 'wind_gust': 1.83, 'weather': [{'id': 804, 'main': 'Clouds', 'description': 'overcast clouds', 'icon': '04n'}], 'pop': 0}, {'dt': 1721451600, 'temp': 15.89, 'feels_like': 15.7, 'pressure': 1012, 'humidity': 83, 'dew_point': 12.74, 'uvi': 0, 'clouds': 96, 'visibility': 10000, 'wind_speed': 2.06, 'wind_deg': 216, 'wind_gust': 2.04, 'weather': [{'id': 804, 'main': 'Clouds', 'description': 'overcast clouds', 'icon': '04d'}], 'pop': 0}, {'dt': 1721455200, 'temp': 17.07, 'feels_like': 17, 'pressure': 1012, 'humidity': 83, 'dew_point': 13.95, 'uvi': 0.4, 'clouds': 97, 'visibility': 10000, 'wind_speed': 1.98, 'wind_deg': 211, 'wind_gust': 3.11, 'weather': [{'id': 804, 'main': 'Clouds', 'description': 'overcast clouds', 'icon': '04d'}], 'pop': 0}, {'dt': 1721458800, 'temp': 18.46, 'feels_like': 18.5, 'pressure': 1011, 'humidity': 82, 'dew_point': 15.22, 'uvi': 1.13, 'clouds': 100, 'visibility': 10000, 'wind_speed': 2.37, 'wind_deg': 209, 'wind_gust': 3.53, 'weather': [{'id': 804, 'main': 'Clouds', 'description': 'overcast clouds', 'icon': '04d'}], 'pop': 0}, {'dt': 1721462400, 'temp': 20.04, 'feels_like': 20.19, 'pressure': 1011, 'humidity': 80, 'dew_point': 16.34, 'uvi': 2.33, 'clouds': 100, 'visibility': 10000, 'wind_speed': 2.69, 'wind_deg': 211, 'wind_gust': 3.9, 'weather': [{'id': 804, 'main': 'Clouds', 'description': 'overcast clouds', 'icon': '04d'}], 'pop': 0}, {'dt': 1721466000, 'temp': 21.35, 'feels_like': 21.55, 'pressure': 1010, 'humidity': 77, 'dew_point': 16.96, 'uvi': 3.9, 'clouds': 100, 'visibility': 10000, 'wind_speed': 3.1, 'wind_deg': 206, 'wind_gust': 4.57, 'weather': [{'id': 804, 'main': 'Clouds', 'description': 'overcast clouds', 'icon': '04d'}], 'pop': 0}], 'daily': [{'dt': 1721304000, 'sunrise': 1721276580, 'sunset': 1721332871, 'moonrise': 1721326320, 'moonset': 1721263260, 'moon_phase': 0.39, 'summary': 'There will be partly cloudy today', 'temp': {'day': 26.07, 'min': 15.99, 'max': 26.87, 'night': 19.56, 'eve': 26.23, 'morn': 17.52}, 'feels_like': {'day': 26.07, 'night': 19.76, 'eve': 26.23, 'morn': 17.44}, 'pressure': 1020, 'humidity': 62, 'dew_point': 18.23, 'wind_speed': 3.16, 'wind_deg': 75, 'wind_gust': 4.45, 'weather': [{'id': 804, 'main': 'Clouds', 'description': 'overcast clouds', 'icon': '04d'}], 'clouds': 93, 'pop': 0, 'uvi': 6.68}, {'dt': 1721390400, 'sunrise': 1721363049, 'sunset': 1721419211, 'moonrise': 1721416440, 'moonset': 1721352480, 'moon_phase': 0.43, 'summary': 'Expect a day of partly cloudy with clear spells', 'temp': {'day': 22.98, 'min': 16.66, 'max': 23.25, 'night': 17.4, 'eve': 21.39, 'morn': 18.02}, 'feels_like': {'day': 23.14, 'night': 17.31, 'eve': 21.44, 'morn': 18.25}, 'pressure': 1018, 'humidity': 69, 'dew_point': 16.68, 'wind_speed': 4.5, 'wind_deg': 333, 'wind_gust': 4, 'weather': [{'id': 802, 'main': 'Clouds', 'description': 'scattered clouds', 'icon': '03d'}], 'clouds': 36, 'pop': 0, 'uvi': 7.12}, {'dt': 1721476800, 'sunrise': 1721449518, 'sunset': 1721505550, 'moonrise': 1721505780, 'moonset': 1721442540, 'moon_phase': 0.46, 'summary': 'Expect a day of partly cloudy with rain', 'temp': {'day': 22.81, 'min': 15.66, 'max': 23.51, 'night': 16.95, 'eve': 18.22, 'morn': 17.07}, 'feels_like': {'day': 23.1, 'night': 17.16, 'eve': 18.5, 'morn': 17}, 'pressure': 1008, 'humidity': 75, 'dew_point': 17.97, 'wind_speed': 7.71, 'wind_deg': 233, 'wind_gust': 11.16, 'weather': [{'id': 501, 'main': 'Rain', 'description': 'moderate rain', 'icon': '10d'}], 'clouds': 100, 'pop': 1, 'rain': 8.11, 'uvi': 6.51}, {'dt': 1721563200, 'sunrise': 1721535989, 'sunset': 1721591885, 'moonrise': 1721594340, 'moonset': 1721533620, 'moon_phase': 0.5, 'summary': 'Expect a day of partly cloudy with rain', 'temp': {'day': 18.35, 'min': 13.7, 'max': 18.67, 'night': 15.56, 'eve': 16.9, 'morn': 14.5}, 'feels_like': {'day': 17.99, 'night': 15.34, 'eve': 16.6, 'morn': 14.25}, 'pressure': 1015, 'humidity': 67, 'dew_point': 12.1, 'wind_speed': 7.89, 'wind_deg': 285, 'wind_gust': 12.36, 'weather': [{'id': 500, 'main': 'Rain', 'description': 'light rain', 'icon': '10d'}], 'clouds': 54, 'pop': 0.96, 'rain': 0.77, 'uvi': 6.93}, {'dt': 1721649600, 'sunrise': 1721622461, 'sunset': 1721678219, 'moonrise': 1721682360, 'moonset': 1721625120, 'moon_phase': 0.54, 'summary': 'Expect a day of partly cloudy with rain', 'temp': {'day': 18.69, 'min': 12.15, 'max': 18.79, 'night': 16.68, 'eve': 17.8, 'morn': 13.98}, 'feels_like': {'day': 18.68, 'night': 16.73, 'eve': 17.78, 'morn': 13.81}, 'pressure': 1016, 'humidity': 79, 'dew_point': 14.79, 'wind_speed': 6.89, 'wind_deg': 212, 'wind_gust': 10.8, 'weather': [{'id': 500, 'main': 'Rain', 'description': 'light rain', 'icon': '10d'}], 'clouds': 99, 'pop': 0.35, 'rain': 0.97, 'uvi': 4.52}, {'dt': 1721736000, 'sunrise': 1721708934, 'sunset': 1721764551, 'moonrise': 1721770020, 'moonset': 1721716740, 'moon_phase': 0.57, 'summary': 'Expect a day of partly cloudy with rain', 'temp': {'day': 19.45, 'min': 14.03, 'max': 19.57, 'night': 14.4, 'eve': 17.99, 'morn': 14.76}, 'feels_like': {'day': 19.1, 'night': 14.17, 'eve': 17.72, 'morn': 14.51}, 'pressure': 1023, 'humidity': 63, 'dew_point': 12, 'wind_speed': 5.57, 'wind_deg': 296, 'wind_gust': 9.39, 'weather': [{'id': 500, 'main': 'Rain', 'description': 'light rain', 'icon': '10d'}], 'clouds': 4, 'pop': 0.2, 'rain': 0.36, 'uvi': 5}, {'dt': 1721822400, 'sunrise': 1721795408, 'sunset': 1721850880, 'moonrise': 1721857500, 'moonset': 1721808360, 'moon_phase': 0.61, 'summary': 'Expect a day of partly cloudy with rain', 'temp': {'day': 16.39, 'min': 14.53, 'max': 19.24, 'night': 16.88, 'eve': 19.24, 'morn': 15.33}, 'feels_like': {'day': 16.49, 'night': 17.08, 'eve': 19.65, 'morn': 15.14}, 'pressure': 1022, 'humidity': 92, 'dew_point': 14.9, 'wind_speed': 4.62, 'wind_deg': 215, 'wind_gust': 7.83, 'weather': [{'id': 500, 'main': 'Rain', 'description': 'light rain', 'icon': '10d'}], 'clouds': 95, 'pop': 0.91, 'rain': 1.17, 'uvi': 5}, {'dt': 1721908800, 'sunrise': 1721881882, 'sunset': 1721937208, 'moonrise': 0, 'moonset': 1721899860, 'moon_phase': 0.65, 'summary': 'Expect a day of partly cloudy with rain', 'temp': {'day': 23.59, 'min': 16.94, 'max': 23.72, 'night': 17.24, 'eve': 19.75, 'morn': 17.86}, 'feels_like': {'day': 23.86, 'night': 17.58, 'eve': 20.03, 'morn': 18.21}, 'pressure': 1015, 'humidity': 71, 'dew_point': 17.9, 'wind_speed': 6.4, 'wind_deg': 235, 'wind_gust': 8.48, 'weather': [{'id': 500, 'main': 'Rain', 'description': 'light rain', 'icon': '10d'}], 'clouds': 97, 'pop': 1, 'rain': 1.59, 'uvi': 5}]}\n"
     ]
    }
   ],
   "source": [
    "# Extraire les coordonnées de la première ville\n",
    "lat = df_cities.iloc[0]['latitude']\n",
    "lon = df_cities.iloc[0]['longitude']\n",
    "\n",
    "# Requête API pour la première ville\n",
    "response = requests.get(f\"https://api.openweathermap.org/data/3.0/onecall?lat={lat}&lon={lon}&units=metric&appid={api_key}\")\n",
    "\n",
    "# Vérifier si la requête a réussi\n",
    "if response.status_code == 200:\n",
    "    data = response.json()  # Convertir la réponse en format JSON\n",
    "    # Maintenant, vous pouvez traiter les données comme vous le souhaitez\n",
    "    print(data)\n",
    "else:\n",
    "    print(\"La requête a échoué, code d'erreur :\", response.status_code)\n"
   ]
  },
  {
   "cell_type": "code",
   "execution_count": 14,
   "metadata": {},
   "outputs": [],
   "source": [
    "def get_weather(latitude, longitude):\n",
    "    # We set units = metric to have Celsius temperature instead of Kelvin\n",
    "    # We only keep information about daily forecast for 8 days \n",
    "    url = f\"https://api.openweathermap.org/data/3.0/onecall?lat={latitude}&lon={longitude}&units=metric&exclude=current,minutely,hourly,alerts&appid={api_key}\"\n",
    "    response = requests.get(url)\n",
    "    data = response.json()\n",
    "\n",
    "    if data :\n",
    "        humidity = data[\"daily\"][0][\"humidity\"]                     # % of humidity\n",
    "        temp_avg = data[\"daily\"][0][\"temp\"][\"day\"]                  # average temperature\n",
    "        temp_min = data[\"daily\"][0][\"temp\"][\"min\"]                  # minimum temperature\n",
    "        temp_max = data[\"daily\"][0][\"temp\"][\"max\"]                  # maximum temperature\n",
    "        temp_perceived = data[\"daily\"][0][\"feels_like\"][\"day\"]      # perceived temperature\n",
    "        wind_speed = data[\"daily\"][0][\"wind_speed\"]                 # wind speed in meter/seconde\n",
    "        clouds = data[\"daily\"][0][\"clouds\"]                         # % of cloudiness\n",
    "        pop = data[\"daily\"][0][\"pop\"]                               # probability of precipitation, between 0 and 1\n",
    "        \n",
    "        return humidity, temp_avg, temp_min, temp_max, temp_perceived, wind_speed, clouds, pop\n",
    "    else:\n",
    "        return None"
   ]
  },
  {
   "cell_type": "code",
   "execution_count": 15,
   "metadata": {},
   "outputs": [
    {
     "data": {
      "text/html": [
       "<div>\n",
       "<style scoped>\n",
       "    .dataframe tbody tr th:only-of-type {\n",
       "        vertical-align: middle;\n",
       "    }\n",
       "\n",
       "    .dataframe tbody tr th {\n",
       "        vertical-align: top;\n",
       "    }\n",
       "\n",
       "    .dataframe thead th {\n",
       "        text-align: right;\n",
       "    }\n",
       "</style>\n",
       "<table border=\"1\" class=\"dataframe\">\n",
       "  <thead>\n",
       "    <tr style=\"text-align: right;\">\n",
       "      <th></th>\n",
       "      <th>name</th>\n",
       "      <th>latitude</th>\n",
       "      <th>longitude</th>\n",
       "      <th>Humidity</th>\n",
       "      <th>Temperature_avg</th>\n",
       "      <th>Temperature_min</th>\n",
       "      <th>Temperature_max</th>\n",
       "      <th>Temperature_perceived</th>\n",
       "      <th>Wind_speed</th>\n",
       "      <th>Cloudiness</th>\n",
       "      <th>Precipitation_prob</th>\n",
       "    </tr>\n",
       "  </thead>\n",
       "  <tbody>\n",
       "    <tr>\n",
       "      <th>0</th>\n",
       "      <td>Mont Saint Michel</td>\n",
       "      <td>48.6359541</td>\n",
       "      <td>-1.511459954959514</td>\n",
       "      <td>62</td>\n",
       "      <td>26.07</td>\n",
       "      <td>15.99</td>\n",
       "      <td>26.87</td>\n",
       "      <td>26.07</td>\n",
       "      <td>3.16</td>\n",
       "      <td>93</td>\n",
       "      <td>0</td>\n",
       "    </tr>\n",
       "    <tr>\n",
       "      <th>1</th>\n",
       "      <td>St Malo</td>\n",
       "      <td>49.314695</td>\n",
       "      <td>-96.9538228</td>\n",
       "      <td>61</td>\n",
       "      <td>22.33</td>\n",
       "      <td>12.14</td>\n",
       "      <td>24.61</td>\n",
       "      <td>22.21</td>\n",
       "      <td>4.00</td>\n",
       "      <td>5</td>\n",
       "      <td>0</td>\n",
       "    </tr>\n",
       "    <tr>\n",
       "      <th>2</th>\n",
       "      <td>Bayeux</td>\n",
       "      <td>49.2764624</td>\n",
       "      <td>-0.7024738</td>\n",
       "      <td>55</td>\n",
       "      <td>25.31</td>\n",
       "      <td>14.88</td>\n",
       "      <td>26.68</td>\n",
       "      <td>25.33</td>\n",
       "      <td>3.89</td>\n",
       "      <td>96</td>\n",
       "      <td>0</td>\n",
       "    </tr>\n",
       "    <tr>\n",
       "      <th>3</th>\n",
       "      <td>Le Havre</td>\n",
       "      <td>49.4938975</td>\n",
       "      <td>0.1079732</td>\n",
       "      <td>51</td>\n",
       "      <td>25.83</td>\n",
       "      <td>16.83</td>\n",
       "      <td>26.51</td>\n",
       "      <td>25.80</td>\n",
       "      <td>3.66</td>\n",
       "      <td>18</td>\n",
       "      <td>20</td>\n",
       "    </tr>\n",
       "    <tr>\n",
       "      <th>4</th>\n",
       "      <td>Rouen</td>\n",
       "      <td>49.4404591</td>\n",
       "      <td>1.0939658</td>\n",
       "      <td>52</td>\n",
       "      <td>26.28</td>\n",
       "      <td>15.21</td>\n",
       "      <td>26.43</td>\n",
       "      <td>26.28</td>\n",
       "      <td>3.18</td>\n",
       "      <td>19</td>\n",
       "      <td>0</td>\n",
       "    </tr>\n",
       "  </tbody>\n",
       "</table>\n",
       "</div>"
      ],
      "text/plain": [
       "                name    latitude           longitude  Humidity  \\\n",
       "0  Mont Saint Michel  48.6359541  -1.511459954959514        62   \n",
       "1            St Malo   49.314695         -96.9538228        61   \n",
       "2             Bayeux  49.2764624          -0.7024738        55   \n",
       "3           Le Havre  49.4938975           0.1079732        51   \n",
       "4              Rouen  49.4404591           1.0939658        52   \n",
       "\n",
       "   Temperature_avg  Temperature_min  Temperature_max  Temperature_perceived  \\\n",
       "0            26.07            15.99            26.87                  26.07   \n",
       "1            22.33            12.14            24.61                  22.21   \n",
       "2            25.31            14.88            26.68                  25.33   \n",
       "3            25.83            16.83            26.51                  25.80   \n",
       "4            26.28            15.21            26.43                  26.28   \n",
       "\n",
       "   Wind_speed  Cloudiness  Precipitation_prob  \n",
       "0        3.16          93                   0  \n",
       "1        4.00           5                   0  \n",
       "2        3.89          96                   0  \n",
       "3        3.66          18                  20  \n",
       "4        3.18          19                   0  "
      ]
     },
     "execution_count": 15,
     "metadata": {},
     "output_type": "execute_result"
    }
   ],
   "source": [
    "weather_results = []\n",
    "\n",
    "for index, row in df_cities.iterrows():\n",
    "    name = row[\"name\"]\n",
    "    latitude = row[\"latitude\"]\n",
    "    longitude = row[\"longitude\"]\n",
    "\n",
    "    humidity, temp_avg, temp_min, temp_max, temp_perceived, wind_speed, clouds, pop = get_weather(latitude, longitude)\n",
    "\n",
    "    weather_results.append({\"name\": name, \n",
    "                            \"latitude\": latitude, \n",
    "                            \"longitude\": longitude, \n",
    "                            \"Humidity\": humidity, \n",
    "                            \"Temperature_avg\": temp_avg,\n",
    "                            \"Temperature_min\": temp_min,\n",
    "                            \"Temperature_max\": temp_max,\n",
    "                            \"Temperature_perceived\": temp_perceived,\n",
    "                            \"Wind_speed\": wind_speed,\n",
    "                            \"Cloudiness\": clouds,\n",
    "                            \"Precipitation_prob\" : round(pop*100) # to have the probability of precipitation in %\n",
    "                            })\n",
    "\n",
    "df = pd.DataFrame(weather_results)\n",
    "df.head()"
   ]
  },
  {
   "cell_type": "code",
   "execution_count": 16,
   "metadata": {},
   "outputs": [
    {
     "data": {
      "text/html": [
       "<div>\n",
       "<style scoped>\n",
       "    .dataframe tbody tr th:only-of-type {\n",
       "        vertical-align: middle;\n",
       "    }\n",
       "\n",
       "    .dataframe tbody tr th {\n",
       "        vertical-align: top;\n",
       "    }\n",
       "\n",
       "    .dataframe thead th {\n",
       "        text-align: right;\n",
       "    }\n",
       "</style>\n",
       "<table border=\"1\" class=\"dataframe\">\n",
       "  <thead>\n",
       "    <tr style=\"text-align: right;\">\n",
       "      <th></th>\n",
       "      <th>index</th>\n",
       "      <th>name</th>\n",
       "      <th>latitude</th>\n",
       "      <th>longitude</th>\n",
       "      <th>Humidity</th>\n",
       "      <th>Temperature_avg</th>\n",
       "      <th>Temperature_min</th>\n",
       "      <th>Temperature_max</th>\n",
       "      <th>Temperature_perceived</th>\n",
       "      <th>Wind_speed</th>\n",
       "      <th>Cloudiness</th>\n",
       "      <th>Precipitation_prob</th>\n",
       "    </tr>\n",
       "  </thead>\n",
       "  <tbody>\n",
       "    <tr>\n",
       "      <th>0</th>\n",
       "      <td>0</td>\n",
       "      <td>Mont Saint Michel</td>\n",
       "      <td>48.6359541</td>\n",
       "      <td>-1.511459954959514</td>\n",
       "      <td>62</td>\n",
       "      <td>26.07</td>\n",
       "      <td>15.99</td>\n",
       "      <td>26.87</td>\n",
       "      <td>26.07</td>\n",
       "      <td>3.16</td>\n",
       "      <td>93</td>\n",
       "      <td>0</td>\n",
       "    </tr>\n",
       "    <tr>\n",
       "      <th>1</th>\n",
       "      <td>1</td>\n",
       "      <td>St Malo</td>\n",
       "      <td>49.314695</td>\n",
       "      <td>-96.9538228</td>\n",
       "      <td>61</td>\n",
       "      <td>22.33</td>\n",
       "      <td>12.14</td>\n",
       "      <td>24.61</td>\n",
       "      <td>22.21</td>\n",
       "      <td>4.00</td>\n",
       "      <td>5</td>\n",
       "      <td>0</td>\n",
       "    </tr>\n",
       "    <tr>\n",
       "      <th>2</th>\n",
       "      <td>2</td>\n",
       "      <td>Bayeux</td>\n",
       "      <td>49.2764624</td>\n",
       "      <td>-0.7024738</td>\n",
       "      <td>55</td>\n",
       "      <td>25.31</td>\n",
       "      <td>14.88</td>\n",
       "      <td>26.68</td>\n",
       "      <td>25.33</td>\n",
       "      <td>3.89</td>\n",
       "      <td>96</td>\n",
       "      <td>0</td>\n",
       "    </tr>\n",
       "    <tr>\n",
       "      <th>3</th>\n",
       "      <td>3</td>\n",
       "      <td>Le Havre</td>\n",
       "      <td>49.4938975</td>\n",
       "      <td>0.1079732</td>\n",
       "      <td>51</td>\n",
       "      <td>25.83</td>\n",
       "      <td>16.83</td>\n",
       "      <td>26.51</td>\n",
       "      <td>25.80</td>\n",
       "      <td>3.66</td>\n",
       "      <td>18</td>\n",
       "      <td>20</td>\n",
       "    </tr>\n",
       "    <tr>\n",
       "      <th>4</th>\n",
       "      <td>4</td>\n",
       "      <td>Rouen</td>\n",
       "      <td>49.4404591</td>\n",
       "      <td>1.0939658</td>\n",
       "      <td>52</td>\n",
       "      <td>26.28</td>\n",
       "      <td>15.21</td>\n",
       "      <td>26.43</td>\n",
       "      <td>26.28</td>\n",
       "      <td>3.18</td>\n",
       "      <td>19</td>\n",
       "      <td>0</td>\n",
       "    </tr>\n",
       "  </tbody>\n",
       "</table>\n",
       "</div>"
      ],
      "text/plain": [
       "   index               name    latitude           longitude  Humidity  \\\n",
       "0      0  Mont Saint Michel  48.6359541  -1.511459954959514        62   \n",
       "1      1            St Malo   49.314695         -96.9538228        61   \n",
       "2      2             Bayeux  49.2764624          -0.7024738        55   \n",
       "3      3           Le Havre  49.4938975           0.1079732        51   \n",
       "4      4              Rouen  49.4404591           1.0939658        52   \n",
       "\n",
       "   Temperature_avg  Temperature_min  Temperature_max  Temperature_perceived  \\\n",
       "0            26.07            15.99            26.87                  26.07   \n",
       "1            22.33            12.14            24.61                  22.21   \n",
       "2            25.31            14.88            26.68                  25.33   \n",
       "3            25.83            16.83            26.51                  25.80   \n",
       "4            26.28            15.21            26.43                  26.28   \n",
       "\n",
       "   Wind_speed  Cloudiness  Precipitation_prob  \n",
       "0        3.16          93                   0  \n",
       "1        4.00           5                   0  \n",
       "2        3.89          96                   0  \n",
       "3        3.66          18                  20  \n",
       "4        3.18          19                   0  "
      ]
     },
     "execution_count": 16,
     "metadata": {},
     "output_type": "execute_result"
    }
   ],
   "source": [
    "# Add index column to the dataframe\n",
    "df = df.reset_index()\n",
    "df.head()"
   ]
  },
  {
   "cell_type": "code",
   "execution_count": 17,
   "metadata": {},
   "outputs": [],
   "source": [
    "# Save the dataframe in a csv file\n",
    "df.to_csv(\"files/cities_forecast_weather.csv\", index=False)"
   ]
  },
  {
   "cell_type": "code",
   "execution_count": 18,
   "metadata": {},
   "outputs": [
    {
     "data": {
      "application/vnd.plotly.v1+json": {
       "config": {
        "plotlyServerURL": "https://plot.ly"
       },
       "data": [
        {
         "domain": {
          "x": [
           0,
           0.2888888888888889
          ],
          "y": [
           0,
           0.375
          ]
         },
         "labels": [
          "Aix en Provence",
          "Gorges du Verdon",
          "Uzes",
          "Nimes",
          "Ariege"
         ],
         "textinfo": "label+value",
         "type": "pie",
         "values": [
          20,
          21,
          25,
          31,
          32
         ]
        },
        {
         "domain": {
          "x": [
           0.35555555555555557,
           0.6444444444444445
          ],
          "y": [
           0,
           0.375
          ]
         },
         "labels": [
          "Saintes Maries de la mer",
          "Carcassonne",
          "Nimes",
          "Avignon",
          "Toulouse"
         ],
         "textinfo": "label+value",
         "type": "pie",
         "values": [
          32.54,
          32.19,
          32.1,
          31.43,
          31.14
         ]
        },
        {
         "domain": {
          "x": [
           0.7111111111111111,
           1
          ],
          "y": [
           0,
           0.375
          ]
         },
         "labels": [
          "Annecy",
          "Lyon",
          "Chateau du Haut Koenigsbourg",
          "Grenoble",
          "Besancon"
         ],
         "textinfo": "label+value",
         "type": "pie",
         "values": [
          1.87,
          1.98,
          2.28,
          2.36,
          2.38
         ]
        },
        {
         "domain": {
          "x": [
           0,
           0.2888888888888889
          ],
          "y": [
           0.625,
           1
          ]
         },
         "labels": [
          "Gorges du Verdon",
          "Aix en Provence",
          "Marseille",
          "Bormes les Mimosas",
          "Bayonne"
         ],
         "textinfo": "label+value",
         "type": "pie",
         "values": [
          0.1,
          0.1,
          0.1,
          0.1,
          0.1
         ]
        },
        {
         "domain": {
          "x": [
           0.35555555555555557,
           0.6444444444444445
          ],
          "y": [
           0.625,
           1
          ]
         },
         "labels": [
          "Mont Saint Michel",
          "Cassis",
          "Marseille",
          "Aix en Provence",
          "Avignon"
         ],
         "textinfo": "label+value",
         "type": "pie",
         "values": [
          0.1,
          0.1,
          0.1,
          0.1,
          0.1
         ]
        }
       ],
       "layout": {
        "annotations": [
         {
          "font": {
           "size": 16
          },
          "showarrow": false,
          "text": "Top 5 cities with the least humidity (%)",
          "x": 0.14444444444444446,
          "xanchor": "center",
          "xref": "paper",
          "y": 0.375,
          "yanchor": "bottom",
          "yref": "paper"
         },
         {
          "font": {
           "size": 16
          },
          "showarrow": false,
          "text": "Top 5 cities with the best day temperature(°C)",
          "x": 0.5,
          "xanchor": "center",
          "xref": "paper",
          "y": 0.375,
          "yanchor": "bottom",
          "yref": "paper"
         },
         {
          "font": {
           "size": 16
          },
          "showarrow": false,
          "text": "Top 5 cities with the least speed wind (m/s)",
          "x": 0.8555555555555556,
          "xanchor": "center",
          "xref": "paper",
          "y": 0.375,
          "yanchor": "bottom",
          "yref": "paper"
         },
         {
          "font": {
           "size": 16
          },
          "showarrow": false,
          "text": "Top 5 cities with the least cloudiness (%)",
          "x": 0.14444444444444446,
          "xanchor": "center",
          "xref": "paper",
          "y": 1,
          "yanchor": "bottom",
          "yref": "paper"
         },
         {
          "font": {
           "size": 16
          },
          "showarrow": false,
          "text": "Top 5 cities with the least probability of rain (%)",
          "x": 0.5,
          "xanchor": "center",
          "xref": "paper",
          "y": 1,
          "yanchor": "bottom",
          "yref": "paper"
         }
        ],
        "height": 700,
        "showlegend": false,
        "template": {
         "data": {
          "bar": [
           {
            "error_x": {
             "color": "#2a3f5f"
            },
            "error_y": {
             "color": "#2a3f5f"
            },
            "marker": {
             "line": {
              "color": "#E5ECF6",
              "width": 0.5
             },
             "pattern": {
              "fillmode": "overlay",
              "size": 10,
              "solidity": 0.2
             }
            },
            "type": "bar"
           }
          ],
          "barpolar": [
           {
            "marker": {
             "line": {
              "color": "#E5ECF6",
              "width": 0.5
             },
             "pattern": {
              "fillmode": "overlay",
              "size": 10,
              "solidity": 0.2
             }
            },
            "type": "barpolar"
           }
          ],
          "carpet": [
           {
            "aaxis": {
             "endlinecolor": "#2a3f5f",
             "gridcolor": "white",
             "linecolor": "white",
             "minorgridcolor": "white",
             "startlinecolor": "#2a3f5f"
            },
            "baxis": {
             "endlinecolor": "#2a3f5f",
             "gridcolor": "white",
             "linecolor": "white",
             "minorgridcolor": "white",
             "startlinecolor": "#2a3f5f"
            },
            "type": "carpet"
           }
          ],
          "choropleth": [
           {
            "colorbar": {
             "outlinewidth": 0,
             "ticks": ""
            },
            "type": "choropleth"
           }
          ],
          "contour": [
           {
            "colorbar": {
             "outlinewidth": 0,
             "ticks": ""
            },
            "colorscale": [
             [
              0,
              "#0d0887"
             ],
             [
              0.1111111111111111,
              "#46039f"
             ],
             [
              0.2222222222222222,
              "#7201a8"
             ],
             [
              0.3333333333333333,
              "#9c179e"
             ],
             [
              0.4444444444444444,
              "#bd3786"
             ],
             [
              0.5555555555555556,
              "#d8576b"
             ],
             [
              0.6666666666666666,
              "#ed7953"
             ],
             [
              0.7777777777777778,
              "#fb9f3a"
             ],
             [
              0.8888888888888888,
              "#fdca26"
             ],
             [
              1,
              "#f0f921"
             ]
            ],
            "type": "contour"
           }
          ],
          "contourcarpet": [
           {
            "colorbar": {
             "outlinewidth": 0,
             "ticks": ""
            },
            "type": "contourcarpet"
           }
          ],
          "heatmap": [
           {
            "colorbar": {
             "outlinewidth": 0,
             "ticks": ""
            },
            "colorscale": [
             [
              0,
              "#0d0887"
             ],
             [
              0.1111111111111111,
              "#46039f"
             ],
             [
              0.2222222222222222,
              "#7201a8"
             ],
             [
              0.3333333333333333,
              "#9c179e"
             ],
             [
              0.4444444444444444,
              "#bd3786"
             ],
             [
              0.5555555555555556,
              "#d8576b"
             ],
             [
              0.6666666666666666,
              "#ed7953"
             ],
             [
              0.7777777777777778,
              "#fb9f3a"
             ],
             [
              0.8888888888888888,
              "#fdca26"
             ],
             [
              1,
              "#f0f921"
             ]
            ],
            "type": "heatmap"
           }
          ],
          "heatmapgl": [
           {
            "colorbar": {
             "outlinewidth": 0,
             "ticks": ""
            },
            "colorscale": [
             [
              0,
              "#0d0887"
             ],
             [
              0.1111111111111111,
              "#46039f"
             ],
             [
              0.2222222222222222,
              "#7201a8"
             ],
             [
              0.3333333333333333,
              "#9c179e"
             ],
             [
              0.4444444444444444,
              "#bd3786"
             ],
             [
              0.5555555555555556,
              "#d8576b"
             ],
             [
              0.6666666666666666,
              "#ed7953"
             ],
             [
              0.7777777777777778,
              "#fb9f3a"
             ],
             [
              0.8888888888888888,
              "#fdca26"
             ],
             [
              1,
              "#f0f921"
             ]
            ],
            "type": "heatmapgl"
           }
          ],
          "histogram": [
           {
            "marker": {
             "pattern": {
              "fillmode": "overlay",
              "size": 10,
              "solidity": 0.2
             }
            },
            "type": "histogram"
           }
          ],
          "histogram2d": [
           {
            "colorbar": {
             "outlinewidth": 0,
             "ticks": ""
            },
            "colorscale": [
             [
              0,
              "#0d0887"
             ],
             [
              0.1111111111111111,
              "#46039f"
             ],
             [
              0.2222222222222222,
              "#7201a8"
             ],
             [
              0.3333333333333333,
              "#9c179e"
             ],
             [
              0.4444444444444444,
              "#bd3786"
             ],
             [
              0.5555555555555556,
              "#d8576b"
             ],
             [
              0.6666666666666666,
              "#ed7953"
             ],
             [
              0.7777777777777778,
              "#fb9f3a"
             ],
             [
              0.8888888888888888,
              "#fdca26"
             ],
             [
              1,
              "#f0f921"
             ]
            ],
            "type": "histogram2d"
           }
          ],
          "histogram2dcontour": [
           {
            "colorbar": {
             "outlinewidth": 0,
             "ticks": ""
            },
            "colorscale": [
             [
              0,
              "#0d0887"
             ],
             [
              0.1111111111111111,
              "#46039f"
             ],
             [
              0.2222222222222222,
              "#7201a8"
             ],
             [
              0.3333333333333333,
              "#9c179e"
             ],
             [
              0.4444444444444444,
              "#bd3786"
             ],
             [
              0.5555555555555556,
              "#d8576b"
             ],
             [
              0.6666666666666666,
              "#ed7953"
             ],
             [
              0.7777777777777778,
              "#fb9f3a"
             ],
             [
              0.8888888888888888,
              "#fdca26"
             ],
             [
              1,
              "#f0f921"
             ]
            ],
            "type": "histogram2dcontour"
           }
          ],
          "mesh3d": [
           {
            "colorbar": {
             "outlinewidth": 0,
             "ticks": ""
            },
            "type": "mesh3d"
           }
          ],
          "parcoords": [
           {
            "line": {
             "colorbar": {
              "outlinewidth": 0,
              "ticks": ""
             }
            },
            "type": "parcoords"
           }
          ],
          "pie": [
           {
            "automargin": true,
            "type": "pie"
           }
          ],
          "scatter": [
           {
            "fillpattern": {
             "fillmode": "overlay",
             "size": 10,
             "solidity": 0.2
            },
            "type": "scatter"
           }
          ],
          "scatter3d": [
           {
            "line": {
             "colorbar": {
              "outlinewidth": 0,
              "ticks": ""
             }
            },
            "marker": {
             "colorbar": {
              "outlinewidth": 0,
              "ticks": ""
             }
            },
            "type": "scatter3d"
           }
          ],
          "scattercarpet": [
           {
            "marker": {
             "colorbar": {
              "outlinewidth": 0,
              "ticks": ""
             }
            },
            "type": "scattercarpet"
           }
          ],
          "scattergeo": [
           {
            "marker": {
             "colorbar": {
              "outlinewidth": 0,
              "ticks": ""
             }
            },
            "type": "scattergeo"
           }
          ],
          "scattergl": [
           {
            "marker": {
             "colorbar": {
              "outlinewidth": 0,
              "ticks": ""
             }
            },
            "type": "scattergl"
           }
          ],
          "scattermapbox": [
           {
            "marker": {
             "colorbar": {
              "outlinewidth": 0,
              "ticks": ""
             }
            },
            "type": "scattermapbox"
           }
          ],
          "scatterpolar": [
           {
            "marker": {
             "colorbar": {
              "outlinewidth": 0,
              "ticks": ""
             }
            },
            "type": "scatterpolar"
           }
          ],
          "scatterpolargl": [
           {
            "marker": {
             "colorbar": {
              "outlinewidth": 0,
              "ticks": ""
             }
            },
            "type": "scatterpolargl"
           }
          ],
          "scatterternary": [
           {
            "marker": {
             "colorbar": {
              "outlinewidth": 0,
              "ticks": ""
             }
            },
            "type": "scatterternary"
           }
          ],
          "surface": [
           {
            "colorbar": {
             "outlinewidth": 0,
             "ticks": ""
            },
            "colorscale": [
             [
              0,
              "#0d0887"
             ],
             [
              0.1111111111111111,
              "#46039f"
             ],
             [
              0.2222222222222222,
              "#7201a8"
             ],
             [
              0.3333333333333333,
              "#9c179e"
             ],
             [
              0.4444444444444444,
              "#bd3786"
             ],
             [
              0.5555555555555556,
              "#d8576b"
             ],
             [
              0.6666666666666666,
              "#ed7953"
             ],
             [
              0.7777777777777778,
              "#fb9f3a"
             ],
             [
              0.8888888888888888,
              "#fdca26"
             ],
             [
              1,
              "#f0f921"
             ]
            ],
            "type": "surface"
           }
          ],
          "table": [
           {
            "cells": {
             "fill": {
              "color": "#EBF0F8"
             },
             "line": {
              "color": "white"
             }
            },
            "header": {
             "fill": {
              "color": "#C8D4E3"
             },
             "line": {
              "color": "white"
             }
            },
            "type": "table"
           }
          ]
         },
         "layout": {
          "annotationdefaults": {
           "arrowcolor": "#2a3f5f",
           "arrowhead": 0,
           "arrowwidth": 1
          },
          "autotypenumbers": "strict",
          "coloraxis": {
           "colorbar": {
            "outlinewidth": 0,
            "ticks": ""
           }
          },
          "colorscale": {
           "diverging": [
            [
             0,
             "#8e0152"
            ],
            [
             0.1,
             "#c51b7d"
            ],
            [
             0.2,
             "#de77ae"
            ],
            [
             0.3,
             "#f1b6da"
            ],
            [
             0.4,
             "#fde0ef"
            ],
            [
             0.5,
             "#f7f7f7"
            ],
            [
             0.6,
             "#e6f5d0"
            ],
            [
             0.7,
             "#b8e186"
            ],
            [
             0.8,
             "#7fbc41"
            ],
            [
             0.9,
             "#4d9221"
            ],
            [
             1,
             "#276419"
            ]
           ],
           "sequential": [
            [
             0,
             "#0d0887"
            ],
            [
             0.1111111111111111,
             "#46039f"
            ],
            [
             0.2222222222222222,
             "#7201a8"
            ],
            [
             0.3333333333333333,
             "#9c179e"
            ],
            [
             0.4444444444444444,
             "#bd3786"
            ],
            [
             0.5555555555555556,
             "#d8576b"
            ],
            [
             0.6666666666666666,
             "#ed7953"
            ],
            [
             0.7777777777777778,
             "#fb9f3a"
            ],
            [
             0.8888888888888888,
             "#fdca26"
            ],
            [
             1,
             "#f0f921"
            ]
           ],
           "sequentialminus": [
            [
             0,
             "#0d0887"
            ],
            [
             0.1111111111111111,
             "#46039f"
            ],
            [
             0.2222222222222222,
             "#7201a8"
            ],
            [
             0.3333333333333333,
             "#9c179e"
            ],
            [
             0.4444444444444444,
             "#bd3786"
            ],
            [
             0.5555555555555556,
             "#d8576b"
            ],
            [
             0.6666666666666666,
             "#ed7953"
            ],
            [
             0.7777777777777778,
             "#fb9f3a"
            ],
            [
             0.8888888888888888,
             "#fdca26"
            ],
            [
             1,
             "#f0f921"
            ]
           ]
          },
          "colorway": [
           "#636efa",
           "#EF553B",
           "#00cc96",
           "#ab63fa",
           "#FFA15A",
           "#19d3f3",
           "#FF6692",
           "#B6E880",
           "#FF97FF",
           "#FECB52"
          ],
          "font": {
           "color": "#2a3f5f"
          },
          "geo": {
           "bgcolor": "white",
           "lakecolor": "white",
           "landcolor": "#E5ECF6",
           "showlakes": true,
           "showland": true,
           "subunitcolor": "white"
          },
          "hoverlabel": {
           "align": "left"
          },
          "hovermode": "closest",
          "mapbox": {
           "style": "light"
          },
          "paper_bgcolor": "white",
          "plot_bgcolor": "#E5ECF6",
          "polar": {
           "angularaxis": {
            "gridcolor": "white",
            "linecolor": "white",
            "ticks": ""
           },
           "bgcolor": "#E5ECF6",
           "radialaxis": {
            "gridcolor": "white",
            "linecolor": "white",
            "ticks": ""
           }
          },
          "scene": {
           "xaxis": {
            "backgroundcolor": "#E5ECF6",
            "gridcolor": "white",
            "gridwidth": 2,
            "linecolor": "white",
            "showbackground": true,
            "ticks": "",
            "zerolinecolor": "white"
           },
           "yaxis": {
            "backgroundcolor": "#E5ECF6",
            "gridcolor": "white",
            "gridwidth": 2,
            "linecolor": "white",
            "showbackground": true,
            "ticks": "",
            "zerolinecolor": "white"
           },
           "zaxis": {
            "backgroundcolor": "#E5ECF6",
            "gridcolor": "white",
            "gridwidth": 2,
            "linecolor": "white",
            "showbackground": true,
            "ticks": "",
            "zerolinecolor": "white"
           }
          },
          "shapedefaults": {
           "line": {
            "color": "#2a3f5f"
           }
          },
          "ternary": {
           "aaxis": {
            "gridcolor": "white",
            "linecolor": "white",
            "ticks": ""
           },
           "baxis": {
            "gridcolor": "white",
            "linecolor": "white",
            "ticks": ""
           },
           "bgcolor": "#E5ECF6",
           "caxis": {
            "gridcolor": "white",
            "linecolor": "white",
            "ticks": ""
           }
          },
          "title": {
           "x": 0.05
          },
          "xaxis": {
           "automargin": true,
           "gridcolor": "white",
           "linecolor": "white",
           "ticks": "",
           "title": {
            "standoff": 15
           },
           "zerolinecolor": "white",
           "zerolinewidth": 2
          },
          "yaxis": {
           "automargin": true,
           "gridcolor": "white",
           "linecolor": "white",
           "ticks": "",
           "title": {
            "standoff": 15
           },
           "zerolinecolor": "white",
           "zerolinewidth": 2
          }
         }
        },
        "width": 1400
       }
      }
     },
     "metadata": {},
     "output_type": "display_data"
    }
   ],
   "source": [
    "# Determine what are the best 5 cities destination\n",
    "import plotly.graph_objects as go\n",
    "from plotly.subplots import make_subplots\n",
    "\n",
    "fig = make_subplots(rows=2, \n",
    "                    cols=3, \n",
    "                    start_cell=\"bottom-left\",\n",
    "                    specs=[[{\"type\": \"domain\"}, {\"type\": \"domain\"},{\"type\": \"domain\"}], \n",
    "                    [{\"type\": \"domain\"},{\"type\": \"domain\"},{\"type\": \"domain\"}]],\n",
    "                    subplot_titles=(\"Top 5 cities with the least humidity (%)\", \n",
    "                                    \"Top 5 cities with the best day temperature(°C)\", \n",
    "                                    \"Top 5 cities with the least speed wind (m/s)\",\n",
    "                                    \"Top 5 cities with the least cloudiness (%)\",\n",
    "                                    \"Top 5 cities with the least probability of rain (%)\"))\n",
    "\n",
    "fig.add_trace(go.Pie(\n",
    "    labels=df.sort_values(by=['Humidity']).head(5)[\"name\"],\n",
    "    values=df.sort_values(by=['Humidity']).head(5)[\"Humidity\"],\n",
    "    textinfo=\"label+value\"),\n",
    "    row=1, col=1\n",
    ")\n",
    "\n",
    "fig.add_trace(go.Pie(\n",
    "    labels=df.sort_values(by=['Temperature_avg'], ascending=False).head(5)[\"name\"],\n",
    "    values=df.sort_values(by=['Temperature_avg'], ascending=False).head(5)[\"Temperature_avg\"],\n",
    "    textinfo=\"label+value\"),\n",
    "    row=1, col=2\n",
    ")\n",
    "\n",
    "fig.add_trace(go.Pie(\n",
    "    labels=df.sort_values(by=['Wind_speed']).head(5)[\"name\"],\n",
    "    values=df.sort_values(by=['Wind_speed']).head(5)[\"Wind_speed\"],\n",
    "    textinfo=\"label+value\"),\n",
    "    row=1, col=3\n",
    ")\n",
    "\n",
    "# Ajouter une petite valeur à toutes les valeurs de la catégorie \"Cloudiness\"\n",
    "df['Cloudiness_adjusted'] = df['Cloudiness'] + 0.1\n",
    "\n",
    "fig.add_trace(go.Pie(\n",
    "    labels=df.sort_values(by=['Cloudiness_adjusted']).head(5)[\"name\"],\n",
    "    values=df.sort_values(by=['Cloudiness_adjusted']).head(5)[\"Cloudiness_adjusted\"],\n",
    "    textinfo=\"label+value\"),\n",
    "    row=2, col=1\n",
    ")\n",
    "\n",
    "# Ajouter une petite valeur à toutes les valeurs de la catégorie \"Precipitation_prob\"\n",
    "df['Precipitation_prob_adjusted'] = df['Precipitation_prob'] + 0.1\n",
    "\n",
    "fig.add_trace(go.Pie(\n",
    "    labels=df.sort_values(by=['Precipitation_prob_adjusted']).head(5)[\"name\"],\n",
    "    values=df.sort_values(by=['Precipitation_prob_adjusted']).head(5)[\"Precipitation_prob_adjusted\"],\n",
    "    textinfo=\"label+value\"),\n",
    "    row=2, col=2\n",
    ")\n",
    "\n",
    "fig.update_layout(\n",
    "    # title='Top 5 cities with the least humidity',\n",
    "    height=700, \n",
    "    width=1400,\n",
    "    showlegend=False\n",
    ")\n",
    "\n",
    "fig.show()"
   ]
  },
  {
   "cell_type": "code",
   "execution_count": 19,
   "metadata": {},
   "outputs": [
    {
     "data": {
      "text/html": [
       "<div>\n",
       "<style scoped>\n",
       "    .dataframe tbody tr th:only-of-type {\n",
       "        vertical-align: middle;\n",
       "    }\n",
       "\n",
       "    .dataframe tbody tr th {\n",
       "        vertical-align: top;\n",
       "    }\n",
       "\n",
       "    .dataframe thead th {\n",
       "        text-align: right;\n",
       "    }\n",
       "</style>\n",
       "<table border=\"1\" class=\"dataframe\">\n",
       "  <thead>\n",
       "    <tr style=\"text-align: right;\">\n",
       "      <th></th>\n",
       "      <th>index</th>\n",
       "      <th>name</th>\n",
       "      <th>latitude</th>\n",
       "      <th>longitude</th>\n",
       "      <th>Humidity</th>\n",
       "      <th>Temperature_avg</th>\n",
       "      <th>Temperature_min</th>\n",
       "      <th>Temperature_max</th>\n",
       "      <th>Temperature_perceived</th>\n",
       "      <th>Wind_speed</th>\n",
       "      <th>Cloudiness</th>\n",
       "      <th>Precipitation_prob</th>\n",
       "      <th>Cloudiness_adjusted</th>\n",
       "      <th>Precipitation_prob_adjusted</th>\n",
       "    </tr>\n",
       "  </thead>\n",
       "  <tbody>\n",
       "    <tr>\n",
       "      <th>1</th>\n",
       "      <td>1</td>\n",
       "      <td>St Malo</td>\n",
       "      <td>49.314695</td>\n",
       "      <td>-96.9538228</td>\n",
       "      <td>61</td>\n",
       "      <td>22.33</td>\n",
       "      <td>12.14</td>\n",
       "      <td>24.61</td>\n",
       "      <td>22.21</td>\n",
       "      <td>4.00</td>\n",
       "      <td>5</td>\n",
       "      <td>0</td>\n",
       "      <td>5.1</td>\n",
       "      <td>0.1</td>\n",
       "    </tr>\n",
       "    <tr>\n",
       "      <th>9</th>\n",
       "      <td>9</td>\n",
       "      <td>Chateau du Haut Koenigsbourg</td>\n",
       "      <td>48.249410749999996</td>\n",
       "      <td>7.344320233724503</td>\n",
       "      <td>50</td>\n",
       "      <td>22.96</td>\n",
       "      <td>12.63</td>\n",
       "      <td>24.60</td>\n",
       "      <td>22.62</td>\n",
       "      <td>2.28</td>\n",
       "      <td>0</td>\n",
       "      <td>0</td>\n",
       "      <td>0.1</td>\n",
       "      <td>0.1</td>\n",
       "    </tr>\n",
       "    <tr>\n",
       "      <th>32</th>\n",
       "      <td>32</td>\n",
       "      <td>Biarritz</td>\n",
       "      <td>43.471143749999996</td>\n",
       "      <td>-1.552726590666314</td>\n",
       "      <td>74</td>\n",
       "      <td>24.67</td>\n",
       "      <td>19.59</td>\n",
       "      <td>24.86</td>\n",
       "      <td>25.12</td>\n",
       "      <td>4.55</td>\n",
       "      <td>1</td>\n",
       "      <td>0</td>\n",
       "      <td>1.1</td>\n",
       "      <td>0.1</td>\n",
       "    </tr>\n",
       "    <tr>\n",
       "      <th>2</th>\n",
       "      <td>2</td>\n",
       "      <td>Bayeux</td>\n",
       "      <td>49.2764624</td>\n",
       "      <td>-0.7024738</td>\n",
       "      <td>55</td>\n",
       "      <td>25.31</td>\n",
       "      <td>14.88</td>\n",
       "      <td>26.68</td>\n",
       "      <td>25.33</td>\n",
       "      <td>3.89</td>\n",
       "      <td>96</td>\n",
       "      <td>0</td>\n",
       "      <td>96.1</td>\n",
       "      <td>0.1</td>\n",
       "    </tr>\n",
       "    <tr>\n",
       "      <th>33</th>\n",
       "      <td>33</td>\n",
       "      <td>Bayonne</td>\n",
       "      <td>43.4945144</td>\n",
       "      <td>-1.4736657</td>\n",
       "      <td>73</td>\n",
       "      <td>25.33</td>\n",
       "      <td>18.89</td>\n",
       "      <td>25.53</td>\n",
       "      <td>25.82</td>\n",
       "      <td>4.26</td>\n",
       "      <td>0</td>\n",
       "      <td>0</td>\n",
       "      <td>0.1</td>\n",
       "      <td>0.1</td>\n",
       "    </tr>\n",
       "    <tr>\n",
       "      <th>11</th>\n",
       "      <td>11</td>\n",
       "      <td>Eguisheim</td>\n",
       "      <td>48.0447968</td>\n",
       "      <td>7.3079618</td>\n",
       "      <td>50</td>\n",
       "      <td>25.76</td>\n",
       "      <td>15.20</td>\n",
       "      <td>26.67</td>\n",
       "      <td>25.70</td>\n",
       "      <td>2.59</td>\n",
       "      <td>0</td>\n",
       "      <td>0</td>\n",
       "      <td>0.1</td>\n",
       "      <td>0.1</td>\n",
       "    </tr>\n",
       "    <tr>\n",
       "      <th>13</th>\n",
       "      <td>13</td>\n",
       "      <td>Dijon</td>\n",
       "      <td>47.3215806</td>\n",
       "      <td>5.0414701</td>\n",
       "      <td>50</td>\n",
       "      <td>25.80</td>\n",
       "      <td>15.14</td>\n",
       "      <td>26.30</td>\n",
       "      <td>25.74</td>\n",
       "      <td>3.09</td>\n",
       "      <td>0</td>\n",
       "      <td>0</td>\n",
       "      <td>0.1</td>\n",
       "      <td>0.1</td>\n",
       "    </tr>\n",
       "    <tr>\n",
       "      <th>3</th>\n",
       "      <td>3</td>\n",
       "      <td>Le Havre</td>\n",
       "      <td>49.4938975</td>\n",
       "      <td>0.1079732</td>\n",
       "      <td>51</td>\n",
       "      <td>25.83</td>\n",
       "      <td>16.83</td>\n",
       "      <td>26.51</td>\n",
       "      <td>25.80</td>\n",
       "      <td>3.66</td>\n",
       "      <td>18</td>\n",
       "      <td>20</td>\n",
       "      <td>18.1</td>\n",
       "      <td>20.1</td>\n",
       "    </tr>\n",
       "    <tr>\n",
       "      <th>10</th>\n",
       "      <td>10</td>\n",
       "      <td>Colmar</td>\n",
       "      <td>48.0777517</td>\n",
       "      <td>7.3579641</td>\n",
       "      <td>50</td>\n",
       "      <td>25.93</td>\n",
       "      <td>15.32</td>\n",
       "      <td>26.97</td>\n",
       "      <td>25.88</td>\n",
       "      <td>2.65</td>\n",
       "      <td>0</td>\n",
       "      <td>0</td>\n",
       "      <td>0.1</td>\n",
       "      <td>0.1</td>\n",
       "    </tr>\n",
       "    <tr>\n",
       "      <th>0</th>\n",
       "      <td>0</td>\n",
       "      <td>Mont Saint Michel</td>\n",
       "      <td>48.6359541</td>\n",
       "      <td>-1.511459954959514</td>\n",
       "      <td>62</td>\n",
       "      <td>26.07</td>\n",
       "      <td>15.99</td>\n",
       "      <td>26.87</td>\n",
       "      <td>26.07</td>\n",
       "      <td>3.16</td>\n",
       "      <td>93</td>\n",
       "      <td>0</td>\n",
       "      <td>93.1</td>\n",
       "      <td>0.1</td>\n",
       "    </tr>\n",
       "  </tbody>\n",
       "</table>\n",
       "</div>"
      ],
      "text/plain": [
       "    index                          name            latitude  \\\n",
       "1       1                       St Malo           49.314695   \n",
       "9       9  Chateau du Haut Koenigsbourg  48.249410749999996   \n",
       "32     32                      Biarritz  43.471143749999996   \n",
       "2       2                        Bayeux          49.2764624   \n",
       "33     33                       Bayonne          43.4945144   \n",
       "11     11                     Eguisheim          48.0447968   \n",
       "13     13                         Dijon          47.3215806   \n",
       "3       3                      Le Havre          49.4938975   \n",
       "10     10                        Colmar          48.0777517   \n",
       "0       0             Mont Saint Michel          48.6359541   \n",
       "\n",
       "             longitude  Humidity  Temperature_avg  Temperature_min  \\\n",
       "1          -96.9538228        61            22.33            12.14   \n",
       "9    7.344320233724503        50            22.96            12.63   \n",
       "32  -1.552726590666314        74            24.67            19.59   \n",
       "2           -0.7024738        55            25.31            14.88   \n",
       "33          -1.4736657        73            25.33            18.89   \n",
       "11           7.3079618        50            25.76            15.20   \n",
       "13           5.0414701        50            25.80            15.14   \n",
       "3            0.1079732        51            25.83            16.83   \n",
       "10           7.3579641        50            25.93            15.32   \n",
       "0   -1.511459954959514        62            26.07            15.99   \n",
       "\n",
       "    Temperature_max  Temperature_perceived  Wind_speed  Cloudiness  \\\n",
       "1             24.61                  22.21        4.00           5   \n",
       "9             24.60                  22.62        2.28           0   \n",
       "32            24.86                  25.12        4.55           1   \n",
       "2             26.68                  25.33        3.89          96   \n",
       "33            25.53                  25.82        4.26           0   \n",
       "11            26.67                  25.70        2.59           0   \n",
       "13            26.30                  25.74        3.09           0   \n",
       "3             26.51                  25.80        3.66          18   \n",
       "10            26.97                  25.88        2.65           0   \n",
       "0             26.87                  26.07        3.16          93   \n",
       "\n",
       "    Precipitation_prob  Cloudiness_adjusted  Precipitation_prob_adjusted  \n",
       "1                    0                  5.1                          0.1  \n",
       "9                    0                  0.1                          0.1  \n",
       "32                   0                  1.1                          0.1  \n",
       "2                    0                 96.1                          0.1  \n",
       "33                   0                  0.1                          0.1  \n",
       "11                   0                  0.1                          0.1  \n",
       "13                   0                  0.1                          0.1  \n",
       "3                   20                 18.1                         20.1  \n",
       "10                   0                  0.1                          0.1  \n",
       "0                    0                 93.1                          0.1  "
      ]
     },
     "execution_count": 19,
     "metadata": {},
     "output_type": "execute_result"
    }
   ],
   "source": [
    "# Tri par ordre croissant de la catégorie \"Cloudiness\"\n",
    "df_cities_sorted = df.sort_values(by='Temperature_avg', ascending=True)\n",
    "\n",
    "# Affichage des premières lignes du DataFrame trié\n",
    "df_cities_sorted.head(10)\n"
   ]
  },
  {
   "cell_type": "code",
   "execution_count": 20,
   "metadata": {},
   "outputs": [],
   "source": [
    "top5_city=df_cities_sorted[0:5]"
   ]
  },
  {
   "cell_type": "code",
   "execution_count": 21,
   "metadata": {},
   "outputs": [
    {
     "data": {
      "text/html": [
       "<div>\n",
       "<style scoped>\n",
       "    .dataframe tbody tr th:only-of-type {\n",
       "        vertical-align: middle;\n",
       "    }\n",
       "\n",
       "    .dataframe tbody tr th {\n",
       "        vertical-align: top;\n",
       "    }\n",
       "\n",
       "    .dataframe thead th {\n",
       "        text-align: right;\n",
       "    }\n",
       "</style>\n",
       "<table border=\"1\" class=\"dataframe\">\n",
       "  <thead>\n",
       "    <tr style=\"text-align: right;\">\n",
       "      <th></th>\n",
       "      <th>index</th>\n",
       "      <th>name</th>\n",
       "      <th>latitude</th>\n",
       "      <th>longitude</th>\n",
       "      <th>Humidity</th>\n",
       "      <th>Temperature_avg</th>\n",
       "      <th>Temperature_min</th>\n",
       "      <th>Temperature_max</th>\n",
       "      <th>Temperature_perceived</th>\n",
       "      <th>Wind_speed</th>\n",
       "      <th>Cloudiness</th>\n",
       "      <th>Precipitation_prob</th>\n",
       "      <th>Cloudiness_adjusted</th>\n",
       "      <th>Precipitation_prob_adjusted</th>\n",
       "    </tr>\n",
       "  </thead>\n",
       "  <tbody>\n",
       "    <tr>\n",
       "      <th>1</th>\n",
       "      <td>1</td>\n",
       "      <td>St Malo</td>\n",
       "      <td>49.314695</td>\n",
       "      <td>-96.9538228</td>\n",
       "      <td>61</td>\n",
       "      <td>22.33</td>\n",
       "      <td>12.14</td>\n",
       "      <td>24.61</td>\n",
       "      <td>22.21</td>\n",
       "      <td>4.00</td>\n",
       "      <td>5</td>\n",
       "      <td>0</td>\n",
       "      <td>5.1</td>\n",
       "      <td>0.1</td>\n",
       "    </tr>\n",
       "    <tr>\n",
       "      <th>9</th>\n",
       "      <td>9</td>\n",
       "      <td>Chateau du Haut Koenigsbourg</td>\n",
       "      <td>48.249410749999996</td>\n",
       "      <td>7.344320233724503</td>\n",
       "      <td>50</td>\n",
       "      <td>22.96</td>\n",
       "      <td>12.63</td>\n",
       "      <td>24.60</td>\n",
       "      <td>22.62</td>\n",
       "      <td>2.28</td>\n",
       "      <td>0</td>\n",
       "      <td>0</td>\n",
       "      <td>0.1</td>\n",
       "      <td>0.1</td>\n",
       "    </tr>\n",
       "    <tr>\n",
       "      <th>32</th>\n",
       "      <td>32</td>\n",
       "      <td>Biarritz</td>\n",
       "      <td>43.471143749999996</td>\n",
       "      <td>-1.552726590666314</td>\n",
       "      <td>74</td>\n",
       "      <td>24.67</td>\n",
       "      <td>19.59</td>\n",
       "      <td>24.86</td>\n",
       "      <td>25.12</td>\n",
       "      <td>4.55</td>\n",
       "      <td>1</td>\n",
       "      <td>0</td>\n",
       "      <td>1.1</td>\n",
       "      <td>0.1</td>\n",
       "    </tr>\n",
       "    <tr>\n",
       "      <th>2</th>\n",
       "      <td>2</td>\n",
       "      <td>Bayeux</td>\n",
       "      <td>49.2764624</td>\n",
       "      <td>-0.7024738</td>\n",
       "      <td>55</td>\n",
       "      <td>25.31</td>\n",
       "      <td>14.88</td>\n",
       "      <td>26.68</td>\n",
       "      <td>25.33</td>\n",
       "      <td>3.89</td>\n",
       "      <td>96</td>\n",
       "      <td>0</td>\n",
       "      <td>96.1</td>\n",
       "      <td>0.1</td>\n",
       "    </tr>\n",
       "    <tr>\n",
       "      <th>33</th>\n",
       "      <td>33</td>\n",
       "      <td>Bayonne</td>\n",
       "      <td>43.4945144</td>\n",
       "      <td>-1.4736657</td>\n",
       "      <td>73</td>\n",
       "      <td>25.33</td>\n",
       "      <td>18.89</td>\n",
       "      <td>25.53</td>\n",
       "      <td>25.82</td>\n",
       "      <td>4.26</td>\n",
       "      <td>0</td>\n",
       "      <td>0</td>\n",
       "      <td>0.1</td>\n",
       "      <td>0.1</td>\n",
       "    </tr>\n",
       "  </tbody>\n",
       "</table>\n",
       "</div>"
      ],
      "text/plain": [
       "    index                          name            latitude  \\\n",
       "1       1                       St Malo           49.314695   \n",
       "9       9  Chateau du Haut Koenigsbourg  48.249410749999996   \n",
       "32     32                      Biarritz  43.471143749999996   \n",
       "2       2                        Bayeux          49.2764624   \n",
       "33     33                       Bayonne          43.4945144   \n",
       "\n",
       "             longitude  Humidity  Temperature_avg  Temperature_min  \\\n",
       "1          -96.9538228        61            22.33            12.14   \n",
       "9    7.344320233724503        50            22.96            12.63   \n",
       "32  -1.552726590666314        74            24.67            19.59   \n",
       "2           -0.7024738        55            25.31            14.88   \n",
       "33          -1.4736657        73            25.33            18.89   \n",
       "\n",
       "    Temperature_max  Temperature_perceived  Wind_speed  Cloudiness  \\\n",
       "1             24.61                  22.21        4.00           5   \n",
       "9             24.60                  22.62        2.28           0   \n",
       "32            24.86                  25.12        4.55           1   \n",
       "2             26.68                  25.33        3.89          96   \n",
       "33            25.53                  25.82        4.26           0   \n",
       "\n",
       "    Precipitation_prob  Cloudiness_adjusted  Precipitation_prob_adjusted  \n",
       "1                    0                  5.1                          0.1  \n",
       "9                    0                  0.1                          0.1  \n",
       "32                   0                  1.1                          0.1  \n",
       "2                    0                 96.1                          0.1  \n",
       "33                   0                  0.1                          0.1  "
      ]
     },
     "execution_count": 21,
     "metadata": {},
     "output_type": "execute_result"
    }
   ],
   "source": [
    "top5_city"
   ]
  },
  {
   "cell_type": "code",
   "execution_count": 22,
   "metadata": {},
   "outputs": [],
   "source": [
    "# Save the dataframe in a csv file\n",
    "top5_city.to_csv(\"files/top_5city.csv\")"
   ]
  },
  {
   "cell_type": "code",
   "execution_count": 28,
   "metadata": {},
   "outputs": [
    {
     "data": {
      "application/vnd.plotly.v1+json": {
       "config": {
        "plotlyServerURL": "https://plot.ly"
       },
       "data": [
        {
         "hovertemplate": "latitude=%{lat}<br>longitude=%{lon}<br>Temperature_avg=%{marker.color}<extra></extra>",
         "lat": [
          49.314695,
          48.249410749999996,
          43.471143749999996,
          49.2764624,
          43.4945144,
          48.0447968,
          47.3215806,
          49.4938975,
          48.0777517,
          48.6359541,
          45.8992348,
          50.6365654,
          48.584614,
          49.4404591,
          46.1591126,
          45.1875602,
          48.8588897,
          49.8941708,
          47.2380222,
          45.7578137,
          43.2140359,
          43.1506968,
          42.9455368,
          43.7496562,
          43.2961743,
          44.0175835,
          43.5661521,
          43.5298424,
          42.52505,
          44.0121279,
          43.6044622,
          43.9492493,
          43.8374249,
          43.2130358,
          43.4515922
         ],
         "legendgroup": "",
         "lon": [
          -96.9538228,
          7.344320233724503,
          -1.552726590666314,
          -0.7024738,
          -1.4736657,
          7.3079618,
          5.0414701,
          0.1079732,
          7.3579641,
          -1.511459954959514,
          6.1288847,
          3.0635282,
          7.7507127,
          1.0939658,
          -1.1520434,
          5.7357819,
          2.3200410217200766,
          2.2956951,
          6.0243622,
          4.8320114,
          5.5396318,
          6.3419285,
          1.4065544156065486,
          6.3285616,
          5.3699525,
          1.3549991,
          4.19154,
          5.4474738,
          3.0831554,
          4.4196718,
          1.4442469,
          4.8059012,
          4.3600687,
          2.3491069,
          4.4277202
         ],
         "marker": {
          "color": [
           22.33,
           22.96,
           24.67,
           25.31,
           25.33,
           25.76,
           25.8,
           25.83,
           25.93,
           26.07,
           26.11,
           26.23,
           26.27,
           26.28,
           26.77,
           26.94,
           27.1,
           27.32,
           27.46,
           27.63,
           27.75,
           28.53,
           28.6,
           28.76,
           29.39,
           29.74,
           29.98,
           30.39,
           30.53,
           31.04,
           31.14,
           31.43,
           32.1,
           32.19,
           32.54
          ],
          "coloraxis": "coloraxis"
         },
         "mode": "markers",
         "name": "",
         "showlegend": false,
         "subplot": "mapbox",
         "type": "scattermapbox"
        }
       ],
       "layout": {
        "coloraxis": {
         "colorbar": {
          "title": {
           "text": "Temperature_avg"
          }
         },
         "colorscale": [
          [
           0,
           "#0d0887"
          ],
          [
           0.1111111111111111,
           "#46039f"
          ],
          [
           0.2222222222222222,
           "#7201a8"
          ],
          [
           0.3333333333333333,
           "#9c179e"
          ],
          [
           0.4444444444444444,
           "#bd3786"
          ],
          [
           0.5555555555555556,
           "#d8576b"
          ],
          [
           0.6666666666666666,
           "#ed7953"
          ],
          [
           0.7777777777777778,
           "#fb9f3a"
          ],
          [
           0.8888888888888888,
           "#fdca26"
          ],
          [
           1,
           "#f0f921"
          ]
         ]
        },
        "height": 860,
        "legend": {
         "tracegroupgap": 0
        },
        "mapbox": {
         "center": {
          "lat": 45.85997913714286,
          "lon": 0.6836855150121512
         },
         "domain": {
          "x": [
           0,
           1
          ],
          "y": [
           0,
           1
          ]
         },
         "style": "carto-positron",
         "zoom": 4
        },
        "template": {
         "data": {
          "bar": [
           {
            "error_x": {
             "color": "#2a3f5f"
            },
            "error_y": {
             "color": "#2a3f5f"
            },
            "marker": {
             "line": {
              "color": "#E5ECF6",
              "width": 0.5
             },
             "pattern": {
              "fillmode": "overlay",
              "size": 10,
              "solidity": 0.2
             }
            },
            "type": "bar"
           }
          ],
          "barpolar": [
           {
            "marker": {
             "line": {
              "color": "#E5ECF6",
              "width": 0.5
             },
             "pattern": {
              "fillmode": "overlay",
              "size": 10,
              "solidity": 0.2
             }
            },
            "type": "barpolar"
           }
          ],
          "carpet": [
           {
            "aaxis": {
             "endlinecolor": "#2a3f5f",
             "gridcolor": "white",
             "linecolor": "white",
             "minorgridcolor": "white",
             "startlinecolor": "#2a3f5f"
            },
            "baxis": {
             "endlinecolor": "#2a3f5f",
             "gridcolor": "white",
             "linecolor": "white",
             "minorgridcolor": "white",
             "startlinecolor": "#2a3f5f"
            },
            "type": "carpet"
           }
          ],
          "choropleth": [
           {
            "colorbar": {
             "outlinewidth": 0,
             "ticks": ""
            },
            "type": "choropleth"
           }
          ],
          "contour": [
           {
            "colorbar": {
             "outlinewidth": 0,
             "ticks": ""
            },
            "colorscale": [
             [
              0,
              "#0d0887"
             ],
             [
              0.1111111111111111,
              "#46039f"
             ],
             [
              0.2222222222222222,
              "#7201a8"
             ],
             [
              0.3333333333333333,
              "#9c179e"
             ],
             [
              0.4444444444444444,
              "#bd3786"
             ],
             [
              0.5555555555555556,
              "#d8576b"
             ],
             [
              0.6666666666666666,
              "#ed7953"
             ],
             [
              0.7777777777777778,
              "#fb9f3a"
             ],
             [
              0.8888888888888888,
              "#fdca26"
             ],
             [
              1,
              "#f0f921"
             ]
            ],
            "type": "contour"
           }
          ],
          "contourcarpet": [
           {
            "colorbar": {
             "outlinewidth": 0,
             "ticks": ""
            },
            "type": "contourcarpet"
           }
          ],
          "heatmap": [
           {
            "colorbar": {
             "outlinewidth": 0,
             "ticks": ""
            },
            "colorscale": [
             [
              0,
              "#0d0887"
             ],
             [
              0.1111111111111111,
              "#46039f"
             ],
             [
              0.2222222222222222,
              "#7201a8"
             ],
             [
              0.3333333333333333,
              "#9c179e"
             ],
             [
              0.4444444444444444,
              "#bd3786"
             ],
             [
              0.5555555555555556,
              "#d8576b"
             ],
             [
              0.6666666666666666,
              "#ed7953"
             ],
             [
              0.7777777777777778,
              "#fb9f3a"
             ],
             [
              0.8888888888888888,
              "#fdca26"
             ],
             [
              1,
              "#f0f921"
             ]
            ],
            "type": "heatmap"
           }
          ],
          "heatmapgl": [
           {
            "colorbar": {
             "outlinewidth": 0,
             "ticks": ""
            },
            "colorscale": [
             [
              0,
              "#0d0887"
             ],
             [
              0.1111111111111111,
              "#46039f"
             ],
             [
              0.2222222222222222,
              "#7201a8"
             ],
             [
              0.3333333333333333,
              "#9c179e"
             ],
             [
              0.4444444444444444,
              "#bd3786"
             ],
             [
              0.5555555555555556,
              "#d8576b"
             ],
             [
              0.6666666666666666,
              "#ed7953"
             ],
             [
              0.7777777777777778,
              "#fb9f3a"
             ],
             [
              0.8888888888888888,
              "#fdca26"
             ],
             [
              1,
              "#f0f921"
             ]
            ],
            "type": "heatmapgl"
           }
          ],
          "histogram": [
           {
            "marker": {
             "pattern": {
              "fillmode": "overlay",
              "size": 10,
              "solidity": 0.2
             }
            },
            "type": "histogram"
           }
          ],
          "histogram2d": [
           {
            "colorbar": {
             "outlinewidth": 0,
             "ticks": ""
            },
            "colorscale": [
             [
              0,
              "#0d0887"
             ],
             [
              0.1111111111111111,
              "#46039f"
             ],
             [
              0.2222222222222222,
              "#7201a8"
             ],
             [
              0.3333333333333333,
              "#9c179e"
             ],
             [
              0.4444444444444444,
              "#bd3786"
             ],
             [
              0.5555555555555556,
              "#d8576b"
             ],
             [
              0.6666666666666666,
              "#ed7953"
             ],
             [
              0.7777777777777778,
              "#fb9f3a"
             ],
             [
              0.8888888888888888,
              "#fdca26"
             ],
             [
              1,
              "#f0f921"
             ]
            ],
            "type": "histogram2d"
           }
          ],
          "histogram2dcontour": [
           {
            "colorbar": {
             "outlinewidth": 0,
             "ticks": ""
            },
            "colorscale": [
             [
              0,
              "#0d0887"
             ],
             [
              0.1111111111111111,
              "#46039f"
             ],
             [
              0.2222222222222222,
              "#7201a8"
             ],
             [
              0.3333333333333333,
              "#9c179e"
             ],
             [
              0.4444444444444444,
              "#bd3786"
             ],
             [
              0.5555555555555556,
              "#d8576b"
             ],
             [
              0.6666666666666666,
              "#ed7953"
             ],
             [
              0.7777777777777778,
              "#fb9f3a"
             ],
             [
              0.8888888888888888,
              "#fdca26"
             ],
             [
              1,
              "#f0f921"
             ]
            ],
            "type": "histogram2dcontour"
           }
          ],
          "mesh3d": [
           {
            "colorbar": {
             "outlinewidth": 0,
             "ticks": ""
            },
            "type": "mesh3d"
           }
          ],
          "parcoords": [
           {
            "line": {
             "colorbar": {
              "outlinewidth": 0,
              "ticks": ""
             }
            },
            "type": "parcoords"
           }
          ],
          "pie": [
           {
            "automargin": true,
            "type": "pie"
           }
          ],
          "scatter": [
           {
            "fillpattern": {
             "fillmode": "overlay",
             "size": 10,
             "solidity": 0.2
            },
            "type": "scatter"
           }
          ],
          "scatter3d": [
           {
            "line": {
             "colorbar": {
              "outlinewidth": 0,
              "ticks": ""
             }
            },
            "marker": {
             "colorbar": {
              "outlinewidth": 0,
              "ticks": ""
             }
            },
            "type": "scatter3d"
           }
          ],
          "scattercarpet": [
           {
            "marker": {
             "colorbar": {
              "outlinewidth": 0,
              "ticks": ""
             }
            },
            "type": "scattercarpet"
           }
          ],
          "scattergeo": [
           {
            "marker": {
             "colorbar": {
              "outlinewidth": 0,
              "ticks": ""
             }
            },
            "type": "scattergeo"
           }
          ],
          "scattergl": [
           {
            "marker": {
             "colorbar": {
              "outlinewidth": 0,
              "ticks": ""
             }
            },
            "type": "scattergl"
           }
          ],
          "scattermapbox": [
           {
            "marker": {
             "colorbar": {
              "outlinewidth": 0,
              "ticks": ""
             }
            },
            "type": "scattermapbox"
           }
          ],
          "scatterpolar": [
           {
            "marker": {
             "colorbar": {
              "outlinewidth": 0,
              "ticks": ""
             }
            },
            "type": "scatterpolar"
           }
          ],
          "scatterpolargl": [
           {
            "marker": {
             "colorbar": {
              "outlinewidth": 0,
              "ticks": ""
             }
            },
            "type": "scatterpolargl"
           }
          ],
          "scatterternary": [
           {
            "marker": {
             "colorbar": {
              "outlinewidth": 0,
              "ticks": ""
             }
            },
            "type": "scatterternary"
           }
          ],
          "surface": [
           {
            "colorbar": {
             "outlinewidth": 0,
             "ticks": ""
            },
            "colorscale": [
             [
              0,
              "#0d0887"
             ],
             [
              0.1111111111111111,
              "#46039f"
             ],
             [
              0.2222222222222222,
              "#7201a8"
             ],
             [
              0.3333333333333333,
              "#9c179e"
             ],
             [
              0.4444444444444444,
              "#bd3786"
             ],
             [
              0.5555555555555556,
              "#d8576b"
             ],
             [
              0.6666666666666666,
              "#ed7953"
             ],
             [
              0.7777777777777778,
              "#fb9f3a"
             ],
             [
              0.8888888888888888,
              "#fdca26"
             ],
             [
              1,
              "#f0f921"
             ]
            ],
            "type": "surface"
           }
          ],
          "table": [
           {
            "cells": {
             "fill": {
              "color": "#EBF0F8"
             },
             "line": {
              "color": "white"
             }
            },
            "header": {
             "fill": {
              "color": "#C8D4E3"
             },
             "line": {
              "color": "white"
             }
            },
            "type": "table"
           }
          ]
         },
         "layout": {
          "annotationdefaults": {
           "arrowcolor": "#2a3f5f",
           "arrowhead": 0,
           "arrowwidth": 1
          },
          "autotypenumbers": "strict",
          "coloraxis": {
           "colorbar": {
            "outlinewidth": 0,
            "ticks": ""
           }
          },
          "colorscale": {
           "diverging": [
            [
             0,
             "#8e0152"
            ],
            [
             0.1,
             "#c51b7d"
            ],
            [
             0.2,
             "#de77ae"
            ],
            [
             0.3,
             "#f1b6da"
            ],
            [
             0.4,
             "#fde0ef"
            ],
            [
             0.5,
             "#f7f7f7"
            ],
            [
             0.6,
             "#e6f5d0"
            ],
            [
             0.7,
             "#b8e186"
            ],
            [
             0.8,
             "#7fbc41"
            ],
            [
             0.9,
             "#4d9221"
            ],
            [
             1,
             "#276419"
            ]
           ],
           "sequential": [
            [
             0,
             "#0d0887"
            ],
            [
             0.1111111111111111,
             "#46039f"
            ],
            [
             0.2222222222222222,
             "#7201a8"
            ],
            [
             0.3333333333333333,
             "#9c179e"
            ],
            [
             0.4444444444444444,
             "#bd3786"
            ],
            [
             0.5555555555555556,
             "#d8576b"
            ],
            [
             0.6666666666666666,
             "#ed7953"
            ],
            [
             0.7777777777777778,
             "#fb9f3a"
            ],
            [
             0.8888888888888888,
             "#fdca26"
            ],
            [
             1,
             "#f0f921"
            ]
           ],
           "sequentialminus": [
            [
             0,
             "#0d0887"
            ],
            [
             0.1111111111111111,
             "#46039f"
            ],
            [
             0.2222222222222222,
             "#7201a8"
            ],
            [
             0.3333333333333333,
             "#9c179e"
            ],
            [
             0.4444444444444444,
             "#bd3786"
            ],
            [
             0.5555555555555556,
             "#d8576b"
            ],
            [
             0.6666666666666666,
             "#ed7953"
            ],
            [
             0.7777777777777778,
             "#fb9f3a"
            ],
            [
             0.8888888888888888,
             "#fdca26"
            ],
            [
             1,
             "#f0f921"
            ]
           ]
          },
          "colorway": [
           "#636efa",
           "#EF553B",
           "#00cc96",
           "#ab63fa",
           "#FFA15A",
           "#19d3f3",
           "#FF6692",
           "#B6E880",
           "#FF97FF",
           "#FECB52"
          ],
          "font": {
           "color": "#2a3f5f"
          },
          "geo": {
           "bgcolor": "white",
           "lakecolor": "white",
           "landcolor": "#E5ECF6",
           "showlakes": true,
           "showland": true,
           "subunitcolor": "white"
          },
          "hoverlabel": {
           "align": "left"
          },
          "hovermode": "closest",
          "mapbox": {
           "style": "light"
          },
          "paper_bgcolor": "white",
          "plot_bgcolor": "#E5ECF6",
          "polar": {
           "angularaxis": {
            "gridcolor": "white",
            "linecolor": "white",
            "ticks": ""
           },
           "bgcolor": "#E5ECF6",
           "radialaxis": {
            "gridcolor": "white",
            "linecolor": "white",
            "ticks": ""
           }
          },
          "scene": {
           "xaxis": {
            "backgroundcolor": "#E5ECF6",
            "gridcolor": "white",
            "gridwidth": 2,
            "linecolor": "white",
            "showbackground": true,
            "ticks": "",
            "zerolinecolor": "white"
           },
           "yaxis": {
            "backgroundcolor": "#E5ECF6",
            "gridcolor": "white",
            "gridwidth": 2,
            "linecolor": "white",
            "showbackground": true,
            "ticks": "",
            "zerolinecolor": "white"
           },
           "zaxis": {
            "backgroundcolor": "#E5ECF6",
            "gridcolor": "white",
            "gridwidth": 2,
            "linecolor": "white",
            "showbackground": true,
            "ticks": "",
            "zerolinecolor": "white"
           }
          },
          "shapedefaults": {
           "line": {
            "color": "#2a3f5f"
           }
          },
          "ternary": {
           "aaxis": {
            "gridcolor": "white",
            "linecolor": "white",
            "ticks": ""
           },
           "baxis": {
            "gridcolor": "white",
            "linecolor": "white",
            "ticks": ""
           },
           "bgcolor": "#E5ECF6",
           "caxis": {
            "gridcolor": "white",
            "linecolor": "white",
            "ticks": ""
           }
          },
          "title": {
           "x": 0.05
          },
          "xaxis": {
           "automargin": true,
           "gridcolor": "white",
           "linecolor": "white",
           "ticks": "",
           "title": {
            "standoff": 15
           },
           "zerolinecolor": "white",
           "zerolinewidth": 2
          },
          "yaxis": {
           "automargin": true,
           "gridcolor": "white",
           "linecolor": "white",
           "ticks": "",
           "title": {
            "standoff": 15
           },
           "zerolinecolor": "white",
           "zerolinewidth": 2
          }
         }
        },
        "title": {
         "text": "Location of top hotels in 5 different cities"
        },
        "width": 800
       }
      }
     },
     "metadata": {},
     "output_type": "display_data"
    }
   ],
   "source": [
    "df_final = df_cities_sorted.astype({\"latitude\": float, \"longitude\": float})\n",
    "\n",
    "fig = px.scatter_mapbox(df_final, lat=\"latitude\", lon=\"longitude\",\n",
    "                  \n",
    "                            mapbox_style=\"carto-positron\",zoom=4, width = 800,  height =860,title = 'Location of top hotels in 5 different cities',color='Temperature_avg'\n",
    "                          \n",
    "            )\n",
    "fig.show()"
   ]
  },
  {
   "cell_type": "markdown",
   "metadata": {},
   "source": [
    "## Scrapping"
   ]
  },
  {
   "cell_type": "code",
   "execution_count": null,
   "metadata": {},
   "outputs": [],
   "source": [
    "import requests\n",
    "from bs4 import BeautifulSoup\n",
    "import pandas as pd\n",
    "\n",
    "# Lire les données météo\n",
    "weather_data = pd.read_csv('files/cities_forecast_weather.csv')\n",
    "\n",
    "# Vérifier les données de weather_data\n",
    "print(\"Données météo lues depuis le fichier :\")\n",
    "print(weather_data.head())\n",
    "\n",
    "# Initialiser l'agent utilisateur pour les requêtes\n",
    "agent = {'User-Agent': 'Mozilla/5.0 (Windows NT 10.0; Win64; x64) AppleWebKit/537.36 (KHTML, like Gecko) Chrome/105.0.0.0 Safari/537.36'}\n",
    "\n",
    "# Construire les URL de recherche pour chaque ville du dataset météo\n",
    "search_urls = ['https://www.booking.com/searchresults.fr.html?ss='+city+'&nflt=review_score%3D60' for city in weather_data['name']]\n",
    "\n",
    "# Récupérer les URL des hôtels (25 premiers sur la page de recherche de Booking) pour chaque URL de recherche\n",
    "hotels_data = []\n",
    "\n",
    "for url in search_urls:\n",
    "    page = requests.get(url, headers=agent)\n",
    "    soup = BeautifulSoup(page.content, \"html.parser\")\n",
    "    \n",
    "    hotel_cards = soup.find_all('div', class_='sr_item')\n",
    "    \n",
    "    for card in hotel_cards:\n",
    "        hotel_data = {}\n",
    "        \n",
    "        # Nom de l'hôtel\n",
    "        hotel_data['name'] = card.find('span', class_='sr-hotel__name').text.strip()\n",
    "        \n",
    "        # Adresse de l'hôtel\n",
    "        address_element = card.find('div', class_='address')\n",
    "        hotel_data['address'] = address_element.text.strip() if address_element else 'N/A'\n",
    "        \n",
    "        # Description de l'hôtel\n",
    "        description_element = card.find('div', class_='hotel_desc')\n",
    "        hotel_data['description'] = description_element.text.strip() if description_element else 'N/A'\n",
    "        \n",
    "        # Score de l'hôtel\n",
    "        score_element = card.find('div', class_='bui-review-score__badge')\n",
    "        hotel_data['score'] = score_element.text.strip() if score_element else 'N/A'\n",
    "        \n",
    "        # Bonus ou équipements importants\n",
    "        bonus_element = card.find('div', class_='facility-badge')\n",
    "        hotel_data['bonus'] = bonus_element.text.strip() if bonus_element else 'N/A'\n",
    "        \n",
    "        # URL de l'hôtel\n",
    "        url_element = card.find('a', class_='hotel_name_link url')\n",
    "        hotel_data['url'] = url_element['href'] if url_element else 'N/A'\n",
    "        \n",
    "        hotels_data.append(hotel_data)\n",
    "\n",
    "# Vérifier les données des hôtels extraites\n",
    "print(\"\\nExemples de données d'hôtels extraites :\")\n",
    "print(hotels_data[:5])\n",
    "\n",
    "# Créer un DataFrame à partir des données des hôtels\n",
    "if hotels_data:\n",
    "    booking_data = pd.DataFrame(hotels_data)\n",
    "    \n",
    "    # Ajouter les colonnes supplémentaires de weather_data à booking_data\n",
    "    booking_data = pd.concat([weather_data] * (len(booking_data) // len(weather_data)), ignore_index=True)\n",
    "    booking_data = booking_data.drop(['latitude', 'longitude', 'Humidity', 'Temperature_avg', 'Temperature_min', 'Temperature_max', 'Temperature_perceived', 'Wind_speed', 'Cloudiness', 'Precipitation_prob'], axis=1)\n",
    "    \n",
    "    # Nettoyer les données textuelles\n",
    "    for col in ['description', 'score', 'bonus']:\n",
    "        booking_data[col] = booking_data[col].str.replace(r'\\n', ' ').str.replace(r'\\xa0', ' ')\n",
    "    \n",
    "    # Extraire la latitude et la longitude à partir des coordonnées et supprimer la colonne 'latlon'\n",
    "    booking_data[['latitude', 'longitude']] = booking_data['latlon'].str.split(',', expand=True)\n",
    "    booking_data = booking_data.drop('latlon', axis=1)\n",
    "    \n",
    "    # Convertir les types de données\n",
    "    booking_data[['latitude', 'longitude']] = booking_data[['latitude', 'longitude']].astype(float)\n",
    "    \n",
    "    # Utiliser une expression régulière pour extraire le score\n",
    "    booking_data['score'] = booking_data['score'].str.extract(r'(\\d+[\\.,]?\\d*)', expand=False).str.replace(',', '.').astype(float)\n",
    "    \n",
    "    print(\"\\nExemple de données finales après traitement :\")\n",
    "    print(booking_data.head())\n",
    "else:\n",
    "    print(\"Erreur : Aucune donnée d'hôtel n'a été extraite.\")\n",
    "\n"
   ]
  },
  {
   "cell_type": "code",
   "execution_count": 30,
   "metadata": {},
   "outputs": [],
   "source": [
    "# On sauvegarde les données sur les differents hotels\n",
    "\n",
    "booking_data.to_csv('files/booking_data.csv', index=False)"
   ]
  },
  {
   "cell_type": "code",
   "execution_count": null,
   "metadata": {},
   "outputs": [],
   "source": [
    "booking_data.sample(5)"
   ]
  },
  {
   "cell_type": "markdown",
   "metadata": {},
   "source": [
    "# STOCKAGE AWS S3"
   ]
  },
  {
   "cell_type": "code",
   "execution_count": 46,
   "metadata": {},
   "outputs": [],
   "source": [
    "# On cree un bucket s3 Amazon\n",
    "\n",
    "ACCESS_KEY_ID = os.environ.get('aws_access_key_id')\n",
    "SECRET_ACCESS_KEY = os.environ.get('aws_secret_access_key')\n",
    "\n",
    "bucketname = 'booking-mouton-files'"
   ]
  },
  {
   "cell_type": "code",
   "execution_count": null,
   "metadata": {},
   "outputs": [],
   "source": [
    "session = boto3.Session(\n",
    "    aws_access_key_id= ACCESS_KEY_ID,\n",
    "    aws_secret_access_key= SECRET_ACCESS_KEY\n",
    ")\n",
    "\n",
    "s3 = session.client(\"s3\")\n",
    "\n",
    "bucket = s3.create_bucket(Bucket=bucketname, ACL='public-read-write', CreateBucketConfiguration={'LocationConstraint': 'eu-west-3'})"
   ]
  },
  {
   "cell_type": "code",
   "execution_count": null,
   "metadata": {},
   "outputs": [],
   "source": [
    "\n",
    "# Chargement des fichiers\n",
    "\n",
    "s3.Bucket(bucketname).upload_file('files/booking_data.csv','booking_data.csv')\n",
    "s3.Bucket(bucketname).upload_file('files/cities_forecast_weather.csv','cities_forecast_weather.csv')"
   ]
  },
  {
   "cell_type": "code",
   "execution_count": null,
   "metadata": {},
   "outputs": [],
   "source": [
    "# Telechargement d'un dataset pour tester le upload\n",
    "\n",
    "booking_data = pd.read_csv(f\"https://{bucketname}.s3.eu-west-3.amazonaws.com/booking_data.csv\")\n",
    "booking_data.head()"
   ]
  },
  {
   "cell_type": "code",
   "execution_count": null,
   "metadata": {},
   "outputs": [],
   "source": [
    "login = open(\"login.txt\", \"r\").readlines()"
   ]
  },
  {
   "cell_type": "code",
   "execution_count": null,
   "metadata": {},
   "outputs": [],
   "source": [
    "# Configuration de RDS\n",
    "\n",
    "filename = \"booking_data.csv\"\n",
    "\n",
    "s3.download_file(bucketname, filename, filename)\n",
    "\n",
    "data = pd.read_csv(filename)\n",
    "\n",
    "# Connexion à la base de données MySQL\n",
    "\n",
    "# engine = create_engine(f\"mysql+pymysql://{DBUSER}:{DBPASS}@{DBHOST}:{PORT}/{DBNAME}\")\n",
    "engine = create_engine(f\"mysql+pymysql://{login[0].strip()}:{login[1].strip()}@{login[2].strip()}:{login[3].strip()}/{login[4].strip()}\")\n",
    "\n",
    "# Stocker les données dans la base de données\n",
    "data.to_sql('booking_data', con=engine, index=False, if_exists='replace')\n",
    "\n",
    "os.remove(filename)"
   ]
  },
  {
   "cell_type": "code",
   "execution_count": null,
   "metadata": {},
   "outputs": [],
   "source": [
    "engine"
   ]
  },
  {
   "cell_type": "code",
   "execution_count": null,
   "metadata": {},
   "outputs": [],
   "source": [
    "weather_data = pd.read_csv('files/cities_weather_data.csv')"
   ]
  },
  {
   "cell_type": "code",
   "execution_count": null,
   "metadata": {},
   "outputs": [],
   "source": [
    "# stocker les données météo et de réservation sous forme de tables SQL\n",
    "\n",
    "weather_data.to_sql('weather', con=engine, if_exists='replace', index=False)\n",
    "booking_data.to_sql('booking', con=engine, if_exists='replace', index=False)"
   ]
  },
  {
   "cell_type": "code",
   "execution_count": null,
   "metadata": {},
   "outputs": [],
   "source": [
    "# Obtenir des données météorologiques à partir d'une table SQL\n",
    "\n",
    "weather_query = text(\"SELECT * FROM weather WHERE quality > 10 ORDER BY quality DESC LIMIT 5\")\n",
    "weather_selection = pd.read_sql(weather_query, engine)\n",
    "weather_selection.head()"
   ]
  },
  {
   "cell_type": "code",
   "execution_count": null,
   "metadata": {},
   "outputs": [],
   "source": [
    "# choisir les hôtels dont nous avons besoin en fonction de la météo\n",
    "\n",
    "hotel_query = text(\"SELECT * FROM booking WHERE cities in ('Lyon','Paris','Annecy','La Rochelle','Avignon')\")\n",
    "hotel_selection = pd.read_sql(hotel_query, engine)\n",
    "hotel_selection.head()"
   ]
  }
 ],
 "metadata": {
  "kernelspec": {
   "display_name": "base",
   "language": "python",
   "name": "python3"
  },
  "language_info": {
   "codemirror_mode": {
    "name": "ipython",
    "version": 3
   },
   "file_extension": ".py",
   "mimetype": "text/x-python",
   "name": "python",
   "nbconvert_exporter": "python",
   "pygments_lexer": "ipython3",
   "version": "3.12.2"
  }
 },
 "nbformat": 4,
 "nbformat_minor": 2
}
